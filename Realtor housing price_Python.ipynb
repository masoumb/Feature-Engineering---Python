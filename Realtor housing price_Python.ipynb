{
 "cells": [
  {
   "cell_type": "markdown",
   "id": "71a67f99",
   "metadata": {},
   "source": [
    "# Realtor Real Estate USA "
   ]
  },
  {
   "cell_type": "markdown",
   "id": "d4ec14e9",
   "metadata": {},
   "source": [
    "# Problem Statement and Objectives\n",
    "- The objective of this work is to perform pre-processing, data cleaning and feature engineering to predict the home prices according to the available fatures in the dataset. "
   ]
  },
  {
   "cell_type": "markdown",
   "id": "32119011",
   "metadata": {},
   "source": [
    "# About the Dataset\n",
    "\n",
    "This dataset shows real estate listing in USA. \"csv. file\" contains 10 columns:\n",
    "* realtor-data.csv (100k+ entries)\n",
    "* status (Housing status - a. ready for sale or b. ready to build)\n",
    "* bed (# of beds)\n",
    "* bath (# of bathrooms)\n",
    "* acre_lot (Property / Land size in acres)\n",
    "* city (city name)\n",
    "* state (state name)\n",
    "* zip_code (postal code of the area)\n",
    "* house_size (house area/size/living space in square feet)\n",
    "* prev_sold_date (Previously sold date)\n",
    "* price (Housing price, it is either the current listing price or recently sold price if the house is sold recently)\n"
   ]
  },
  {
   "cell_type": "markdown",
   "id": "dee43a70",
   "metadata": {},
   "source": [
    "# Machine Leraning Models:\n",
    "- Linear Regression\n",
    "- Gradient Boosting\n",
    "- Neural Networks (Simple, Medium, Complex)"
   ]
  },
  {
   "cell_type": "markdown",
   "id": "434ac3da",
   "metadata": {},
   "source": [
    "# Import the Dataset"
   ]
  },
  {
   "cell_type": "code",
   "execution_count": 1,
   "id": "74e24b76",
   "metadata": {},
   "outputs": [],
   "source": [
    "import numpy as np\n",
    "import pandas as pd\n",
    "import seaborn as sns\n",
    "import warnings\n",
    "warnings.filterwarnings('ignore')\n",
    "sns.set()"
   ]
  },
  {
   "cell_type": "code",
   "execution_count": 2,
   "id": "9960e303",
   "metadata": {
    "scrolled": true
   },
   "outputs": [
    {
     "data": {
      "text/html": [
       "<div>\n",
       "<style scoped>\n",
       "    .dataframe tbody tr th:only-of-type {\n",
       "        vertical-align: middle;\n",
       "    }\n",
       "\n",
       "    .dataframe tbody tr th {\n",
       "        vertical-align: top;\n",
       "    }\n",
       "\n",
       "    .dataframe thead th {\n",
       "        text-align: right;\n",
       "    }\n",
       "</style>\n",
       "<table border=\"1\" class=\"dataframe\">\n",
       "  <thead>\n",
       "    <tr style=\"text-align: right;\">\n",
       "      <th></th>\n",
       "      <th>brokered_by</th>\n",
       "      <th>status</th>\n",
       "      <th>price</th>\n",
       "      <th>bed</th>\n",
       "      <th>bath</th>\n",
       "      <th>acre_lot</th>\n",
       "      <th>street</th>\n",
       "      <th>city</th>\n",
       "      <th>state</th>\n",
       "      <th>zip_code</th>\n",
       "      <th>house_size</th>\n",
       "      <th>prev_sold_date</th>\n",
       "    </tr>\n",
       "  </thead>\n",
       "  <tbody>\n",
       "    <tr>\n",
       "      <th>0</th>\n",
       "      <td>103378.0</td>\n",
       "      <td>for_sale</td>\n",
       "      <td>105000.0</td>\n",
       "      <td>3.0</td>\n",
       "      <td>2.0</td>\n",
       "      <td>0.12</td>\n",
       "      <td>1962661.0</td>\n",
       "      <td>Adjuntas</td>\n",
       "      <td>Puerto Rico</td>\n",
       "      <td>601.0</td>\n",
       "      <td>920.0</td>\n",
       "      <td>NaN</td>\n",
       "    </tr>\n",
       "    <tr>\n",
       "      <th>1</th>\n",
       "      <td>52707.0</td>\n",
       "      <td>for_sale</td>\n",
       "      <td>80000.0</td>\n",
       "      <td>4.0</td>\n",
       "      <td>2.0</td>\n",
       "      <td>0.08</td>\n",
       "      <td>1902874.0</td>\n",
       "      <td>Adjuntas</td>\n",
       "      <td>Puerto Rico</td>\n",
       "      <td>601.0</td>\n",
       "      <td>1527.0</td>\n",
       "      <td>NaN</td>\n",
       "    </tr>\n",
       "    <tr>\n",
       "      <th>2</th>\n",
       "      <td>103379.0</td>\n",
       "      <td>for_sale</td>\n",
       "      <td>67000.0</td>\n",
       "      <td>2.0</td>\n",
       "      <td>1.0</td>\n",
       "      <td>0.15</td>\n",
       "      <td>1404990.0</td>\n",
       "      <td>Juana Diaz</td>\n",
       "      <td>Puerto Rico</td>\n",
       "      <td>795.0</td>\n",
       "      <td>748.0</td>\n",
       "      <td>NaN</td>\n",
       "    </tr>\n",
       "    <tr>\n",
       "      <th>3</th>\n",
       "      <td>31239.0</td>\n",
       "      <td>for_sale</td>\n",
       "      <td>145000.0</td>\n",
       "      <td>4.0</td>\n",
       "      <td>2.0</td>\n",
       "      <td>0.10</td>\n",
       "      <td>1947675.0</td>\n",
       "      <td>Ponce</td>\n",
       "      <td>Puerto Rico</td>\n",
       "      <td>731.0</td>\n",
       "      <td>1800.0</td>\n",
       "      <td>NaN</td>\n",
       "    </tr>\n",
       "    <tr>\n",
       "      <th>4</th>\n",
       "      <td>34632.0</td>\n",
       "      <td>for_sale</td>\n",
       "      <td>65000.0</td>\n",
       "      <td>6.0</td>\n",
       "      <td>2.0</td>\n",
       "      <td>0.05</td>\n",
       "      <td>331151.0</td>\n",
       "      <td>Mayaguez</td>\n",
       "      <td>Puerto Rico</td>\n",
       "      <td>680.0</td>\n",
       "      <td>NaN</td>\n",
       "      <td>NaN</td>\n",
       "    </tr>\n",
       "  </tbody>\n",
       "</table>\n",
       "</div>"
      ],
      "text/plain": [
       "   brokered_by    status     price  bed  bath  acre_lot     street  \\\n",
       "0     103378.0  for_sale  105000.0  3.0   2.0      0.12  1962661.0   \n",
       "1      52707.0  for_sale   80000.0  4.0   2.0      0.08  1902874.0   \n",
       "2     103379.0  for_sale   67000.0  2.0   1.0      0.15  1404990.0   \n",
       "3      31239.0  for_sale  145000.0  4.0   2.0      0.10  1947675.0   \n",
       "4      34632.0  for_sale   65000.0  6.0   2.0      0.05   331151.0   \n",
       "\n",
       "         city        state  zip_code  house_size prev_sold_date  \n",
       "0    Adjuntas  Puerto Rico     601.0       920.0            NaN  \n",
       "1    Adjuntas  Puerto Rico     601.0      1527.0            NaN  \n",
       "2  Juana Diaz  Puerto Rico     795.0       748.0            NaN  \n",
       "3       Ponce  Puerto Rico     731.0      1800.0            NaN  \n",
       "4    Mayaguez  Puerto Rico     680.0         NaN            NaN  "
      ]
     },
     "execution_count": 2,
     "metadata": {},
     "output_type": "execute_result"
    }
   ],
   "source": [
    "df = pd.read_csv('realtor-data.zip.csv')\n",
    "df.head()"
   ]
  },
  {
   "cell_type": "code",
   "execution_count": 3,
   "id": "4bab59d7",
   "metadata": {},
   "outputs": [],
   "source": [
    "df_copy = df.copy()"
   ]
  },
  {
   "cell_type": "code",
   "execution_count": 4,
   "id": "d1ef06f4",
   "metadata": {},
   "outputs": [
    {
     "data": {
      "text/html": [
       "<div>\n",
       "<style scoped>\n",
       "    .dataframe tbody tr th:only-of-type {\n",
       "        vertical-align: middle;\n",
       "    }\n",
       "\n",
       "    .dataframe tbody tr th {\n",
       "        vertical-align: top;\n",
       "    }\n",
       "\n",
       "    .dataframe thead th {\n",
       "        text-align: right;\n",
       "    }\n",
       "</style>\n",
       "<table border=\"1\" class=\"dataframe\">\n",
       "  <thead>\n",
       "    <tr style=\"text-align: right;\">\n",
       "      <th></th>\n",
       "      <th>brokered_by</th>\n",
       "      <th>price</th>\n",
       "      <th>bed</th>\n",
       "      <th>bath</th>\n",
       "      <th>acre_lot</th>\n",
       "      <th>street</th>\n",
       "      <th>zip_code</th>\n",
       "      <th>house_size</th>\n",
       "    </tr>\n",
       "  </thead>\n",
       "  <tbody>\n",
       "    <tr>\n",
       "      <th>count</th>\n",
       "      <td>2.221849e+06</td>\n",
       "      <td>2.224841e+06</td>\n",
       "      <td>1.745065e+06</td>\n",
       "      <td>1.714611e+06</td>\n",
       "      <td>1.900793e+06</td>\n",
       "      <td>2.215516e+06</td>\n",
       "      <td>2.226083e+06</td>\n",
       "      <td>1.657898e+06</td>\n",
       "    </tr>\n",
       "    <tr>\n",
       "      <th>mean</th>\n",
       "      <td>5.293989e+04</td>\n",
       "      <td>5.241955e+05</td>\n",
       "      <td>3.275841e+00</td>\n",
       "      <td>2.496440e+00</td>\n",
       "      <td>1.522303e+01</td>\n",
       "      <td>1.012325e+06</td>\n",
       "      <td>5.218668e+04</td>\n",
       "      <td>2.714471e+03</td>\n",
       "    </tr>\n",
       "    <tr>\n",
       "      <th>std</th>\n",
       "      <td>3.064275e+04</td>\n",
       "      <td>2.138893e+06</td>\n",
       "      <td>1.567274e+00</td>\n",
       "      <td>1.652573e+00</td>\n",
       "      <td>7.628238e+02</td>\n",
       "      <td>5.837635e+05</td>\n",
       "      <td>2.895408e+04</td>\n",
       "      <td>8.081635e+05</td>\n",
       "    </tr>\n",
       "    <tr>\n",
       "      <th>min</th>\n",
       "      <td>0.000000e+00</td>\n",
       "      <td>0.000000e+00</td>\n",
       "      <td>1.000000e+00</td>\n",
       "      <td>1.000000e+00</td>\n",
       "      <td>0.000000e+00</td>\n",
       "      <td>0.000000e+00</td>\n",
       "      <td>0.000000e+00</td>\n",
       "      <td>4.000000e+00</td>\n",
       "    </tr>\n",
       "    <tr>\n",
       "      <th>25%</th>\n",
       "      <td>2.386100e+04</td>\n",
       "      <td>1.650000e+05</td>\n",
       "      <td>3.000000e+00</td>\n",
       "      <td>2.000000e+00</td>\n",
       "      <td>1.500000e-01</td>\n",
       "      <td>5.063128e+05</td>\n",
       "      <td>2.961700e+04</td>\n",
       "      <td>1.300000e+03</td>\n",
       "    </tr>\n",
       "    <tr>\n",
       "      <th>50%</th>\n",
       "      <td>5.288400e+04</td>\n",
       "      <td>3.250000e+05</td>\n",
       "      <td>3.000000e+00</td>\n",
       "      <td>2.000000e+00</td>\n",
       "      <td>2.600000e-01</td>\n",
       "      <td>1.012766e+06</td>\n",
       "      <td>4.838200e+04</td>\n",
       "      <td>1.760000e+03</td>\n",
       "    </tr>\n",
       "    <tr>\n",
       "      <th>75%</th>\n",
       "      <td>7.918300e+04</td>\n",
       "      <td>5.500000e+05</td>\n",
       "      <td>4.000000e+00</td>\n",
       "      <td>3.000000e+00</td>\n",
       "      <td>9.800000e-01</td>\n",
       "      <td>1.521173e+06</td>\n",
       "      <td>7.807000e+04</td>\n",
       "      <td>2.413000e+03</td>\n",
       "    </tr>\n",
       "    <tr>\n",
       "      <th>max</th>\n",
       "      <td>1.101420e+05</td>\n",
       "      <td>2.147484e+09</td>\n",
       "      <td>4.730000e+02</td>\n",
       "      <td>8.300000e+02</td>\n",
       "      <td>1.000000e+05</td>\n",
       "      <td>2.001357e+06</td>\n",
       "      <td>9.999900e+04</td>\n",
       "      <td>1.040400e+09</td>\n",
       "    </tr>\n",
       "  </tbody>\n",
       "</table>\n",
       "</div>"
      ],
      "text/plain": [
       "        brokered_by         price           bed          bath      acre_lot  \\\n",
       "count  2.221849e+06  2.224841e+06  1.745065e+06  1.714611e+06  1.900793e+06   \n",
       "mean   5.293989e+04  5.241955e+05  3.275841e+00  2.496440e+00  1.522303e+01   \n",
       "std    3.064275e+04  2.138893e+06  1.567274e+00  1.652573e+00  7.628238e+02   \n",
       "min    0.000000e+00  0.000000e+00  1.000000e+00  1.000000e+00  0.000000e+00   \n",
       "25%    2.386100e+04  1.650000e+05  3.000000e+00  2.000000e+00  1.500000e-01   \n",
       "50%    5.288400e+04  3.250000e+05  3.000000e+00  2.000000e+00  2.600000e-01   \n",
       "75%    7.918300e+04  5.500000e+05  4.000000e+00  3.000000e+00  9.800000e-01   \n",
       "max    1.101420e+05  2.147484e+09  4.730000e+02  8.300000e+02  1.000000e+05   \n",
       "\n",
       "             street      zip_code    house_size  \n",
       "count  2.215516e+06  2.226083e+06  1.657898e+06  \n",
       "mean   1.012325e+06  5.218668e+04  2.714471e+03  \n",
       "std    5.837635e+05  2.895408e+04  8.081635e+05  \n",
       "min    0.000000e+00  0.000000e+00  4.000000e+00  \n",
       "25%    5.063128e+05  2.961700e+04  1.300000e+03  \n",
       "50%    1.012766e+06  4.838200e+04  1.760000e+03  \n",
       "75%    1.521173e+06  7.807000e+04  2.413000e+03  \n",
       "max    2.001357e+06  9.999900e+04  1.040400e+09  "
      ]
     },
     "execution_count": 4,
     "metadata": {},
     "output_type": "execute_result"
    }
   ],
   "source": [
    "df.describe()"
   ]
  },
  {
   "cell_type": "code",
   "execution_count": 5,
   "id": "bc706c71",
   "metadata": {},
   "outputs": [
    {
     "name": "stdout",
     "output_type": "stream",
     "text": [
      "<class 'pandas.core.frame.DataFrame'>\n",
      "RangeIndex: 2226382 entries, 0 to 2226381\n",
      "Data columns (total 12 columns):\n",
      " #   Column          Dtype  \n",
      "---  ------          -----  \n",
      " 0   brokered_by     float64\n",
      " 1   status          object \n",
      " 2   price           float64\n",
      " 3   bed             float64\n",
      " 4   bath            float64\n",
      " 5   acre_lot        float64\n",
      " 6   street          float64\n",
      " 7   city            object \n",
      " 8   state           object \n",
      " 9   zip_code        float64\n",
      " 10  house_size      float64\n",
      " 11  prev_sold_date  object \n",
      "dtypes: float64(8), object(4)\n",
      "memory usage: 203.8+ MB\n"
     ]
    }
   ],
   "source": [
    "df.info()"
   ]
  },
  {
   "cell_type": "code",
   "execution_count": 6,
   "id": "fb462266",
   "metadata": {
    "scrolled": false
   },
   "outputs": [
    {
     "name": "stdout",
     "output_type": "stream",
     "text": [
      "status\n",
      "for_sale          1389306\n",
      "sold               812009\n",
      "ready_to_build      25067\n",
      "Name: count, dtype: int64\n",
      "***********************************\n",
      "city\n",
      "Houston                        23862\n",
      "Chicago                        18238\n",
      "New York City                  12634\n",
      "Jacksonville                   11743\n",
      "Philadelphia                   10449\n",
      "                               ...  \n",
      "Angel Ifre                         1\n",
      "Colfax County Moreno Valley        1\n",
      "Little Sioux                       1\n",
      "Trementina                         1\n",
      "Kahlotus                           1\n",
      "Name: count, Length: 20098, dtype: int64\n",
      "***********************************\n",
      "state\n",
      "Florida                 249432\n",
      "California              227215\n",
      "Texas                   208335\n",
      "New York                103159\n",
      "North Carolina           85745\n",
      "Illinois                 85280\n",
      "Georgia                  80977\n",
      "Pennsylvania             78373\n",
      "Arizona                  72825\n",
      "Virginia                 68763\n",
      "Washington               62461\n",
      "Ohio                     59207\n",
      "New Jersey               48199\n",
      "Maryland                 46052\n",
      "Missouri                 45145\n",
      "Minnesota                43412\n",
      "Michigan                 42429\n",
      "Wisconsin                42390\n",
      "South Carolina           42367\n",
      "Tennessee                40964\n",
      "Massachusetts            38041\n",
      "Oklahoma                 37140\n",
      "Alabama                  34053\n",
      "Colorado                 32293\n",
      "Oregon                   32163\n",
      "Kentucky                 26316\n",
      "Louisiana                25815\n",
      "Arkansas                 23045\n",
      "Iowa                     23033\n",
      "New Mexico               21074\n",
      "Indiana                  18840\n",
      "Idaho                    16760\n",
      "Mississippi              16255\n",
      "Kansas                   14858\n",
      "Nevada                   14667\n",
      "Utah                     14557\n",
      "Connecticut              14008\n",
      "West Virginia            12309\n",
      "Montana                  10059\n",
      "Delaware                  8628\n",
      "Rhode Island              8157\n",
      "Hawaii                    7243\n",
      "District of Columbia      6625\n",
      "Nebraska                  6309\n",
      "Maine                     5065\n",
      "South Dakota              4690\n",
      "North Dakota              4268\n",
      "Wyoming                   4039\n",
      "New Hampshire             3642\n",
      "Puerto Rico               3126\n",
      "Vermont                   2600\n",
      "Alaska                    2581\n",
      "Virgin Islands             895\n",
      "Guam                       489\n",
      "New Brunswick                1\n",
      "Name: count, dtype: int64\n",
      "***********************************\n"
     ]
    }
   ],
   "source": [
    "print(df.status.value_counts(),sep = '\\n')\n",
    "print(\"*\"*35)\n",
    "print(df.city.value_counts(),sep = '\\n')\n",
    "print(\"*\"*35)\n",
    "print(df.state.value_counts(),sep = '\\n')\n",
    "print(\"*\"*35)"
   ]
  },
  {
   "cell_type": "markdown",
   "id": "e1fe4331",
   "metadata": {},
   "source": [
    "# 1. Dealing with Null Values\n",
    "\n",
    "- Handling missing values (null values) and outliers is a crucial part of data preprocessing. The order in which you perform these steps can impact the results of your analysis or model training. Generally, the recommended approach is to first handle missing values and then address outliers through Step-by-Step Process\n",
    "\n",
    "- Remove or Impute Null Values: \n",
    "Null values can interfere with calculations and statistical measures, and most machine learning algorithms do not accept missing values. Decide whether to remove rows/columns with missing values or to impute (fill in) the missing values using techniques like mean/median imputation, forward fill, or using more advanced methods like K-Nearest Neighbors."
   ]
  },
  {
   "cell_type": "markdown",
   "id": "57278e50",
   "metadata": {},
   "source": [
    "- Let's find out about Null values"
   ]
  },
  {
   "cell_type": "code",
   "execution_count": 7,
   "id": "f3f698d1",
   "metadata": {
    "scrolled": false
   },
   "outputs": [
    {
     "data": {
      "text/plain": [
       "brokered_by         4533\n",
       "status                 0\n",
       "price               1541\n",
       "bed               481317\n",
       "bath              511771\n",
       "acre_lot          325589\n",
       "street             10866\n",
       "city                1407\n",
       "state                  8\n",
       "zip_code             299\n",
       "house_size        568484\n",
       "prev_sold_date    734297\n",
       "dtype: int64"
      ]
     },
     "execution_count": 7,
     "metadata": {},
     "output_type": "execute_result"
    }
   ],
   "source": [
    "df.isnull().sum()"
   ]
  },
  {
   "cell_type": "markdown",
   "id": "94f109c5",
   "metadata": {},
   "source": [
    "- Percentage of Null values in each column"
   ]
  },
  {
   "cell_type": "code",
   "execution_count": 8,
   "id": "f808dbdb",
   "metadata": {},
   "outputs": [],
   "source": [
    "def find_missings(df):\n",
    "    return round(df.isnull().sum()/df.shape[0]*100,2)"
   ]
  },
  {
   "cell_type": "code",
   "execution_count": 9,
   "id": "6c0d0190",
   "metadata": {
    "scrolled": true
   },
   "outputs": [
    {
     "data": {
      "text/plain": [
       "brokered_by        0.20\n",
       "status             0.00\n",
       "price              0.07\n",
       "bed               21.62\n",
       "bath              22.99\n",
       "acre_lot          14.62\n",
       "street             0.49\n",
       "city               0.06\n",
       "state              0.00\n",
       "zip_code           0.01\n",
       "house_size        25.53\n",
       "prev_sold_date    32.98\n",
       "dtype: float64"
      ]
     },
     "execution_count": 9,
     "metadata": {},
     "output_type": "execute_result"
    }
   ],
   "source": [
    "find_missings(df)"
   ]
  },
  {
   "cell_type": "markdown",
   "id": "6827ccaa",
   "metadata": {},
   "source": [
    "- missing values of the column we are interested in are as follow:\n",
    " \"bed\": 21.62%, \"bath\":22.99%, \"acre_lot\": 14.62%, \"house_size\": 25.53%, \"prev_sold_date\": 32.98%, \"street\": 0.49%, \"city\": 0.06%, \"price\": 0.07%\n"
   ]
  },
  {
   "cell_type": "markdown",
   "id": "0d4cdf4f",
   "metadata": {},
   "source": [
    "- Drop rows where column 'price' has null values"
   ]
  },
  {
   "cell_type": "code",
   "execution_count": 10,
   "id": "2ccb27d1",
   "metadata": {
    "scrolled": false
   },
   "outputs": [
    {
     "data": {
      "text/html": [
       "<div>\n",
       "<style scoped>\n",
       "    .dataframe tbody tr th:only-of-type {\n",
       "        vertical-align: middle;\n",
       "    }\n",
       "\n",
       "    .dataframe tbody tr th {\n",
       "        vertical-align: top;\n",
       "    }\n",
       "\n",
       "    .dataframe thead th {\n",
       "        text-align: right;\n",
       "    }\n",
       "</style>\n",
       "<table border=\"1\" class=\"dataframe\">\n",
       "  <thead>\n",
       "    <tr style=\"text-align: right;\">\n",
       "      <th></th>\n",
       "      <th>brokered_by</th>\n",
       "      <th>status</th>\n",
       "      <th>price</th>\n",
       "      <th>bed</th>\n",
       "      <th>bath</th>\n",
       "      <th>acre_lot</th>\n",
       "      <th>street</th>\n",
       "      <th>city</th>\n",
       "      <th>state</th>\n",
       "      <th>zip_code</th>\n",
       "      <th>house_size</th>\n",
       "      <th>prev_sold_date</th>\n",
       "    </tr>\n",
       "  </thead>\n",
       "  <tbody>\n",
       "    <tr>\n",
       "      <th>0</th>\n",
       "      <td>103378.0</td>\n",
       "      <td>for_sale</td>\n",
       "      <td>105000.0</td>\n",
       "      <td>3.0</td>\n",
       "      <td>2.0</td>\n",
       "      <td>0.12</td>\n",
       "      <td>1962661.0</td>\n",
       "      <td>Adjuntas</td>\n",
       "      <td>Puerto Rico</td>\n",
       "      <td>601.0</td>\n",
       "      <td>920.0</td>\n",
       "      <td>NaN</td>\n",
       "    </tr>\n",
       "    <tr>\n",
       "      <th>1</th>\n",
       "      <td>52707.0</td>\n",
       "      <td>for_sale</td>\n",
       "      <td>80000.0</td>\n",
       "      <td>4.0</td>\n",
       "      <td>2.0</td>\n",
       "      <td>0.08</td>\n",
       "      <td>1902874.0</td>\n",
       "      <td>Adjuntas</td>\n",
       "      <td>Puerto Rico</td>\n",
       "      <td>601.0</td>\n",
       "      <td>1527.0</td>\n",
       "      <td>NaN</td>\n",
       "    </tr>\n",
       "    <tr>\n",
       "      <th>2</th>\n",
       "      <td>103379.0</td>\n",
       "      <td>for_sale</td>\n",
       "      <td>67000.0</td>\n",
       "      <td>2.0</td>\n",
       "      <td>1.0</td>\n",
       "      <td>0.15</td>\n",
       "      <td>1404990.0</td>\n",
       "      <td>Juana Diaz</td>\n",
       "      <td>Puerto Rico</td>\n",
       "      <td>795.0</td>\n",
       "      <td>748.0</td>\n",
       "      <td>NaN</td>\n",
       "    </tr>\n",
       "    <tr>\n",
       "      <th>3</th>\n",
       "      <td>31239.0</td>\n",
       "      <td>for_sale</td>\n",
       "      <td>145000.0</td>\n",
       "      <td>4.0</td>\n",
       "      <td>2.0</td>\n",
       "      <td>0.10</td>\n",
       "      <td>1947675.0</td>\n",
       "      <td>Ponce</td>\n",
       "      <td>Puerto Rico</td>\n",
       "      <td>731.0</td>\n",
       "      <td>1800.0</td>\n",
       "      <td>NaN</td>\n",
       "    </tr>\n",
       "    <tr>\n",
       "      <th>4</th>\n",
       "      <td>34632.0</td>\n",
       "      <td>for_sale</td>\n",
       "      <td>65000.0</td>\n",
       "      <td>6.0</td>\n",
       "      <td>2.0</td>\n",
       "      <td>0.05</td>\n",
       "      <td>331151.0</td>\n",
       "      <td>Mayaguez</td>\n",
       "      <td>Puerto Rico</td>\n",
       "      <td>680.0</td>\n",
       "      <td>NaN</td>\n",
       "      <td>NaN</td>\n",
       "    </tr>\n",
       "  </tbody>\n",
       "</table>\n",
       "</div>"
      ],
      "text/plain": [
       "   brokered_by    status     price  bed  bath  acre_lot     street  \\\n",
       "0     103378.0  for_sale  105000.0  3.0   2.0      0.12  1962661.0   \n",
       "1      52707.0  for_sale   80000.0  4.0   2.0      0.08  1902874.0   \n",
       "2     103379.0  for_sale   67000.0  2.0   1.0      0.15  1404990.0   \n",
       "3      31239.0  for_sale  145000.0  4.0   2.0      0.10  1947675.0   \n",
       "4      34632.0  for_sale   65000.0  6.0   2.0      0.05   331151.0   \n",
       "\n",
       "         city        state  zip_code  house_size prev_sold_date  \n",
       "0    Adjuntas  Puerto Rico     601.0       920.0            NaN  \n",
       "1    Adjuntas  Puerto Rico     601.0      1527.0            NaN  \n",
       "2  Juana Diaz  Puerto Rico     795.0       748.0            NaN  \n",
       "3       Ponce  Puerto Rico     731.0      1800.0            NaN  \n",
       "4    Mayaguez  Puerto Rico     680.0         NaN            NaN  "
      ]
     },
     "execution_count": 10,
     "metadata": {},
     "output_type": "execute_result"
    }
   ],
   "source": [
    "df = df.dropna(subset=['price'])\n",
    "df.head()"
   ]
  },
  {
   "cell_type": "markdown",
   "id": "a007dfef",
   "metadata": {},
   "source": [
    "- Choosing wanted columns"
   ]
  },
  {
   "cell_type": "code",
   "execution_count": 11,
   "id": "ea0703a0",
   "metadata": {
    "scrolled": false
   },
   "outputs": [
    {
     "data": {
      "text/html": [
       "<div>\n",
       "<style scoped>\n",
       "    .dataframe tbody tr th:only-of-type {\n",
       "        vertical-align: middle;\n",
       "    }\n",
       "\n",
       "    .dataframe tbody tr th {\n",
       "        vertical-align: top;\n",
       "    }\n",
       "\n",
       "    .dataframe thead th {\n",
       "        text-align: right;\n",
       "    }\n",
       "</style>\n",
       "<table border=\"1\" class=\"dataframe\">\n",
       "  <thead>\n",
       "    <tr style=\"text-align: right;\">\n",
       "      <th></th>\n",
       "      <th>status</th>\n",
       "      <th>bed</th>\n",
       "      <th>bath</th>\n",
       "      <th>acre_lot</th>\n",
       "      <th>street</th>\n",
       "      <th>city</th>\n",
       "      <th>state</th>\n",
       "      <th>zip_code</th>\n",
       "      <th>house_size</th>\n",
       "      <th>price</th>\n",
       "    </tr>\n",
       "  </thead>\n",
       "  <tbody>\n",
       "    <tr>\n",
       "      <th>0</th>\n",
       "      <td>for_sale</td>\n",
       "      <td>3.0</td>\n",
       "      <td>2.0</td>\n",
       "      <td>0.12</td>\n",
       "      <td>1962661.0</td>\n",
       "      <td>Adjuntas</td>\n",
       "      <td>Puerto Rico</td>\n",
       "      <td>601.0</td>\n",
       "      <td>920.0</td>\n",
       "      <td>105000.0</td>\n",
       "    </tr>\n",
       "    <tr>\n",
       "      <th>1</th>\n",
       "      <td>for_sale</td>\n",
       "      <td>4.0</td>\n",
       "      <td>2.0</td>\n",
       "      <td>0.08</td>\n",
       "      <td>1902874.0</td>\n",
       "      <td>Adjuntas</td>\n",
       "      <td>Puerto Rico</td>\n",
       "      <td>601.0</td>\n",
       "      <td>1527.0</td>\n",
       "      <td>80000.0</td>\n",
       "    </tr>\n",
       "    <tr>\n",
       "      <th>2</th>\n",
       "      <td>for_sale</td>\n",
       "      <td>2.0</td>\n",
       "      <td>1.0</td>\n",
       "      <td>0.15</td>\n",
       "      <td>1404990.0</td>\n",
       "      <td>Juana Diaz</td>\n",
       "      <td>Puerto Rico</td>\n",
       "      <td>795.0</td>\n",
       "      <td>748.0</td>\n",
       "      <td>67000.0</td>\n",
       "    </tr>\n",
       "    <tr>\n",
       "      <th>3</th>\n",
       "      <td>for_sale</td>\n",
       "      <td>4.0</td>\n",
       "      <td>2.0</td>\n",
       "      <td>0.10</td>\n",
       "      <td>1947675.0</td>\n",
       "      <td>Ponce</td>\n",
       "      <td>Puerto Rico</td>\n",
       "      <td>731.0</td>\n",
       "      <td>1800.0</td>\n",
       "      <td>145000.0</td>\n",
       "    </tr>\n",
       "    <tr>\n",
       "      <th>4</th>\n",
       "      <td>for_sale</td>\n",
       "      <td>6.0</td>\n",
       "      <td>2.0</td>\n",
       "      <td>0.05</td>\n",
       "      <td>331151.0</td>\n",
       "      <td>Mayaguez</td>\n",
       "      <td>Puerto Rico</td>\n",
       "      <td>680.0</td>\n",
       "      <td>NaN</td>\n",
       "      <td>65000.0</td>\n",
       "    </tr>\n",
       "  </tbody>\n",
       "</table>\n",
       "</div>"
      ],
      "text/plain": [
       "     status  bed  bath  acre_lot     street        city        state  \\\n",
       "0  for_sale  3.0   2.0      0.12  1962661.0    Adjuntas  Puerto Rico   \n",
       "1  for_sale  4.0   2.0      0.08  1902874.0    Adjuntas  Puerto Rico   \n",
       "2  for_sale  2.0   1.0      0.15  1404990.0  Juana Diaz  Puerto Rico   \n",
       "3  for_sale  4.0   2.0      0.10  1947675.0       Ponce  Puerto Rico   \n",
       "4  for_sale  6.0   2.0      0.05   331151.0    Mayaguez  Puerto Rico   \n",
       "\n",
       "   zip_code  house_size     price  \n",
       "0     601.0       920.0  105000.0  \n",
       "1     601.0      1527.0   80000.0  \n",
       "2     795.0       748.0   67000.0  \n",
       "3     731.0      1800.0  145000.0  \n",
       "4     680.0         NaN   65000.0  "
      ]
     },
     "execution_count": 11,
     "metadata": {},
     "output_type": "execute_result"
    }
   ],
   "source": [
    "df=df[['status', 'bed', 'bath', 'acre_lot', 'street', 'city', 'state', 'zip_code', 'house_size', 'price']]\n",
    "df.head()"
   ]
  },
  {
   "cell_type": "markdown",
   "id": "771c8fbe",
   "metadata": {},
   "source": [
    "## 1-1    Interpolation Method:\n",
    "- To fill null values using interpolation in Python, you can use the interpolate() method provided by the Pandas library. This method works by estimating the missing values based on surrounding data points.\n",
    "- This method is very flexible and useful when you need to estimate missing data based on trends in the dataset."
   ]
  },
  {
   "cell_type": "markdown",
   "id": "a54f9054",
   "metadata": {},
   "source": [
    "- Dataframe with no quantitative values"
   ]
  },
  {
   "cell_type": "code",
   "execution_count": 12,
   "id": "dc7edb9f",
   "metadata": {},
   "outputs": [
    {
     "data": {
      "text/html": [
       "<div>\n",
       "<style scoped>\n",
       "    .dataframe tbody tr th:only-of-type {\n",
       "        vertical-align: middle;\n",
       "    }\n",
       "\n",
       "    .dataframe tbody tr th {\n",
       "        vertical-align: top;\n",
       "    }\n",
       "\n",
       "    .dataframe thead th {\n",
       "        text-align: right;\n",
       "    }\n",
       "</style>\n",
       "<table border=\"1\" class=\"dataframe\">\n",
       "  <thead>\n",
       "    <tr style=\"text-align: right;\">\n",
       "      <th></th>\n",
       "      <th>status</th>\n",
       "      <th>street</th>\n",
       "      <th>city</th>\n",
       "      <th>state</th>\n",
       "      <th>zip_code</th>\n",
       "      <th>price</th>\n",
       "    </tr>\n",
       "  </thead>\n",
       "  <tbody>\n",
       "    <tr>\n",
       "      <th>0</th>\n",
       "      <td>for_sale</td>\n",
       "      <td>1962661.0</td>\n",
       "      <td>Adjuntas</td>\n",
       "      <td>Puerto Rico</td>\n",
       "      <td>601.0</td>\n",
       "      <td>105000.0</td>\n",
       "    </tr>\n",
       "    <tr>\n",
       "      <th>1</th>\n",
       "      <td>for_sale</td>\n",
       "      <td>1902874.0</td>\n",
       "      <td>Adjuntas</td>\n",
       "      <td>Puerto Rico</td>\n",
       "      <td>601.0</td>\n",
       "      <td>80000.0</td>\n",
       "    </tr>\n",
       "    <tr>\n",
       "      <th>2</th>\n",
       "      <td>for_sale</td>\n",
       "      <td>1404990.0</td>\n",
       "      <td>Juana Diaz</td>\n",
       "      <td>Puerto Rico</td>\n",
       "      <td>795.0</td>\n",
       "      <td>67000.0</td>\n",
       "    </tr>\n",
       "    <tr>\n",
       "      <th>3</th>\n",
       "      <td>for_sale</td>\n",
       "      <td>1947675.0</td>\n",
       "      <td>Ponce</td>\n",
       "      <td>Puerto Rico</td>\n",
       "      <td>731.0</td>\n",
       "      <td>145000.0</td>\n",
       "    </tr>\n",
       "    <tr>\n",
       "      <th>4</th>\n",
       "      <td>for_sale</td>\n",
       "      <td>331151.0</td>\n",
       "      <td>Mayaguez</td>\n",
       "      <td>Puerto Rico</td>\n",
       "      <td>680.0</td>\n",
       "      <td>65000.0</td>\n",
       "    </tr>\n",
       "  </tbody>\n",
       "</table>\n",
       "</div>"
      ],
      "text/plain": [
       "     status     street        city        state  zip_code     price\n",
       "0  for_sale  1962661.0    Adjuntas  Puerto Rico     601.0  105000.0\n",
       "1  for_sale  1902874.0    Adjuntas  Puerto Rico     601.0   80000.0\n",
       "2  for_sale  1404990.0  Juana Diaz  Puerto Rico     795.0   67000.0\n",
       "3  for_sale  1947675.0       Ponce  Puerto Rico     731.0  145000.0\n",
       "4  for_sale   331151.0    Mayaguez  Puerto Rico     680.0   65000.0"
      ]
     },
     "execution_count": 12,
     "metadata": {},
     "output_type": "execute_result"
    }
   ],
   "source": [
    "df_no_interp=df[['status', 'street', 'city', 'state', 'zip_code', 'price']]\n",
    "df_no_interp.head()"
   ]
  },
  {
   "cell_type": "markdown",
   "id": "2e6f4925",
   "metadata": {},
   "source": [
    "- Dataframe to be used for linear interpolation method"
   ]
  },
  {
   "cell_type": "code",
   "execution_count": 13,
   "id": "fb0f84a0",
   "metadata": {},
   "outputs": [
    {
     "data": {
      "text/html": [
       "<div>\n",
       "<style scoped>\n",
       "    .dataframe tbody tr th:only-of-type {\n",
       "        vertical-align: middle;\n",
       "    }\n",
       "\n",
       "    .dataframe tbody tr th {\n",
       "        vertical-align: top;\n",
       "    }\n",
       "\n",
       "    .dataframe thead th {\n",
       "        text-align: right;\n",
       "    }\n",
       "</style>\n",
       "<table border=\"1\" class=\"dataframe\">\n",
       "  <thead>\n",
       "    <tr style=\"text-align: right;\">\n",
       "      <th></th>\n",
       "      <th>bath</th>\n",
       "      <th>bed</th>\n",
       "      <th>acre_lot</th>\n",
       "      <th>house_size</th>\n",
       "    </tr>\n",
       "  </thead>\n",
       "  <tbody>\n",
       "    <tr>\n",
       "      <th>0</th>\n",
       "      <td>2.0</td>\n",
       "      <td>3.0</td>\n",
       "      <td>0.12</td>\n",
       "      <td>920.0</td>\n",
       "    </tr>\n",
       "    <tr>\n",
       "      <th>1</th>\n",
       "      <td>2.0</td>\n",
       "      <td>4.0</td>\n",
       "      <td>0.08</td>\n",
       "      <td>1527.0</td>\n",
       "    </tr>\n",
       "    <tr>\n",
       "      <th>2</th>\n",
       "      <td>1.0</td>\n",
       "      <td>2.0</td>\n",
       "      <td>0.15</td>\n",
       "      <td>748.0</td>\n",
       "    </tr>\n",
       "    <tr>\n",
       "      <th>3</th>\n",
       "      <td>2.0</td>\n",
       "      <td>4.0</td>\n",
       "      <td>0.10</td>\n",
       "      <td>1800.0</td>\n",
       "    </tr>\n",
       "    <tr>\n",
       "      <th>4</th>\n",
       "      <td>2.0</td>\n",
       "      <td>6.0</td>\n",
       "      <td>0.05</td>\n",
       "      <td>NaN</td>\n",
       "    </tr>\n",
       "  </tbody>\n",
       "</table>\n",
       "</div>"
      ],
      "text/plain": [
       "   bath  bed  acre_lot  house_size\n",
       "0   2.0  3.0      0.12       920.0\n",
       "1   2.0  4.0      0.08      1527.0\n",
       "2   1.0  2.0      0.15       748.0\n",
       "3   2.0  4.0      0.10      1800.0\n",
       "4   2.0  6.0      0.05         NaN"
      ]
     },
     "execution_count": 13,
     "metadata": {},
     "output_type": "execute_result"
    }
   ],
   "source": [
    "# Quantitative data with null values\n",
    "df_interp = df[[\"bath\", \"bed\", \"acre_lot\", \"house_size\"]]\n",
    "df_interp.head()"
   ]
  },
  {
   "cell_type": "code",
   "execution_count": 14,
   "id": "88e043fe",
   "metadata": {},
   "outputs": [
    {
     "data": {
      "text/html": [
       "<div>\n",
       "<style scoped>\n",
       "    .dataframe tbody tr th:only-of-type {\n",
       "        vertical-align: middle;\n",
       "    }\n",
       "\n",
       "    .dataframe tbody tr th {\n",
       "        vertical-align: top;\n",
       "    }\n",
       "\n",
       "    .dataframe thead th {\n",
       "        text-align: right;\n",
       "    }\n",
       "</style>\n",
       "<table border=\"1\" class=\"dataframe\">\n",
       "  <thead>\n",
       "    <tr style=\"text-align: right;\">\n",
       "      <th></th>\n",
       "      <th>bath</th>\n",
       "      <th>bed</th>\n",
       "      <th>acre_lot</th>\n",
       "      <th>house_size</th>\n",
       "    </tr>\n",
       "  </thead>\n",
       "  <tbody>\n",
       "    <tr>\n",
       "      <th>0</th>\n",
       "      <td>2.0</td>\n",
       "      <td>3.0</td>\n",
       "      <td>0.12</td>\n",
       "      <td>920.0</td>\n",
       "    </tr>\n",
       "    <tr>\n",
       "      <th>1</th>\n",
       "      <td>2.0</td>\n",
       "      <td>4.0</td>\n",
       "      <td>0.08</td>\n",
       "      <td>1527.0</td>\n",
       "    </tr>\n",
       "    <tr>\n",
       "      <th>2</th>\n",
       "      <td>1.0</td>\n",
       "      <td>2.0</td>\n",
       "      <td>0.15</td>\n",
       "      <td>748.0</td>\n",
       "    </tr>\n",
       "    <tr>\n",
       "      <th>3</th>\n",
       "      <td>2.0</td>\n",
       "      <td>4.0</td>\n",
       "      <td>0.10</td>\n",
       "      <td>1800.0</td>\n",
       "    </tr>\n",
       "    <tr>\n",
       "      <th>4</th>\n",
       "      <td>2.0</td>\n",
       "      <td>6.0</td>\n",
       "      <td>0.05</td>\n",
       "      <td>2160.0</td>\n",
       "    </tr>\n",
       "  </tbody>\n",
       "</table>\n",
       "</div>"
      ],
      "text/plain": [
       "   bath  bed  acre_lot  house_size\n",
       "0   2.0  3.0      0.12       920.0\n",
       "1   2.0  4.0      0.08      1527.0\n",
       "2   1.0  2.0      0.15       748.0\n",
       "3   2.0  4.0      0.10      1800.0\n",
       "4   2.0  6.0      0.05      2160.0"
      ]
     },
     "execution_count": 14,
     "metadata": {},
     "output_type": "execute_result"
    }
   ],
   "source": [
    "# filling null values\n",
    "df_interpolated = df_interp.interpolate(method='linear')\n",
    "df_interpolated.head()"
   ]
  },
  {
   "cell_type": "markdown",
   "id": "4553a85b",
   "metadata": {},
   "source": [
    "- Let's concatenate both dataframes (df_interp & de_no_interp) "
   ]
  },
  {
   "cell_type": "code",
   "execution_count": 15,
   "id": "19336a8e",
   "metadata": {
    "scrolled": false
   },
   "outputs": [
    {
     "data": {
      "text/html": [
       "<div>\n",
       "<style scoped>\n",
       "    .dataframe tbody tr th:only-of-type {\n",
       "        vertical-align: middle;\n",
       "    }\n",
       "\n",
       "    .dataframe tbody tr th {\n",
       "        vertical-align: top;\n",
       "    }\n",
       "\n",
       "    .dataframe thead th {\n",
       "        text-align: right;\n",
       "    }\n",
       "</style>\n",
       "<table border=\"1\" class=\"dataframe\">\n",
       "  <thead>\n",
       "    <tr style=\"text-align: right;\">\n",
       "      <th></th>\n",
       "      <th>bath</th>\n",
       "      <th>bed</th>\n",
       "      <th>acre_lot</th>\n",
       "      <th>house_size</th>\n",
       "      <th>status</th>\n",
       "      <th>street</th>\n",
       "      <th>city</th>\n",
       "      <th>state</th>\n",
       "      <th>zip_code</th>\n",
       "      <th>price</th>\n",
       "    </tr>\n",
       "  </thead>\n",
       "  <tbody>\n",
       "    <tr>\n",
       "      <th>0</th>\n",
       "      <td>2.0</td>\n",
       "      <td>3.0</td>\n",
       "      <td>0.12</td>\n",
       "      <td>920.0</td>\n",
       "      <td>for_sale</td>\n",
       "      <td>1962661.0</td>\n",
       "      <td>Adjuntas</td>\n",
       "      <td>Puerto Rico</td>\n",
       "      <td>601.0</td>\n",
       "      <td>105000.0</td>\n",
       "    </tr>\n",
       "    <tr>\n",
       "      <th>1</th>\n",
       "      <td>2.0</td>\n",
       "      <td>4.0</td>\n",
       "      <td>0.08</td>\n",
       "      <td>1527.0</td>\n",
       "      <td>for_sale</td>\n",
       "      <td>1902874.0</td>\n",
       "      <td>Adjuntas</td>\n",
       "      <td>Puerto Rico</td>\n",
       "      <td>601.0</td>\n",
       "      <td>80000.0</td>\n",
       "    </tr>\n",
       "    <tr>\n",
       "      <th>2</th>\n",
       "      <td>1.0</td>\n",
       "      <td>2.0</td>\n",
       "      <td>0.15</td>\n",
       "      <td>748.0</td>\n",
       "      <td>for_sale</td>\n",
       "      <td>1404990.0</td>\n",
       "      <td>Juana Diaz</td>\n",
       "      <td>Puerto Rico</td>\n",
       "      <td>795.0</td>\n",
       "      <td>67000.0</td>\n",
       "    </tr>\n",
       "    <tr>\n",
       "      <th>3</th>\n",
       "      <td>2.0</td>\n",
       "      <td>4.0</td>\n",
       "      <td>0.10</td>\n",
       "      <td>1800.0</td>\n",
       "      <td>for_sale</td>\n",
       "      <td>1947675.0</td>\n",
       "      <td>Ponce</td>\n",
       "      <td>Puerto Rico</td>\n",
       "      <td>731.0</td>\n",
       "      <td>145000.0</td>\n",
       "    </tr>\n",
       "    <tr>\n",
       "      <th>4</th>\n",
       "      <td>2.0</td>\n",
       "      <td>6.0</td>\n",
       "      <td>0.05</td>\n",
       "      <td>2160.0</td>\n",
       "      <td>for_sale</td>\n",
       "      <td>331151.0</td>\n",
       "      <td>Mayaguez</td>\n",
       "      <td>Puerto Rico</td>\n",
       "      <td>680.0</td>\n",
       "      <td>65000.0</td>\n",
       "    </tr>\n",
       "  </tbody>\n",
       "</table>\n",
       "</div>"
      ],
      "text/plain": [
       "   bath  bed  acre_lot  house_size    status     street        city  \\\n",
       "0   2.0  3.0      0.12       920.0  for_sale  1962661.0    Adjuntas   \n",
       "1   2.0  4.0      0.08      1527.0  for_sale  1902874.0    Adjuntas   \n",
       "2   1.0  2.0      0.15       748.0  for_sale  1404990.0  Juana Diaz   \n",
       "3   2.0  4.0      0.10      1800.0  for_sale  1947675.0       Ponce   \n",
       "4   2.0  6.0      0.05      2160.0  for_sale   331151.0    Mayaguez   \n",
       "\n",
       "         state  zip_code     price  \n",
       "0  Puerto Rico     601.0  105000.0  \n",
       "1  Puerto Rico     601.0   80000.0  \n",
       "2  Puerto Rico     795.0   67000.0  \n",
       "3  Puerto Rico     731.0  145000.0  \n",
       "4  Puerto Rico     680.0   65000.0  "
      ]
     },
     "execution_count": 15,
     "metadata": {},
     "output_type": "execute_result"
    }
   ],
   "source": [
    "df_concat = pd.concat([df_interpolated, df_no_interp], axis=1)\n",
    "df_concat.head()"
   ]
  },
  {
   "cell_type": "code",
   "execution_count": 16,
   "id": "b2e504b4",
   "metadata": {},
   "outputs": [
    {
     "data": {
      "text/plain": [
       "bath              0\n",
       "bed               0\n",
       "acre_lot          0\n",
       "house_size        0\n",
       "status            0\n",
       "street        10864\n",
       "city           1404\n",
       "state             8\n",
       "zip_code        298\n",
       "price             0\n",
       "dtype: int64"
      ]
     },
     "execution_count": 16,
     "metadata": {},
     "output_type": "execute_result"
    }
   ],
   "source": [
    "df_concat.isnull().sum()\n",
    "# Now, null values of columns with quntitative values have been filled up using linear interpolation method. \n",
    "# Non-quantitative columns still have null values such as: \"street\", \"city\", \"state\", \"zip_code\""
   ]
  },
  {
   "cell_type": "code",
   "execution_count": 17,
   "id": "81fb13ec",
   "metadata": {},
   "outputs": [],
   "source": [
    "def find_missings(df):\n",
    "    return round(df.isnull().sum()/df.shape[0]*100,2)"
   ]
  },
  {
   "cell_type": "code",
   "execution_count": 18,
   "id": "ddb21395",
   "metadata": {
    "scrolled": true
   },
   "outputs": [
    {
     "data": {
      "text/plain": [
       "bath          0.00\n",
       "bed           0.00\n",
       "acre_lot      0.00\n",
       "house_size    0.00\n",
       "status        0.00\n",
       "street        0.49\n",
       "city          0.06\n",
       "state         0.00\n",
       "zip_code      0.01\n",
       "price         0.00\n",
       "dtype: float64"
      ]
     },
     "execution_count": 18,
     "metadata": {},
     "output_type": "execute_result"
    }
   ],
   "source": [
    "find_missings(df_concat)"
   ]
  },
  {
   "cell_type": "markdown",
   "id": "bd007f23",
   "metadata": {},
   "source": [
    "- Let's dropna() the interpolated dataframe to remove the rest of the null values in categoical columns such as street, city, zip_code, state"
   ]
  },
  {
   "cell_type": "code",
   "execution_count": 19,
   "id": "cada134c",
   "metadata": {
    "scrolled": true
   },
   "outputs": [
    {
     "data": {
      "text/plain": [
       "bath          0\n",
       "bed           0\n",
       "acre_lot      0\n",
       "house_size    0\n",
       "status        0\n",
       "street        0\n",
       "city          0\n",
       "state         0\n",
       "zip_code      0\n",
       "price         0\n",
       "dtype: int64"
      ]
     },
     "execution_count": 19,
     "metadata": {},
     "output_type": "execute_result"
    }
   ],
   "source": [
    "df_concat.dropna(inplace=True)\n",
    "df_concat.isnull().sum() # There are no null values left in this dataframe"
   ]
  },
  {
   "cell_type": "markdown",
   "id": "d18bf39d",
   "metadata": {},
   "source": [
    "## 1-2  K-Nearest Neighbors Method"
   ]
  },
  {
   "cell_type": "markdown",
   "id": "31bf1524",
   "metadata": {},
   "source": [
    "Dealing with null values in a dataset using the K-Nearest Neighbors (KNN) method can be very time-consuming and, in some cases, infeasible due to several reasons:\n",
    "\n",
    "    1. KNN is computationally expensive:\n",
    "KNN stores all training data and calculates distances between the missing data point and every other point in the dataset at the time of prediction. This process becomes computationally intensive because:\n",
    "    For every null value that needs imputation, the algorithm has to compute the distance from that data point to all other points in the dataset. If the dataset is large or high-dimensional, this results in a high number of distance calculations.\n",
    "\n",
    "\n",
    "    2. Dimensionality issues:\n",
    "When datasets have many features, distance computations in KNN can become highly inefficient. If you are imputing null values in multiple columns, KNN has to calculate distances across these high-dimensional feature spaces, which slows down the process significantly.\n",
    "\n",
    "    3. Distance calculations with missing values:\n",
    "\n",
    "The KNN algorithm requires complete data to calculate distances, but missing values create gaps. In practice, handling these gaps can involve filling in multiple missing values iteratively, which means: For every null value in every row, KNN has to be applied, leading to exponential growth in the number of distance computations.\n",
    "    \n",
    "    4. No clear distinction between important and unimportant features:\n",
    "\n",
    "KNN treats all features equally when computing distances. If many features have null values, the algorithm has to compute distances for all features regardless of whether some are more relevant to the prediction task. This can waste computation time on irrelevant features, further slowing the imputation process.\n",
    "\n",
    "    5. Iterative nature of the process:\n",
    "\n",
    "For each missing value, the algorithm often needs to run multiple iterations (depending on the number of missing entries and the size of the dataset), which makes KNN for imputation extremely slow compared to other imputation methods like mean, median, or regression-based techniques.\n",
    "\n",
    "Because of these factors, imputing null values using KNN on large or complex datasets becomes both time-consuming and computationally inefficient."
   ]
  },
  {
   "cell_type": "markdown",
   "id": "e3e35344",
   "metadata": {},
   "source": [
    "## KNN Code to deal with Null valus:\n",
    "- Null values in columns of bed, bath, acre_lot, house_size will be replaced/imputed using K-Nearest Neighbors (KNN). Hoever, it was very time-consuming. So I only used interpolate() method to fill the null values. Thus, The code below is marked down."
   ]
  },
  {
   "cell_type": "markdown",
   "id": "c74e7c48",
   "metadata": {},
   "source": [
    "df_null = df[[\"bath\", \"bed\", \"acre_lot\", \"house_size\"]]\n",
    "df_null\n",
    "\n",
    "from sklearn.impute import KNNImputer\n",
    "#Initialize the KNNImputer with the desired number of neighbors\n",
    "imputer = KNNImputer(n_neighbors=3)\n",
    "\n",
    "fit=imputer.fit_transform(df_null)\n",
    "\n",
    "df_imputed = pd.DataFrame(fit, columns=df_null.columns)\n",
    "df_imputed"
   ]
  },
  {
   "cell_type": "markdown",
   "id": "26df05b2",
   "metadata": {},
   "source": [
    "# 2. Dealing with Outliers\n",
    "\n",
    "\n",
    "- In this section, we will detect and handle outliers in quantitative columns such as : \"bed\" , \"bath\", \"acre_lot\", \"house_size\"\n",
    "- Outliers can skew and mislead the training process of machine learning models. Therefore, it is important to deal with outliers before doing any modeling.  \n",
    "- Outliers should be identified using statistical methods (like z-scores or IQR) and decide whether to remove them or to transform the data to mitigate their impact.\n",
    "- We will use both z-score and IQR  methods to take care of outliers."
   ]
  },
  {
   "cell_type": "markdown",
   "id": "117dc279",
   "metadata": {},
   "source": [
    "## 2-1  Z-Score Method\n",
    "\n",
    "- The Z-score method is a popular statistical technique to detect outliers in a dataset. It measures how many standard deviations a data point is from the mean. Outliers are typically considered data points with a Z-score greater than a threshold, often 3 or -3, indicating that they are far from the mean.\n",
    "- You can either remove them, as shown above, or replace them with more reasonable values (mean, median, etc.)."
   ]
  },
  {
   "cell_type": "markdown",
   "id": "84a59d31",
   "metadata": {},
   "source": [
    "- Finding upper and lower limits of outliers using z-score method for different columns"
   ]
  },
  {
   "cell_type": "code",
   "execution_count": 20,
   "id": "12bb5cc0",
   "metadata": {
    "scrolled": true
   },
   "outputs": [
    {
     "name": "stdout",
     "output_type": "stream",
     "text": [
      "8.105720862674751\n"
     ]
    },
    {
     "data": {
      "text/plain": [
       "-1.5135477782224176"
      ]
     },
     "execution_count": 20,
     "metadata": {},
     "output_type": "execute_result"
    }
   ],
   "source": [
    "upper_limit_b = df_concat['bed'].mean() + 3*df_concat['bed'].std() \n",
    "lower_limit_b = df_concat['bed'].mean() - 3*df_concat['bed'].std() \n",
    "print(upper_limit_b)\n",
    "lower_limit_b"
   ]
  },
  {
   "cell_type": "code",
   "execution_count": 21,
   "id": "3b5cf345",
   "metadata": {},
   "outputs": [
    {
     "name": "stdout",
     "output_type": "stream",
     "text": [
      "7.39136449053414\n"
     ]
    },
    {
     "data": {
      "text/plain": [
       "-2.359043013624606"
      ]
     },
     "execution_count": 21,
     "metadata": {},
     "output_type": "execute_result"
    }
   ],
   "source": [
    "# Finidng upper and lower limits of outliers using z-score method:\n",
    "upper_limit_ba = df_concat['bath'].mean() + 3*df_concat['bath'].std() \n",
    "lower_limit_ba = df_concat['bath'].mean() - 3*df_concat['bath'].std() \n",
    "print(upper_limit_ba)\n",
    "lower_limit_ba"
   ]
  },
  {
   "cell_type": "code",
   "execution_count": 22,
   "id": "165d5d84",
   "metadata": {},
   "outputs": [
    {
     "name": "stdout",
     "output_type": "stream",
     "text": [
      "2261.727327564814\n"
     ]
    },
    {
     "data": {
      "text/plain": [
       "-2231.9384170716294"
      ]
     },
     "execution_count": 22,
     "metadata": {},
     "output_type": "execute_result"
    }
   ],
   "source": [
    "# Finidng upper and lower limits of outliers using z-score method:\n",
    "upper_limit_acre_lot = df_concat['acre_lot'].mean() + 3*df_concat['acre_lot'].std() \n",
    "lower_limit_acre_lot = df_concat['acre_lot'].mean() - 3*df_concat['acre_lot'].std() \n",
    "print(upper_limit_acre_lot)\n",
    "lower_limit_acre_lot"
   ]
  },
  {
   "cell_type": "code",
   "execution_count": 23,
   "id": "61a2322f",
   "metadata": {},
   "outputs": [
    {
     "name": "stdout",
     "output_type": "stream",
     "text": [
      "3444293.879154508\n"
     ]
    },
    {
     "data": {
      "text/plain": [
       "-3436428.0983464606"
      ]
     },
     "execution_count": 23,
     "metadata": {},
     "output_type": "execute_result"
    }
   ],
   "source": [
    "# Finidng upper and lower limits of outliers using z-score method:\n",
    "upper_limit_house_size = df_concat['house_size'].mean() + 3*df_concat['house_size'].std() \n",
    "lower_limit_house_size = df_concat['house_size'].mean() - 3*df_concat['house_size'].std() \n",
    "print(upper_limit_house_size)\n",
    "lower_limit_house_size"
   ]
  },
  {
   "cell_type": "markdown",
   "id": "d14d9cf0",
   "metadata": {},
   "source": [
    "## 2-1A Trimming method\n",
    "- Delete the outlier data using upper limit and lower limit values"
   ]
  },
  {
   "cell_type": "code",
   "execution_count": 24,
   "id": "3c318527",
   "metadata": {},
   "outputs": [
    {
     "name": "stdout",
     "output_type": "stream",
     "text": [
      "trimmed_df:  2201594\n",
      "not-trimmed_df:  2212488\n"
     ]
    }
   ],
   "source": [
    "# Only keep the data between upper and lower limit of \"bed\" column:\n",
    "df_trim = df_concat.loc[(df_concat['bed']>=lower_limit_b) & (df_concat['bed']<=upper_limit_b)]\n",
    "print(\"trimmed_df: \", len(df_trim))\n",
    "print(\"not-trimmed_df: \", len(df_concat))"
   ]
  },
  {
   "cell_type": "code",
   "execution_count": 25,
   "id": "938712ce",
   "metadata": {
    "scrolled": false
   },
   "outputs": [
    {
     "data": {
      "text/plain": [
       "Text(0.5, 1.0, 'Boxplot of Dataset without outlier')"
      ]
     },
     "execution_count": 25,
     "metadata": {},
     "output_type": "execute_result"
    },
    {
     "data": {
      "image/png": "[encoded data removed]",
      "text/plain": [
       "<Figure size 1200x600 with 2 Axes>"
      ]
     },
     "metadata": {},
     "output_type": "display_data"
    }
   ],
   "source": [
    "import matplotlib.pyplot as plt\n",
    "\n",
    "# Create a figure with two subplots (1 row, 2 columns)\n",
    "fig, axes = plt.subplots(1, 2, figsize=(12, 6))\n",
    "\n",
    "# First boxplot from df_concat\n",
    "sns.boxplot(y='bed', data=df_concat, ax=axes[0])\n",
    "axes[0].set_title('Boxplot of Dataset with outlier')\n",
    "\n",
    "# Second boxplot from df_trim\n",
    "sns.boxplot(y='bed', data=df_trim, ax=axes[1])\n",
    "axes[1].set_title('Boxplot of Dataset without outlier')\n"
   ]
  },
  {
   "cell_type": "code",
   "execution_count": 26,
   "id": "14d33adf",
   "metadata": {},
   "outputs": [
    {
     "name": "stdout",
     "output_type": "stream",
     "text": [
      "new_df:  2199964\n",
      "old_df:  2212488\n"
     ]
    }
   ],
   "source": [
    "# Only keep the data between upper and lower limit of \"bath\" column:\n",
    "df_trim = df_concat.loc[(df_concat['bath']>lower_limit_ba) & (df_concat['bath']<upper_limit_ba)]\n",
    "print(\"new_df: \", len(df_trim))\n",
    "print(\"old_df: \", len(df_concat))"
   ]
  },
  {
   "cell_type": "code",
   "execution_count": 27,
   "id": "8e266b58",
   "metadata": {
    "scrolled": false
   },
   "outputs": [
    {
     "data": {
      "text/plain": [
       "Text(0.5, 1.0, 'Boxplot of Dataset without outlier')"
      ]
     },
     "execution_count": 27,
     "metadata": {},
     "output_type": "execute_result"
    },
    {
     "data": {
      "image/png": "[encoded data removed]",
      "text/plain": [
       "<Figure size 1200x600 with 2 Axes>"
      ]
     },
     "metadata": {},
     "output_type": "display_data"
    }
   ],
   "source": [
    "# Create a figure with two subplots (1 row, 2 columns)\n",
    "fig, axes = plt.subplots(1, 2, figsize=(12, 6))\n",
    "\n",
    "# First boxplot from df_concat\n",
    "sns.boxplot(y='bath', data=df_concat, ax=axes[0])\n",
    "axes[0].set_title('Boxplot of Dataset with outlier')\n",
    "\n",
    "# Second boxplot from df_trim\n",
    "sns.boxplot(y='bath', data=df_trim, ax=axes[1])\n",
    "axes[1].set_title('Boxplot of Dataset without outlier')"
   ]
  },
  {
   "cell_type": "code",
   "execution_count": 28,
   "id": "fccdcedf",
   "metadata": {},
   "outputs": [
    {
     "name": "stdout",
     "output_type": "stream",
     "text": [
      "new_df:  2211293\n",
      "old_df:  2212488\n"
     ]
    }
   ],
   "source": [
    "# Only keep the data between upper and lower limit of \"acre_lot\" column:\n",
    "df_trim = df_concat.loc[(df_concat['acre_lot']>=lower_limit_acre_lot) & (df_concat['acre_lot']<=upper_limit_acre_lot)]\n",
    "print(\"new_df: \", len(df_trim))\n",
    "print(\"old_df: \", len(df_concat))"
   ]
  },
  {
   "cell_type": "code",
   "execution_count": 29,
   "id": "6c95f60f",
   "metadata": {
    "scrolled": false
   },
   "outputs": [
    {
     "data": {
      "text/plain": [
       "Text(0.5, 1.0, 'Boxplot of Dataset without outlier')"
      ]
     },
     "execution_count": 29,
     "metadata": {},
     "output_type": "execute_result"
    },
    {
     "data": {
      "image/png": "[encoded data removed]",
      "text/plain": [
       "<Figure size 1200x600 with 2 Axes>"
      ]
     },
     "metadata": {},
     "output_type": "display_data"
    }
   ],
   "source": [
    "# Create a figure with two subplots (1 row, 2 columns)\n",
    "fig, axes = plt.subplots(1, 2, figsize=(12, 6))\n",
    "\n",
    "# First boxplot from df_concat\n",
    "sns.boxplot(y='acre_lot', data=df_concat, ax=axes[0])\n",
    "axes[0].set_title('Boxplot of Dataset with outlier')\n",
    "\n",
    "# Second boxplot from df_trim\n",
    "sns.boxplot(y='acre_lot', data=df_trim, ax=axes[1])\n",
    "axes[1].set_title('Boxplot of Dataset without outlier')"
   ]
  },
  {
   "cell_type": "code",
   "execution_count": 30,
   "id": "02479d2d",
   "metadata": {
    "scrolled": true
   },
   "outputs": [
    {
     "name": "stdout",
     "output_type": "stream",
     "text": [
      "new_df:  2212471\n",
      "old_df:  2212488\n"
     ]
    }
   ],
   "source": [
    "# Only keep the data between upper and lower limit of \"bed\" column:\n",
    "df_trim = df_concat.loc[(df_concat['house_size']>lower_limit_house_size) & (df_concat['house_size']<upper_limit_house_size)]\n",
    "print(\"new_df: \", len(df_trim))\n",
    "print(\"old_df: \", len(df_concat))"
   ]
  },
  {
   "cell_type": "code",
   "execution_count": 31,
   "id": "d9f680b6",
   "metadata": {
    "scrolled": true
   },
   "outputs": [
    {
     "data": {
      "text/plain": [
       "Text(0.5, 1.0, 'Boxplot of Dataset without outlier')"
      ]
     },
     "execution_count": 31,
     "metadata": {},
     "output_type": "execute_result"
    },
    {
     "data": {
      "image/png": "[encoded data removed]",
      "text/plain": [
       "<Figure size 1000x600 with 2 Axes>"
      ]
     },
     "metadata": {},
     "output_type": "display_data"
    }
   ],
   "source": [
    "import matplotlib.pyplot as plt\n",
    "\n",
    "# Create a figure with two subplots (1 row, 2 columns)\n",
    "fig, axes = plt.subplots(1, 2, figsize=(10, 6))\n",
    "# First boxplot from df_concat\n",
    "sns.boxplot(y='house_size', data=df_concat, ax=axes[0])\n",
    "axes[0].set_title('Boxplot of Dataset with outlier')\n",
    "\n",
    "# Second boxplot from df_trim\n",
    "sns.boxplot(y='house_size', data=df_trim, ax=axes[1])\n",
    "axes[1].set_title('Boxplot of Dataset without outlier')"
   ]
  },
  {
   "cell_type": "code",
   "execution_count": 32,
   "id": "6dbcb50a",
   "metadata": {
    "scrolled": true
   },
   "outputs": [
    {
     "data": {
      "text/html": [
       "<div>\n",
       "<style scoped>\n",
       "    .dataframe tbody tr th:only-of-type {\n",
       "        vertical-align: middle;\n",
       "    }\n",
       "\n",
       "    .dataframe tbody tr th {\n",
       "        vertical-align: top;\n",
       "    }\n",
       "\n",
       "    .dataframe thead th {\n",
       "        text-align: right;\n",
       "    }\n",
       "</style>\n",
       "<table border=\"1\" class=\"dataframe\">\n",
       "  <thead>\n",
       "    <tr style=\"text-align: right;\">\n",
       "      <th></th>\n",
       "      <th>bath</th>\n",
       "      <th>bed</th>\n",
       "      <th>acre_lot</th>\n",
       "      <th>house_size</th>\n",
       "      <th>status</th>\n",
       "      <th>street</th>\n",
       "      <th>city</th>\n",
       "      <th>state</th>\n",
       "      <th>zip_code</th>\n",
       "      <th>price</th>\n",
       "    </tr>\n",
       "  </thead>\n",
       "  <tbody>\n",
       "    <tr>\n",
       "      <th>0</th>\n",
       "      <td>2.0</td>\n",
       "      <td>3.0</td>\n",
       "      <td>0.12</td>\n",
       "      <td>920.0</td>\n",
       "      <td>for_sale</td>\n",
       "      <td>1962661.0</td>\n",
       "      <td>Adjuntas</td>\n",
       "      <td>Puerto Rico</td>\n",
       "      <td>601.0</td>\n",
       "      <td>105000.0</td>\n",
       "    </tr>\n",
       "    <tr>\n",
       "      <th>1</th>\n",
       "      <td>2.0</td>\n",
       "      <td>4.0</td>\n",
       "      <td>0.08</td>\n",
       "      <td>1527.0</td>\n",
       "      <td>for_sale</td>\n",
       "      <td>1902874.0</td>\n",
       "      <td>Adjuntas</td>\n",
       "      <td>Puerto Rico</td>\n",
       "      <td>601.0</td>\n",
       "      <td>80000.0</td>\n",
       "    </tr>\n",
       "    <tr>\n",
       "      <th>2</th>\n",
       "      <td>1.0</td>\n",
       "      <td>2.0</td>\n",
       "      <td>0.15</td>\n",
       "      <td>748.0</td>\n",
       "      <td>for_sale</td>\n",
       "      <td>1404990.0</td>\n",
       "      <td>Juana Diaz</td>\n",
       "      <td>Puerto Rico</td>\n",
       "      <td>795.0</td>\n",
       "      <td>67000.0</td>\n",
       "    </tr>\n",
       "    <tr>\n",
       "      <th>3</th>\n",
       "      <td>2.0</td>\n",
       "      <td>4.0</td>\n",
       "      <td>0.10</td>\n",
       "      <td>1800.0</td>\n",
       "      <td>for_sale</td>\n",
       "      <td>1947675.0</td>\n",
       "      <td>Ponce</td>\n",
       "      <td>Puerto Rico</td>\n",
       "      <td>731.0</td>\n",
       "      <td>145000.0</td>\n",
       "    </tr>\n",
       "    <tr>\n",
       "      <th>4</th>\n",
       "      <td>2.0</td>\n",
       "      <td>6.0</td>\n",
       "      <td>0.05</td>\n",
       "      <td>2160.0</td>\n",
       "      <td>for_sale</td>\n",
       "      <td>331151.0</td>\n",
       "      <td>Mayaguez</td>\n",
       "      <td>Puerto Rico</td>\n",
       "      <td>680.0</td>\n",
       "      <td>65000.0</td>\n",
       "    </tr>\n",
       "  </tbody>\n",
       "</table>\n",
       "</div>"
      ],
      "text/plain": [
       "   bath  bed  acre_lot  house_size    status     street        city  \\\n",
       "0   2.0  3.0      0.12       920.0  for_sale  1962661.0    Adjuntas   \n",
       "1   2.0  4.0      0.08      1527.0  for_sale  1902874.0    Adjuntas   \n",
       "2   1.0  2.0      0.15       748.0  for_sale  1404990.0  Juana Diaz   \n",
       "3   2.0  4.0      0.10      1800.0  for_sale  1947675.0       Ponce   \n",
       "4   2.0  6.0      0.05      2160.0  for_sale   331151.0    Mayaguez   \n",
       "\n",
       "         state  zip_code     price  \n",
       "0  Puerto Rico     601.0  105000.0  \n",
       "1  Puerto Rico     601.0   80000.0  \n",
       "2  Puerto Rico     795.0   67000.0  \n",
       "3  Puerto Rico     731.0  145000.0  \n",
       "4  Puerto Rico     680.0   65000.0  "
      ]
     },
     "execution_count": 32,
     "metadata": {},
     "output_type": "execute_result"
    }
   ],
   "source": [
    "df_trim.head()"
   ]
  },
  {
   "cell_type": "markdown",
   "id": "453a1343",
   "metadata": {},
   "source": [
    "- All 4 quantitative columns were trimmed for their outliers. Later, this data can be separately used for house price forecasting using various ML models. "
   ]
  },
  {
   "cell_type": "markdown",
   "id": "767b6c4d",
   "metadata": {},
   "source": [
    "## 2-1B Capping method\n",
    "- Another way of dealing with outliers is by capping the outliers with upper and lower limits of each specific column\n",
    "- Change the values of outliers to the upper_limit and lower_limit values instead of deleting them"
   ]
  },
  {
   "cell_type": "code",
   "execution_count": 33,
   "id": "0e447693",
   "metadata": {},
   "outputs": [],
   "source": [
    "df_cap = df_concat.copy()"
   ]
  },
  {
   "cell_type": "code",
   "execution_count": 34,
   "id": "01e4c2aa",
   "metadata": {},
   "outputs": [],
   "source": [
    "# replace outliers with upper and lower limits\n",
    "df_cap.loc[df_cap['bed'] < lower_limit_b, 'bed'] = lower_limit_b\n",
    "df_cap.loc[df_cap['bed'] > upper_limit_b, 'bed'] = upper_limit_b"
   ]
  },
  {
   "cell_type": "code",
   "execution_count": 35,
   "id": "1e26c1fa",
   "metadata": {},
   "outputs": [
    {
     "data": {
      "text/plain": [
       "2212488"
      ]
     },
     "execution_count": 35,
     "metadata": {},
     "output_type": "execute_result"
    }
   ],
   "source": [
    "len(df_cap)"
   ]
  },
  {
   "cell_type": "code",
   "execution_count": 36,
   "id": "196e3eeb",
   "metadata": {},
   "outputs": [],
   "source": [
    "# replace outliers with upper and lower limits\n",
    "df_cap.loc[df_cap['bath'] < lower_limit_ba, 'bath'] = lower_limit_ba\n",
    "df_cap.loc[df_cap['bath'] > upper_limit_ba, 'bath'] = upper_limit_ba"
   ]
  },
  {
   "cell_type": "code",
   "execution_count": 37,
   "id": "1d04c786",
   "metadata": {},
   "outputs": [
    {
     "data": {
      "text/plain": [
       "2212488"
      ]
     },
     "execution_count": 37,
     "metadata": {},
     "output_type": "execute_result"
    }
   ],
   "source": [
    "len(df_cap)"
   ]
  },
  {
   "cell_type": "code",
   "execution_count": 38,
   "id": "015ca0e8",
   "metadata": {},
   "outputs": [],
   "source": [
    "# replace outliers with upper and lower limits\n",
    "df_cap.loc[df_cap['acre_lot'] < lower_limit_acre_lot, 'acre_lot'] = lower_limit_acre_lot\n",
    "df_cap.loc[df_cap['acre_lot'] > upper_limit_acre_lot, 'acre_lot'] = upper_limit_acre_lot"
   ]
  },
  {
   "cell_type": "code",
   "execution_count": 39,
   "id": "bf648ce0",
   "metadata": {},
   "outputs": [
    {
     "data": {
      "text/plain": [
       "2212488"
      ]
     },
     "execution_count": 39,
     "metadata": {},
     "output_type": "execute_result"
    }
   ],
   "source": [
    "len(df_cap)"
   ]
  },
  {
   "cell_type": "code",
   "execution_count": 40,
   "id": "aea6cb7d",
   "metadata": {},
   "outputs": [],
   "source": [
    "# replace outliers with upper and lower limits\n",
    "df_cap.loc[df_cap['house_size'] < lower_limit_house_size, 'house_size'] = lower_limit_house_size\n",
    "df_cap.loc[df_cap['house_size'] > upper_limit_house_size, 'house_size'] = upper_limit_house_size"
   ]
  },
  {
   "cell_type": "code",
   "execution_count": 41,
   "id": "ba588b87",
   "metadata": {},
   "outputs": [
    {
     "data": {
      "text/plain": [
       "2212488"
      ]
     },
     "execution_count": 41,
     "metadata": {},
     "output_type": "execute_result"
    }
   ],
   "source": [
    "len(df_cap)"
   ]
  },
  {
   "cell_type": "code",
   "execution_count": 42,
   "id": "b518e8b0",
   "metadata": {},
   "outputs": [
    {
     "data": {
      "text/html": [
       "<div>\n",
       "<style scoped>\n",
       "    .dataframe tbody tr th:only-of-type {\n",
       "        vertical-align: middle;\n",
       "    }\n",
       "\n",
       "    .dataframe tbody tr th {\n",
       "        vertical-align: top;\n",
       "    }\n",
       "\n",
       "    .dataframe thead th {\n",
       "        text-align: right;\n",
       "    }\n",
       "</style>\n",
       "<table border=\"1\" class=\"dataframe\">\n",
       "  <thead>\n",
       "    <tr style=\"text-align: right;\">\n",
       "      <th></th>\n",
       "      <th>bath</th>\n",
       "      <th>bed</th>\n",
       "      <th>acre_lot</th>\n",
       "      <th>house_size</th>\n",
       "      <th>status</th>\n",
       "      <th>street</th>\n",
       "      <th>city</th>\n",
       "      <th>state</th>\n",
       "      <th>zip_code</th>\n",
       "      <th>price</th>\n",
       "    </tr>\n",
       "  </thead>\n",
       "  <tbody>\n",
       "    <tr>\n",
       "      <th>0</th>\n",
       "      <td>2.0</td>\n",
       "      <td>3.0</td>\n",
       "      <td>0.12</td>\n",
       "      <td>920.0</td>\n",
       "      <td>for_sale</td>\n",
       "      <td>1962661.0</td>\n",
       "      <td>Adjuntas</td>\n",
       "      <td>Puerto Rico</td>\n",
       "      <td>601.0</td>\n",
       "      <td>105000.0</td>\n",
       "    </tr>\n",
       "    <tr>\n",
       "      <th>1</th>\n",
       "      <td>2.0</td>\n",
       "      <td>4.0</td>\n",
       "      <td>0.08</td>\n",
       "      <td>1527.0</td>\n",
       "      <td>for_sale</td>\n",
       "      <td>1902874.0</td>\n",
       "      <td>Adjuntas</td>\n",
       "      <td>Puerto Rico</td>\n",
       "      <td>601.0</td>\n",
       "      <td>80000.0</td>\n",
       "    </tr>\n",
       "    <tr>\n",
       "      <th>2</th>\n",
       "      <td>1.0</td>\n",
       "      <td>2.0</td>\n",
       "      <td>0.15</td>\n",
       "      <td>748.0</td>\n",
       "      <td>for_sale</td>\n",
       "      <td>1404990.0</td>\n",
       "      <td>Juana Diaz</td>\n",
       "      <td>Puerto Rico</td>\n",
       "      <td>795.0</td>\n",
       "      <td>67000.0</td>\n",
       "    </tr>\n",
       "    <tr>\n",
       "      <th>3</th>\n",
       "      <td>2.0</td>\n",
       "      <td>4.0</td>\n",
       "      <td>0.10</td>\n",
       "      <td>1800.0</td>\n",
       "      <td>for_sale</td>\n",
       "      <td>1947675.0</td>\n",
       "      <td>Ponce</td>\n",
       "      <td>Puerto Rico</td>\n",
       "      <td>731.0</td>\n",
       "      <td>145000.0</td>\n",
       "    </tr>\n",
       "    <tr>\n",
       "      <th>4</th>\n",
       "      <td>2.0</td>\n",
       "      <td>6.0</td>\n",
       "      <td>0.05</td>\n",
       "      <td>2160.0</td>\n",
       "      <td>for_sale</td>\n",
       "      <td>331151.0</td>\n",
       "      <td>Mayaguez</td>\n",
       "      <td>Puerto Rico</td>\n",
       "      <td>680.0</td>\n",
       "      <td>65000.0</td>\n",
       "    </tr>\n",
       "  </tbody>\n",
       "</table>\n",
       "</div>"
      ],
      "text/plain": [
       "   bath  bed  acre_lot  house_size    status     street        city  \\\n",
       "0   2.0  3.0      0.12       920.0  for_sale  1962661.0    Adjuntas   \n",
       "1   2.0  4.0      0.08      1527.0  for_sale  1902874.0    Adjuntas   \n",
       "2   1.0  2.0      0.15       748.0  for_sale  1404990.0  Juana Diaz   \n",
       "3   2.0  4.0      0.10      1800.0  for_sale  1947675.0       Ponce   \n",
       "4   2.0  6.0      0.05      2160.0  for_sale   331151.0    Mayaguez   \n",
       "\n",
       "         state  zip_code     price  \n",
       "0  Puerto Rico     601.0  105000.0  \n",
       "1  Puerto Rico     601.0   80000.0  \n",
       "2  Puerto Rico     795.0   67000.0  \n",
       "3  Puerto Rico     731.0  145000.0  \n",
       "4  Puerto Rico     680.0   65000.0  "
      ]
     },
     "execution_count": 42,
     "metadata": {},
     "output_type": "execute_result"
    }
   ],
   "source": [
    "df_cap.head()"
   ]
  },
  {
   "cell_type": "markdown",
   "id": "5f96b07d",
   "metadata": {},
   "source": [
    "- Now, let's use another method for dealing with outliers: IQR method "
   ]
  },
  {
   "cell_type": "markdown",
   "id": "23b5edd1",
   "metadata": {},
   "source": [
    "## 2-2  IQR Method\n",
    "- The Interquartile Range (IQR) method is another effective technique for detecting and removing outliers. It is based on the spread of the middle 50% of the data. The IQR is calculated as the difference between the third quartile (Q3) and the first quartile (Q1). \n",
    "- Data points that fall below Q1−1.5×IQR or above Q3+1.5×IQR are considered outliers.\n",
    "- Steps:\n",
    "\n",
    "    - Calculate Q1 (25th percentile) and Q3 (75th percentile).\n",
    "    - Calculate the IQR: IQR=Q3−Q1.\n",
    "    - Determine the outlier boundaries:\n",
    "        Lower Bound = Q1−1.5×IQR\n",
    "        Upper Bound = Q3+1.5×IQR\n",
    "    Remove data points outside these boundaries."
   ]
  },
  {
   "cell_type": "code",
   "execution_count": 43,
   "id": "dccfa30d",
   "metadata": {},
   "outputs": [],
   "source": [
    "df_iqr = df_concat.copy()"
   ]
  },
  {
   "cell_type": "code",
   "execution_count": 44,
   "id": "ef275119",
   "metadata": {},
   "outputs": [
    {
     "name": "stdout",
     "output_type": "stream",
     "text": [
      "3.0 4.0 1.0\n",
      "1.5 5.5\n"
     ]
    }
   ],
   "source": [
    "# Finidng upper and lower limits of outliers using IQR method:\n",
    "\n",
    "q1_b = df_iqr['bed'].quantile(0.25)\n",
    "q3_b = df_iqr['bed'].quantile(0.75)\n",
    "iqr_b = q3_b - q1_b\n",
    "\n",
    "print(q1_b, q3_b, iqr_b)\n",
    "\n",
    "upper_b = q3_b + (1.5 * iqr_b)\n",
    "lower_b = q1_b - (1.5 * iqr_b)\n",
    "print(lower_b, upper_b)"
   ]
  },
  {
   "cell_type": "code",
   "execution_count": 45,
   "id": "daae390f",
   "metadata": {},
   "outputs": [
    {
     "name": "stdout",
     "output_type": "stream",
     "text": [
      "2.0 3.0 1.0\n",
      "0.5 4.5\n"
     ]
    }
   ],
   "source": [
    "# Finidng upper and lower limits of outliers using IQR method:\n",
    "q1_ba = df_iqr['bath'].quantile(0.25)\n",
    "q3_ba = df_iqr['bath'].quantile(0.75)\n",
    "iqr_ba = q3_ba - q1_ba\n",
    "\n",
    "print(q1_ba, q3_ba, iqr_ba)\n",
    "\n",
    "upper_ba = q3_ba + (1.5 * iqr_ba)\n",
    "lower_ba = q1_ba - (1.5 * iqr_ba)\n",
    "print(lower_ba, upper_ba)"
   ]
  },
  {
   "cell_type": "code",
   "execution_count": 46,
   "id": "adb838d1",
   "metadata": {},
   "outputs": [
    {
     "name": "stdout",
     "output_type": "stream",
     "text": [
      "0.15 0.92 0.77\n",
      "-1.0050000000000001 2.075\n"
     ]
    }
   ],
   "source": [
    "# Finidng upper and lower limits of outliers using IQR method:\n",
    "q1_acre_lot = df_iqr['acre_lot'].quantile(0.25)\n",
    "q3_acre_lot = df_iqr['acre_lot'].quantile(0.75)\n",
    "iqr_acre_lot = q3_acre_lot - q1_acre_lot\n",
    "\n",
    "print(q1_acre_lot, q3_acre_lot, iqr_acre_lot)\n",
    "\n",
    "upper_acre_lot = q3_acre_lot + (1.5 * iqr_acre_lot)\n",
    "lower_acre_lot = q1_acre_lot - (1.5 * iqr_acre_lot)\n",
    "print(lower_acre_lot, upper_acre_lot)"
   ]
  },
  {
   "cell_type": "code",
   "execution_count": 47,
   "id": "c3de6073",
   "metadata": {},
   "outputs": [
    {
     "name": "stdout",
     "output_type": "stream",
     "text": [
      "1348.142857142857 2445.4 1097.257142857143\n",
      "-297.7428571428575 4091.2857142857147\n"
     ]
    }
   ],
   "source": [
    "# Finidng upper and lower limits of outliers using IQR method:\n",
    "q1_house_size = df_iqr['house_size'].quantile(0.25)\n",
    "q3_house_size = df_iqr['house_size'].quantile(0.75)\n",
    "iqr_house_size = q3_house_size - q1_house_size\n",
    "\n",
    "print(q1_house_size, q3_house_size, iqr_house_size)\n",
    "\n",
    "upper_house_size = q3_house_size + (1.5 * iqr_house_size)\n",
    "lower_house_size = q1_house_size - (1.5 * iqr_house_size)\n",
    "print(lower_house_size, upper_house_size)"
   ]
  },
  {
   "cell_type": "markdown",
   "id": "611f8638",
   "metadata": {},
   "source": [
    "## 2-2A Trimming"
   ]
  },
  {
   "cell_type": "code",
   "execution_count": 48,
   "id": "a7275eb5",
   "metadata": {
    "scrolled": true
   },
   "outputs": [
    {
     "name": "stdout",
     "output_type": "stream",
     "text": [
      "new_df:  2070887\n",
      "old_df:  2212488\n"
     ]
    }
   ],
   "source": [
    "df_trim_iqr = df_iqr.loc[(df_iqr['bed']>lower_b) & (df_iqr['bed']<upper_b)]\n",
    "print(\"new_df: \", len(df_trim_iqr))\n",
    "print(\"old_df: \", len(df_iqr))"
   ]
  },
  {
   "cell_type": "code",
   "execution_count": 49,
   "id": "e54da86a",
   "metadata": {},
   "outputs": [
    {
     "name": "stdout",
     "output_type": "stream",
     "text": [
      "new_df:  2107383\n",
      "old_df:  2212488\n"
     ]
    }
   ],
   "source": [
    "df_trim_iqr = df_iqr.loc[(df_iqr['bath']>lower_ba) & (df_iqr['bath']<upper_ba)]\n",
    "print(\"new_df: \", len(df_trim_iqr))\n",
    "print(\"old_df: \", len(df_iqr))"
   ]
  },
  {
   "cell_type": "code",
   "execution_count": 50,
   "id": "8cd7fbdf",
   "metadata": {},
   "outputs": [
    {
     "name": "stdout",
     "output_type": "stream",
     "text": [
      "new_df:  1870817\n",
      "old_df:  2212488\n"
     ]
    }
   ],
   "source": [
    "df_trim_iqr = df_iqr.loc[(df_iqr['acre_lot']>lower_acre_lot) & (df_iqr['acre_lot']<upper_acre_lot)]\n",
    "print(\"new_df: \", len(df_trim_iqr))\n",
    "print(\"old_df: \", len(df_iqr))"
   ]
  },
  {
   "cell_type": "code",
   "execution_count": 51,
   "id": "14e20a41",
   "metadata": {},
   "outputs": [
    {
     "name": "stdout",
     "output_type": "stream",
     "text": [
      "new_df:  2103818\n",
      "old_df:  2212488\n"
     ]
    }
   ],
   "source": [
    "df_trim_iqr = df_iqr.loc[(df_iqr['house_size']>lower_house_size) & (df_iqr['house_size']<upper_house_size)]\n",
    "print(\"new_df: \", len(df_trim_iqr))\n",
    "print(\"old_df: \", len(df_iqr))"
   ]
  },
  {
   "cell_type": "code",
   "execution_count": 52,
   "id": "f385b22c",
   "metadata": {},
   "outputs": [
    {
     "data": {
      "text/plain": [
       "<Axes: >"
      ]
     },
     "execution_count": 52,
     "metadata": {},
     "output_type": "execute_result"
    },
    {
     "data": {
      "image/png": "[encoded data removed]",
      "text/plain": [
       "<Figure size 640x480 with 1 Axes>"
      ]
     },
     "metadata": {},
     "output_type": "display_data"
    }
   ],
   "source": [
    "sns.boxplot(df_trim_iqr['bed'])"
   ]
  },
  {
   "cell_type": "code",
   "execution_count": 53,
   "id": "4aa3114e",
   "metadata": {},
   "outputs": [
    {
     "data": {
      "text/plain": [
       "<Axes: >"
      ]
     },
     "execution_count": 53,
     "metadata": {},
     "output_type": "execute_result"
    },
    {
     "data": {
      "image/png": "[encoded data removed]",
      "text/plain": [
       "<Figure size 640x480 with 1 Axes>"
      ]
     },
     "metadata": {},
     "output_type": "display_data"
    }
   ],
   "source": [
    "sns.boxplot(df_trim_iqr['bath'])"
   ]
  },
  {
   "cell_type": "code",
   "execution_count": 54,
   "id": "4841f39a",
   "metadata": {
    "scrolled": false
   },
   "outputs": [
    {
     "data": {
      "text/plain": [
       "<Axes: >"
      ]
     },
     "execution_count": 54,
     "metadata": {},
     "output_type": "execute_result"
    },
    {
     "data": {
      "image/png": "[encoded data removed]",
      "text/plain": [
       "<Figure size 640x480 with 1 Axes>"
      ]
     },
     "metadata": {},
     "output_type": "display_data"
    }
   ],
   "source": [
    "sns.boxplot(df_trim_iqr['acre_lot'])"
   ]
  },
  {
   "cell_type": "code",
   "execution_count": 55,
   "id": "0ba7763a",
   "metadata": {},
   "outputs": [
    {
     "data": {
      "text/plain": [
       "<Axes: >"
      ]
     },
     "execution_count": 55,
     "metadata": {},
     "output_type": "execute_result"
    },
    {
     "data": {
      "image/png": "[encoded data removed]",
      "text/plain": [
       "<Figure size 640x480 with 1 Axes>"
      ]
     },
     "metadata": {},
     "output_type": "display_data"
    }
   ],
   "source": [
    "sns.boxplot(df_trim_iqr['house_size'])"
   ]
  },
  {
   "cell_type": "markdown",
   "id": "c1d0c12d",
   "metadata": {},
   "source": [
    "## 2-2B Capping"
   ]
  },
  {
   "cell_type": "code",
   "execution_count": 56,
   "id": "90db2122",
   "metadata": {},
   "outputs": [],
   "source": [
    "df_cap_iqr = df_iqr.copy()"
   ]
  },
  {
   "cell_type": "code",
   "execution_count": 57,
   "id": "1a814a68",
   "metadata": {},
   "outputs": [],
   "source": [
    "# replace outliers with upper and lower limits\n",
    "df_cap_iqr.loc[df_cap_iqr['bed'] < lower_b, 'bed'] = lower_b\n",
    "df_cap_iqr.loc[df_cap_iqr['bed'] > upper_b, 'bed'] = upper_b"
   ]
  },
  {
   "cell_type": "code",
   "execution_count": 58,
   "id": "80e9c179",
   "metadata": {},
   "outputs": [],
   "source": [
    "# replace outliers with upper and lower limits\n",
    "df_cap_iqr.loc[df_cap_iqr['bath'] < lower_ba, 'bath'] = lower_ba\n",
    "df_cap_iqr.loc[df_cap_iqr['bath'] > upper_ba, 'bath'] = upper_ba"
   ]
  },
  {
   "cell_type": "code",
   "execution_count": 59,
   "id": "c91afc3a",
   "metadata": {},
   "outputs": [],
   "source": [
    "# replace outliers with upper and lower limits\n",
    "df_cap_iqr.loc[df_cap_iqr['acre_lot'] < lower_acre_lot, 'acre_lot'] = lower_acre_lot\n",
    "df_cap_iqr.loc[df_cap_iqr['acre_lot'] > upper_acre_lot, 'acre_lot'] = upper_acre_lot"
   ]
  },
  {
   "cell_type": "code",
   "execution_count": 60,
   "id": "e0e5b152",
   "metadata": {},
   "outputs": [],
   "source": [
    "# replace outliers with upper and lower limits\n",
    "df_cap_iqr.loc[df_cap_iqr['house_size'] < lower_house_size, 'house_size'] = lower_house_size\n",
    "df_cap_iqr.loc[df_cap_iqr['house_size'] > upper_house_size, 'house_size'] = upper_house_size"
   ]
  },
  {
   "cell_type": "code",
   "execution_count": 61,
   "id": "ee75f9f8",
   "metadata": {},
   "outputs": [
    {
     "data": {
      "text/html": [
       "<div>\n",
       "<style scoped>\n",
       "    .dataframe tbody tr th:only-of-type {\n",
       "        vertical-align: middle;\n",
       "    }\n",
       "\n",
       "    .dataframe tbody tr th {\n",
       "        vertical-align: top;\n",
       "    }\n",
       "\n",
       "    .dataframe thead th {\n",
       "        text-align: right;\n",
       "    }\n",
       "</style>\n",
       "<table border=\"1\" class=\"dataframe\">\n",
       "  <thead>\n",
       "    <tr style=\"text-align: right;\">\n",
       "      <th></th>\n",
       "      <th>bath</th>\n",
       "      <th>bed</th>\n",
       "      <th>acre_lot</th>\n",
       "      <th>house_size</th>\n",
       "      <th>status</th>\n",
       "      <th>street</th>\n",
       "      <th>city</th>\n",
       "      <th>state</th>\n",
       "      <th>zip_code</th>\n",
       "      <th>price</th>\n",
       "    </tr>\n",
       "  </thead>\n",
       "  <tbody>\n",
       "    <tr>\n",
       "      <th>0</th>\n",
       "      <td>2.0</td>\n",
       "      <td>3.0</td>\n",
       "      <td>0.12</td>\n",
       "      <td>920.0</td>\n",
       "      <td>for_sale</td>\n",
       "      <td>1962661.0</td>\n",
       "      <td>Adjuntas</td>\n",
       "      <td>Puerto Rico</td>\n",
       "      <td>601.0</td>\n",
       "      <td>105000.0</td>\n",
       "    </tr>\n",
       "    <tr>\n",
       "      <th>1</th>\n",
       "      <td>2.0</td>\n",
       "      <td>4.0</td>\n",
       "      <td>0.08</td>\n",
       "      <td>1527.0</td>\n",
       "      <td>for_sale</td>\n",
       "      <td>1902874.0</td>\n",
       "      <td>Adjuntas</td>\n",
       "      <td>Puerto Rico</td>\n",
       "      <td>601.0</td>\n",
       "      <td>80000.0</td>\n",
       "    </tr>\n",
       "    <tr>\n",
       "      <th>2</th>\n",
       "      <td>1.0</td>\n",
       "      <td>2.0</td>\n",
       "      <td>0.15</td>\n",
       "      <td>748.0</td>\n",
       "      <td>for_sale</td>\n",
       "      <td>1404990.0</td>\n",
       "      <td>Juana Diaz</td>\n",
       "      <td>Puerto Rico</td>\n",
       "      <td>795.0</td>\n",
       "      <td>67000.0</td>\n",
       "    </tr>\n",
       "    <tr>\n",
       "      <th>3</th>\n",
       "      <td>2.0</td>\n",
       "      <td>4.0</td>\n",
       "      <td>0.10</td>\n",
       "      <td>1800.0</td>\n",
       "      <td>for_sale</td>\n",
       "      <td>1947675.0</td>\n",
       "      <td>Ponce</td>\n",
       "      <td>Puerto Rico</td>\n",
       "      <td>731.0</td>\n",
       "      <td>145000.0</td>\n",
       "    </tr>\n",
       "    <tr>\n",
       "      <th>4</th>\n",
       "      <td>2.0</td>\n",
       "      <td>5.5</td>\n",
       "      <td>0.05</td>\n",
       "      <td>2160.0</td>\n",
       "      <td>for_sale</td>\n",
       "      <td>331151.0</td>\n",
       "      <td>Mayaguez</td>\n",
       "      <td>Puerto Rico</td>\n",
       "      <td>680.0</td>\n",
       "      <td>65000.0</td>\n",
       "    </tr>\n",
       "  </tbody>\n",
       "</table>\n",
       "</div>"
      ],
      "text/plain": [
       "   bath  bed  acre_lot  house_size    status     street        city  \\\n",
       "0   2.0  3.0      0.12       920.0  for_sale  1962661.0    Adjuntas   \n",
       "1   2.0  4.0      0.08      1527.0  for_sale  1902874.0    Adjuntas   \n",
       "2   1.0  2.0      0.15       748.0  for_sale  1404990.0  Juana Diaz   \n",
       "3   2.0  4.0      0.10      1800.0  for_sale  1947675.0       Ponce   \n",
       "4   2.0  5.5      0.05      2160.0  for_sale   331151.0    Mayaguez   \n",
       "\n",
       "         state  zip_code     price  \n",
       "0  Puerto Rico     601.0  105000.0  \n",
       "1  Puerto Rico     601.0   80000.0  \n",
       "2  Puerto Rico     795.0   67000.0  \n",
       "3  Puerto Rico     731.0  145000.0  \n",
       "4  Puerto Rico     680.0   65000.0  "
      ]
     },
     "execution_count": 61,
     "metadata": {},
     "output_type": "execute_result"
    }
   ],
   "source": [
    "df_cap_iqr.head()"
   ]
  },
  {
   "cell_type": "code",
   "execution_count": 62,
   "id": "a80b0632",
   "metadata": {
    "scrolled": false
   },
   "outputs": [
    {
     "data": {
      "text/html": [
       "<div>\n",
       "<style scoped>\n",
       "    .dataframe tbody tr th:only-of-type {\n",
       "        vertical-align: middle;\n",
       "    }\n",
       "\n",
       "    .dataframe tbody tr th {\n",
       "        vertical-align: top;\n",
       "    }\n",
       "\n",
       "    .dataframe thead th {\n",
       "        text-align: right;\n",
       "    }\n",
       "</style>\n",
       "<table border=\"1\" class=\"dataframe\">\n",
       "  <thead>\n",
       "    <tr style=\"text-align: right;\">\n",
       "      <th></th>\n",
       "      <th>bath</th>\n",
       "      <th>bed</th>\n",
       "      <th>acre_lot</th>\n",
       "      <th>house_size</th>\n",
       "      <th>status</th>\n",
       "      <th>street</th>\n",
       "      <th>city</th>\n",
       "      <th>state</th>\n",
       "      <th>zip_code</th>\n",
       "      <th>price</th>\n",
       "    </tr>\n",
       "  </thead>\n",
       "  <tbody>\n",
       "    <tr>\n",
       "      <th>0</th>\n",
       "      <td>2.0</td>\n",
       "      <td>3.0</td>\n",
       "      <td>0.12</td>\n",
       "      <td>920.0</td>\n",
       "      <td>for_sale</td>\n",
       "      <td>1962661.0</td>\n",
       "      <td>Adjuntas</td>\n",
       "      <td>Puerto Rico</td>\n",
       "      <td>601.0</td>\n",
       "      <td>105000.0</td>\n",
       "    </tr>\n",
       "    <tr>\n",
       "      <th>1</th>\n",
       "      <td>2.0</td>\n",
       "      <td>4.0</td>\n",
       "      <td>0.08</td>\n",
       "      <td>1527.0</td>\n",
       "      <td>for_sale</td>\n",
       "      <td>1902874.0</td>\n",
       "      <td>Adjuntas</td>\n",
       "      <td>Puerto Rico</td>\n",
       "      <td>601.0</td>\n",
       "      <td>80000.0</td>\n",
       "    </tr>\n",
       "    <tr>\n",
       "      <th>2</th>\n",
       "      <td>1.0</td>\n",
       "      <td>2.0</td>\n",
       "      <td>0.15</td>\n",
       "      <td>748.0</td>\n",
       "      <td>for_sale</td>\n",
       "      <td>1404990.0</td>\n",
       "      <td>Juana Diaz</td>\n",
       "      <td>Puerto Rico</td>\n",
       "      <td>795.0</td>\n",
       "      <td>67000.0</td>\n",
       "    </tr>\n",
       "    <tr>\n",
       "      <th>3</th>\n",
       "      <td>2.0</td>\n",
       "      <td>4.0</td>\n",
       "      <td>0.10</td>\n",
       "      <td>1800.0</td>\n",
       "      <td>for_sale</td>\n",
       "      <td>1947675.0</td>\n",
       "      <td>Ponce</td>\n",
       "      <td>Puerto Rico</td>\n",
       "      <td>731.0</td>\n",
       "      <td>145000.0</td>\n",
       "    </tr>\n",
       "    <tr>\n",
       "      <th>4</th>\n",
       "      <td>2.0</td>\n",
       "      <td>5.5</td>\n",
       "      <td>0.05</td>\n",
       "      <td>2160.0</td>\n",
       "      <td>for_sale</td>\n",
       "      <td>331151.0</td>\n",
       "      <td>Mayaguez</td>\n",
       "      <td>Puerto Rico</td>\n",
       "      <td>680.0</td>\n",
       "      <td>65000.0</td>\n",
       "    </tr>\n",
       "  </tbody>\n",
       "</table>\n",
       "</div>"
      ],
      "text/plain": [
       "   bath  bed  acre_lot  house_size    status     street        city  \\\n",
       "0   2.0  3.0      0.12       920.0  for_sale  1962661.0    Adjuntas   \n",
       "1   2.0  4.0      0.08      1527.0  for_sale  1902874.0    Adjuntas   \n",
       "2   1.0  2.0      0.15       748.0  for_sale  1404990.0  Juana Diaz   \n",
       "3   2.0  4.0      0.10      1800.0  for_sale  1947675.0       Ponce   \n",
       "4   2.0  5.5      0.05      2160.0  for_sale   331151.0    Mayaguez   \n",
       "\n",
       "         state  zip_code     price  \n",
       "0  Puerto Rico     601.0  105000.0  \n",
       "1  Puerto Rico     601.0   80000.0  \n",
       "2  Puerto Rico     795.0   67000.0  \n",
       "3  Puerto Rico     731.0  145000.0  \n",
       "4  Puerto Rico     680.0   65000.0  "
      ]
     },
     "execution_count": 62,
     "metadata": {},
     "output_type": "execute_result"
    }
   ],
   "source": [
    "df_cap_iqr.head()"
   ]
  },
  {
   "cell_type": "markdown",
   "id": "5d744820",
   "metadata": {},
   "source": [
    "- We have 4 different datasets to use for feature selection and forecasting"
   ]
  },
  {
   "cell_type": "markdown",
   "id": "853914e2",
   "metadata": {},
   "source": [
    "# 3. Categorical Encoding"
   ]
  },
  {
   "cell_type": "markdown",
   "id": "f9d4a5a3",
   "metadata": {},
   "source": [
    "- Ensure to drop one of the dummy variables to avoid multicollinearity. In pandas' get_dummies() function, you can use drop_first=True to automatically drop the first category.\n",
    "- We will use df_cap dataframe obtained from 2-1B Capping method"
   ]
  },
  {
   "cell_type": "code",
   "execution_count": 63,
   "id": "aeb17723",
   "metadata": {},
   "outputs": [],
   "source": [
    "df_cat = df_cap.copy()"
   ]
  },
  {
   "cell_type": "markdown",
   "id": "09ff375a",
   "metadata": {},
   "source": [
    "- There are some cities which we only have 1 row of data available for them. We can put them in a category of \"other_cities\" to reduce down the number f dummy variables."
   ]
  },
  {
   "cell_type": "code",
   "execution_count": 64,
   "id": "9812b497",
   "metadata": {},
   "outputs": [
    {
     "data": {
      "text/html": [
       "<div>\n",
       "<style scoped>\n",
       "    .dataframe tbody tr th:only-of-type {\n",
       "        vertical-align: middle;\n",
       "    }\n",
       "\n",
       "    .dataframe tbody tr th {\n",
       "        vertical-align: top;\n",
       "    }\n",
       "\n",
       "    .dataframe thead th {\n",
       "        text-align: right;\n",
       "    }\n",
       "</style>\n",
       "<table border=\"1\" class=\"dataframe\">\n",
       "  <thead>\n",
       "    <tr style=\"text-align: right;\">\n",
       "      <th></th>\n",
       "      <th>bath</th>\n",
       "      <th>bed</th>\n",
       "      <th>acre_lot</th>\n",
       "      <th>house_size</th>\n",
       "      <th>status</th>\n",
       "      <th>street</th>\n",
       "      <th>city</th>\n",
       "      <th>state</th>\n",
       "      <th>zip_code</th>\n",
       "      <th>price</th>\n",
       "    </tr>\n",
       "  </thead>\n",
       "  <tbody>\n",
       "    <tr>\n",
       "      <th>0</th>\n",
       "      <td>2.0</td>\n",
       "      <td>3.0</td>\n",
       "      <td>0.12</td>\n",
       "      <td>920.0</td>\n",
       "      <td>for_sale</td>\n",
       "      <td>1962661.0</td>\n",
       "      <td>Adjuntas</td>\n",
       "      <td>Puerto Rico</td>\n",
       "      <td>601.0</td>\n",
       "      <td>105000.0</td>\n",
       "    </tr>\n",
       "    <tr>\n",
       "      <th>1</th>\n",
       "      <td>2.0</td>\n",
       "      <td>4.0</td>\n",
       "      <td>0.08</td>\n",
       "      <td>1527.0</td>\n",
       "      <td>for_sale</td>\n",
       "      <td>1902874.0</td>\n",
       "      <td>Adjuntas</td>\n",
       "      <td>Puerto Rico</td>\n",
       "      <td>601.0</td>\n",
       "      <td>80000.0</td>\n",
       "    </tr>\n",
       "    <tr>\n",
       "      <th>2</th>\n",
       "      <td>1.0</td>\n",
       "      <td>2.0</td>\n",
       "      <td>0.15</td>\n",
       "      <td>748.0</td>\n",
       "      <td>for_sale</td>\n",
       "      <td>1404990.0</td>\n",
       "      <td>Juana Diaz</td>\n",
       "      <td>Puerto Rico</td>\n",
       "      <td>795.0</td>\n",
       "      <td>67000.0</td>\n",
       "    </tr>\n",
       "    <tr>\n",
       "      <th>3</th>\n",
       "      <td>2.0</td>\n",
       "      <td>4.0</td>\n",
       "      <td>0.10</td>\n",
       "      <td>1800.0</td>\n",
       "      <td>for_sale</td>\n",
       "      <td>1947675.0</td>\n",
       "      <td>Ponce</td>\n",
       "      <td>Puerto Rico</td>\n",
       "      <td>731.0</td>\n",
       "      <td>145000.0</td>\n",
       "    </tr>\n",
       "    <tr>\n",
       "      <th>4</th>\n",
       "      <td>2.0</td>\n",
       "      <td>6.0</td>\n",
       "      <td>0.05</td>\n",
       "      <td>2160.0</td>\n",
       "      <td>for_sale</td>\n",
       "      <td>331151.0</td>\n",
       "      <td>Mayaguez</td>\n",
       "      <td>Puerto Rico</td>\n",
       "      <td>680.0</td>\n",
       "      <td>65000.0</td>\n",
       "    </tr>\n",
       "    <tr>\n",
       "      <th>...</th>\n",
       "      <td>...</td>\n",
       "      <td>...</td>\n",
       "      <td>...</td>\n",
       "      <td>...</td>\n",
       "      <td>...</td>\n",
       "      <td>...</td>\n",
       "      <td>...</td>\n",
       "      <td>...</td>\n",
       "      <td>...</td>\n",
       "      <td>...</td>\n",
       "    </tr>\n",
       "    <tr>\n",
       "      <th>2226377</th>\n",
       "      <td>2.0</td>\n",
       "      <td>4.0</td>\n",
       "      <td>0.33</td>\n",
       "      <td>3600.0</td>\n",
       "      <td>sold</td>\n",
       "      <td>353094.0</td>\n",
       "      <td>Richland</td>\n",
       "      <td>Washington</td>\n",
       "      <td>99354.0</td>\n",
       "      <td>359900.0</td>\n",
       "    </tr>\n",
       "    <tr>\n",
       "      <th>2226378</th>\n",
       "      <td>2.0</td>\n",
       "      <td>3.0</td>\n",
       "      <td>0.10</td>\n",
       "      <td>1616.0</td>\n",
       "      <td>sold</td>\n",
       "      <td>1062149.0</td>\n",
       "      <td>Richland</td>\n",
       "      <td>Washington</td>\n",
       "      <td>99354.0</td>\n",
       "      <td>350000.0</td>\n",
       "    </tr>\n",
       "    <tr>\n",
       "      <th>2226379</th>\n",
       "      <td>3.0</td>\n",
       "      <td>6.0</td>\n",
       "      <td>0.50</td>\n",
       "      <td>3200.0</td>\n",
       "      <td>sold</td>\n",
       "      <td>405677.0</td>\n",
       "      <td>Richland</td>\n",
       "      <td>Washington</td>\n",
       "      <td>99354.0</td>\n",
       "      <td>440000.0</td>\n",
       "    </tr>\n",
       "    <tr>\n",
       "      <th>2226380</th>\n",
       "      <td>1.0</td>\n",
       "      <td>2.0</td>\n",
       "      <td>0.09</td>\n",
       "      <td>933.0</td>\n",
       "      <td>sold</td>\n",
       "      <td>761379.0</td>\n",
       "      <td>Richland</td>\n",
       "      <td>Washington</td>\n",
       "      <td>99354.0</td>\n",
       "      <td>179900.0</td>\n",
       "    </tr>\n",
       "    <tr>\n",
       "      <th>2226381</th>\n",
       "      <td>3.0</td>\n",
       "      <td>5.0</td>\n",
       "      <td>0.31</td>\n",
       "      <td>3615.0</td>\n",
       "      <td>sold</td>\n",
       "      <td>307704.0</td>\n",
       "      <td>Richland</td>\n",
       "      <td>Washington</td>\n",
       "      <td>99354.0</td>\n",
       "      <td>580000.0</td>\n",
       "    </tr>\n",
       "  </tbody>\n",
       "</table>\n",
       "<p>2212488 rows × 10 columns</p>\n",
       "</div>"
      ],
      "text/plain": [
       "         bath  bed  acre_lot  house_size    status     street        city  \\\n",
       "0         2.0  3.0      0.12       920.0  for_sale  1962661.0    Adjuntas   \n",
       "1         2.0  4.0      0.08      1527.0  for_sale  1902874.0    Adjuntas   \n",
       "2         1.0  2.0      0.15       748.0  for_sale  1404990.0  Juana Diaz   \n",
       "3         2.0  4.0      0.10      1800.0  for_sale  1947675.0       Ponce   \n",
       "4         2.0  6.0      0.05      2160.0  for_sale   331151.0    Mayaguez   \n",
       "...       ...  ...       ...         ...       ...        ...         ...   \n",
       "2226377   2.0  4.0      0.33      3600.0      sold   353094.0    Richland   \n",
       "2226378   2.0  3.0      0.10      1616.0      sold  1062149.0    Richland   \n",
       "2226379   3.0  6.0      0.50      3200.0      sold   405677.0    Richland   \n",
       "2226380   1.0  2.0      0.09       933.0      sold   761379.0    Richland   \n",
       "2226381   3.0  5.0      0.31      3615.0      sold   307704.0    Richland   \n",
       "\n",
       "               state  zip_code     price  \n",
       "0        Puerto Rico     601.0  105000.0  \n",
       "1        Puerto Rico     601.0   80000.0  \n",
       "2        Puerto Rico     795.0   67000.0  \n",
       "3        Puerto Rico     731.0  145000.0  \n",
       "4        Puerto Rico     680.0   65000.0  \n",
       "...              ...       ...       ...  \n",
       "2226377   Washington   99354.0  359900.0  \n",
       "2226378   Washington   99354.0  350000.0  \n",
       "2226379   Washington   99354.0  440000.0  \n",
       "2226380   Washington   99354.0  179900.0  \n",
       "2226381   Washington   99354.0  580000.0  \n",
       "\n",
       "[2212488 rows x 10 columns]"
      ]
     },
     "execution_count": 64,
     "metadata": {},
     "output_type": "execute_result"
    }
   ],
   "source": [
    "df_cat"
   ]
  },
  {
   "cell_type": "markdown",
   "id": "7769f6df",
   "metadata": {},
   "source": [
    "## Status Column Get Dummies"
   ]
  },
  {
   "cell_type": "code",
   "execution_count": 65,
   "id": "6a8f8786",
   "metadata": {
    "scrolled": false
   },
   "outputs": [
    {
     "data": {
      "text/plain": [
       "array(['for_sale', 'ready_to_build', 'sold'], dtype=object)"
      ]
     },
     "execution_count": 65,
     "metadata": {},
     "output_type": "execute_result"
    }
   ],
   "source": [
    "df_cat['status'].unique()"
   ]
  },
  {
   "cell_type": "code",
   "execution_count": 66,
   "id": "6387fca8",
   "metadata": {
    "scrolled": false
   },
   "outputs": [],
   "source": [
    "status_dummies = pd.get_dummies(df_cat['status']).astype(int)"
   ]
  },
  {
   "cell_type": "code",
   "execution_count": 67,
   "id": "5d2248a1",
   "metadata": {},
   "outputs": [],
   "source": [
    "status_dummies.drop('sold', axis=1, inplace=True)"
   ]
  },
  {
   "cell_type": "code",
   "execution_count": 68,
   "id": "f64ebd41",
   "metadata": {},
   "outputs": [
    {
     "data": {
      "text/html": [
       "<div>\n",
       "<style scoped>\n",
       "    .dataframe tbody tr th:only-of-type {\n",
       "        vertical-align: middle;\n",
       "    }\n",
       "\n",
       "    .dataframe tbody tr th {\n",
       "        vertical-align: top;\n",
       "    }\n",
       "\n",
       "    .dataframe thead th {\n",
       "        text-align: right;\n",
       "    }\n",
       "</style>\n",
       "<table border=\"1\" class=\"dataframe\">\n",
       "  <thead>\n",
       "    <tr style=\"text-align: right;\">\n",
       "      <th></th>\n",
       "      <th>for_sale</th>\n",
       "      <th>ready_to_build</th>\n",
       "    </tr>\n",
       "  </thead>\n",
       "  <tbody>\n",
       "    <tr>\n",
       "      <th>0</th>\n",
       "      <td>1</td>\n",
       "      <td>0</td>\n",
       "    </tr>\n",
       "    <tr>\n",
       "      <th>1</th>\n",
       "      <td>1</td>\n",
       "      <td>0</td>\n",
       "    </tr>\n",
       "    <tr>\n",
       "      <th>2</th>\n",
       "      <td>1</td>\n",
       "      <td>0</td>\n",
       "    </tr>\n",
       "    <tr>\n",
       "      <th>3</th>\n",
       "      <td>1</td>\n",
       "      <td>0</td>\n",
       "    </tr>\n",
       "    <tr>\n",
       "      <th>4</th>\n",
       "      <td>1</td>\n",
       "      <td>0</td>\n",
       "    </tr>\n",
       "    <tr>\n",
       "      <th>...</th>\n",
       "      <td>...</td>\n",
       "      <td>...</td>\n",
       "    </tr>\n",
       "    <tr>\n",
       "      <th>2226377</th>\n",
       "      <td>0</td>\n",
       "      <td>0</td>\n",
       "    </tr>\n",
       "    <tr>\n",
       "      <th>2226378</th>\n",
       "      <td>0</td>\n",
       "      <td>0</td>\n",
       "    </tr>\n",
       "    <tr>\n",
       "      <th>2226379</th>\n",
       "      <td>0</td>\n",
       "      <td>0</td>\n",
       "    </tr>\n",
       "    <tr>\n",
       "      <th>2226380</th>\n",
       "      <td>0</td>\n",
       "      <td>0</td>\n",
       "    </tr>\n",
       "    <tr>\n",
       "      <th>2226381</th>\n",
       "      <td>0</td>\n",
       "      <td>0</td>\n",
       "    </tr>\n",
       "  </tbody>\n",
       "</table>\n",
       "<p>2212488 rows × 2 columns</p>\n",
       "</div>"
      ],
      "text/plain": [
       "         for_sale  ready_to_build\n",
       "0               1               0\n",
       "1               1               0\n",
       "2               1               0\n",
       "3               1               0\n",
       "4               1               0\n",
       "...           ...             ...\n",
       "2226377         0               0\n",
       "2226378         0               0\n",
       "2226379         0               0\n",
       "2226380         0               0\n",
       "2226381         0               0\n",
       "\n",
       "[2212488 rows x 2 columns]"
      ]
     },
     "execution_count": 68,
     "metadata": {},
     "output_type": "execute_result"
    }
   ],
   "source": [
    "status_dummies"
   ]
  },
  {
   "cell_type": "markdown",
   "id": "9e2824a3",
   "metadata": {},
   "source": [
    "## State Column Get Dummies"
   ]
  },
  {
   "cell_type": "code",
   "execution_count": 69,
   "id": "3bd6705b",
   "metadata": {
    "scrolled": true
   },
   "outputs": [
    {
     "data": {
      "text/plain": [
       "55"
      ]
     },
     "execution_count": 69,
     "metadata": {},
     "output_type": "execute_result"
    }
   ],
   "source": [
    "len(df_cat['state'].unique())"
   ]
  },
  {
   "cell_type": "markdown",
   "id": "c0aedffd",
   "metadata": {},
   "source": [
    "- There are great number of cities, zip_codes and streets in this dataframe. So I will drop the column and only consider the state instead for one-hot endocing."
   ]
  },
  {
   "cell_type": "code",
   "execution_count": 70,
   "id": "954252a6",
   "metadata": {
    "scrolled": false
   },
   "outputs": [
    {
     "data": {
      "text/html": [
       "<div>\n",
       "<style scoped>\n",
       "    .dataframe tbody tr th:only-of-type {\n",
       "        vertical-align: middle;\n",
       "    }\n",
       "\n",
       "    .dataframe tbody tr th {\n",
       "        vertical-align: top;\n",
       "    }\n",
       "\n",
       "    .dataframe thead th {\n",
       "        text-align: right;\n",
       "    }\n",
       "</style>\n",
       "<table border=\"1\" class=\"dataframe\">\n",
       "  <thead>\n",
       "    <tr style=\"text-align: right;\">\n",
       "      <th></th>\n",
       "      <th>Alaska</th>\n",
       "      <th>Arizona</th>\n",
       "      <th>Arkansas</th>\n",
       "      <th>California</th>\n",
       "      <th>Colorado</th>\n",
       "      <th>Connecticut</th>\n",
       "      <th>Delaware</th>\n",
       "      <th>District of Columbia</th>\n",
       "      <th>Florida</th>\n",
       "      <th>Georgia</th>\n",
       "      <th>...</th>\n",
       "      <th>Tennessee</th>\n",
       "      <th>Texas</th>\n",
       "      <th>Utah</th>\n",
       "      <th>Vermont</th>\n",
       "      <th>Virgin Islands</th>\n",
       "      <th>Virginia</th>\n",
       "      <th>Washington</th>\n",
       "      <th>West Virginia</th>\n",
       "      <th>Wisconsin</th>\n",
       "      <th>Wyoming</th>\n",
       "    </tr>\n",
       "  </thead>\n",
       "  <tbody>\n",
       "    <tr>\n",
       "      <th>0</th>\n",
       "      <td>0</td>\n",
       "      <td>0</td>\n",
       "      <td>0</td>\n",
       "      <td>0</td>\n",
       "      <td>0</td>\n",
       "      <td>0</td>\n",
       "      <td>0</td>\n",
       "      <td>0</td>\n",
       "      <td>0</td>\n",
       "      <td>0</td>\n",
       "      <td>...</td>\n",
       "      <td>0</td>\n",
       "      <td>0</td>\n",
       "      <td>0</td>\n",
       "      <td>0</td>\n",
       "      <td>0</td>\n",
       "      <td>0</td>\n",
       "      <td>0</td>\n",
       "      <td>0</td>\n",
       "      <td>0</td>\n",
       "      <td>0</td>\n",
       "    </tr>\n",
       "    <tr>\n",
       "      <th>1</th>\n",
       "      <td>0</td>\n",
       "      <td>0</td>\n",
       "      <td>0</td>\n",
       "      <td>0</td>\n",
       "      <td>0</td>\n",
       "      <td>0</td>\n",
       "      <td>0</td>\n",
       "      <td>0</td>\n",
       "      <td>0</td>\n",
       "      <td>0</td>\n",
       "      <td>...</td>\n",
       "      <td>0</td>\n",
       "      <td>0</td>\n",
       "      <td>0</td>\n",
       "      <td>0</td>\n",
       "      <td>0</td>\n",
       "      <td>0</td>\n",
       "      <td>0</td>\n",
       "      <td>0</td>\n",
       "      <td>0</td>\n",
       "      <td>0</td>\n",
       "    </tr>\n",
       "    <tr>\n",
       "      <th>2</th>\n",
       "      <td>0</td>\n",
       "      <td>0</td>\n",
       "      <td>0</td>\n",
       "      <td>0</td>\n",
       "      <td>0</td>\n",
       "      <td>0</td>\n",
       "      <td>0</td>\n",
       "      <td>0</td>\n",
       "      <td>0</td>\n",
       "      <td>0</td>\n",
       "      <td>...</td>\n",
       "      <td>0</td>\n",
       "      <td>0</td>\n",
       "      <td>0</td>\n",
       "      <td>0</td>\n",
       "      <td>0</td>\n",
       "      <td>0</td>\n",
       "      <td>0</td>\n",
       "      <td>0</td>\n",
       "      <td>0</td>\n",
       "      <td>0</td>\n",
       "    </tr>\n",
       "    <tr>\n",
       "      <th>3</th>\n",
       "      <td>0</td>\n",
       "      <td>0</td>\n",
       "      <td>0</td>\n",
       "      <td>0</td>\n",
       "      <td>0</td>\n",
       "      <td>0</td>\n",
       "      <td>0</td>\n",
       "      <td>0</td>\n",
       "      <td>0</td>\n",
       "      <td>0</td>\n",
       "      <td>...</td>\n",
       "      <td>0</td>\n",
       "      <td>0</td>\n",
       "      <td>0</td>\n",
       "      <td>0</td>\n",
       "      <td>0</td>\n",
       "      <td>0</td>\n",
       "      <td>0</td>\n",
       "      <td>0</td>\n",
       "      <td>0</td>\n",
       "      <td>0</td>\n",
       "    </tr>\n",
       "    <tr>\n",
       "      <th>4</th>\n",
       "      <td>0</td>\n",
       "      <td>0</td>\n",
       "      <td>0</td>\n",
       "      <td>0</td>\n",
       "      <td>0</td>\n",
       "      <td>0</td>\n",
       "      <td>0</td>\n",
       "      <td>0</td>\n",
       "      <td>0</td>\n",
       "      <td>0</td>\n",
       "      <td>...</td>\n",
       "      <td>0</td>\n",
       "      <td>0</td>\n",
       "      <td>0</td>\n",
       "      <td>0</td>\n",
       "      <td>0</td>\n",
       "      <td>0</td>\n",
       "      <td>0</td>\n",
       "      <td>0</td>\n",
       "      <td>0</td>\n",
       "      <td>0</td>\n",
       "    </tr>\n",
       "    <tr>\n",
       "      <th>...</th>\n",
       "      <td>...</td>\n",
       "      <td>...</td>\n",
       "      <td>...</td>\n",
       "      <td>...</td>\n",
       "      <td>...</td>\n",
       "      <td>...</td>\n",
       "      <td>...</td>\n",
       "      <td>...</td>\n",
       "      <td>...</td>\n",
       "      <td>...</td>\n",
       "      <td>...</td>\n",
       "      <td>...</td>\n",
       "      <td>...</td>\n",
       "      <td>...</td>\n",
       "      <td>...</td>\n",
       "      <td>...</td>\n",
       "      <td>...</td>\n",
       "      <td>...</td>\n",
       "      <td>...</td>\n",
       "      <td>...</td>\n",
       "      <td>...</td>\n",
       "    </tr>\n",
       "    <tr>\n",
       "      <th>2226377</th>\n",
       "      <td>0</td>\n",
       "      <td>0</td>\n",
       "      <td>0</td>\n",
       "      <td>0</td>\n",
       "      <td>0</td>\n",
       "      <td>0</td>\n",
       "      <td>0</td>\n",
       "      <td>0</td>\n",
       "      <td>0</td>\n",
       "      <td>0</td>\n",
       "      <td>...</td>\n",
       "      <td>0</td>\n",
       "      <td>0</td>\n",
       "      <td>0</td>\n",
       "      <td>0</td>\n",
       "      <td>0</td>\n",
       "      <td>0</td>\n",
       "      <td>1</td>\n",
       "      <td>0</td>\n",
       "      <td>0</td>\n",
       "      <td>0</td>\n",
       "    </tr>\n",
       "    <tr>\n",
       "      <th>2226378</th>\n",
       "      <td>0</td>\n",
       "      <td>0</td>\n",
       "      <td>0</td>\n",
       "      <td>0</td>\n",
       "      <td>0</td>\n",
       "      <td>0</td>\n",
       "      <td>0</td>\n",
       "      <td>0</td>\n",
       "      <td>0</td>\n",
       "      <td>0</td>\n",
       "      <td>...</td>\n",
       "      <td>0</td>\n",
       "      <td>0</td>\n",
       "      <td>0</td>\n",
       "      <td>0</td>\n",
       "      <td>0</td>\n",
       "      <td>0</td>\n",
       "      <td>1</td>\n",
       "      <td>0</td>\n",
       "      <td>0</td>\n",
       "      <td>0</td>\n",
       "    </tr>\n",
       "    <tr>\n",
       "      <th>2226379</th>\n",
       "      <td>0</td>\n",
       "      <td>0</td>\n",
       "      <td>0</td>\n",
       "      <td>0</td>\n",
       "      <td>0</td>\n",
       "      <td>0</td>\n",
       "      <td>0</td>\n",
       "      <td>0</td>\n",
       "      <td>0</td>\n",
       "      <td>0</td>\n",
       "      <td>...</td>\n",
       "      <td>0</td>\n",
       "      <td>0</td>\n",
       "      <td>0</td>\n",
       "      <td>0</td>\n",
       "      <td>0</td>\n",
       "      <td>0</td>\n",
       "      <td>1</td>\n",
       "      <td>0</td>\n",
       "      <td>0</td>\n",
       "      <td>0</td>\n",
       "    </tr>\n",
       "    <tr>\n",
       "      <th>2226380</th>\n",
       "      <td>0</td>\n",
       "      <td>0</td>\n",
       "      <td>0</td>\n",
       "      <td>0</td>\n",
       "      <td>0</td>\n",
       "      <td>0</td>\n",
       "      <td>0</td>\n",
       "      <td>0</td>\n",
       "      <td>0</td>\n",
       "      <td>0</td>\n",
       "      <td>...</td>\n",
       "      <td>0</td>\n",
       "      <td>0</td>\n",
       "      <td>0</td>\n",
       "      <td>0</td>\n",
       "      <td>0</td>\n",
       "      <td>0</td>\n",
       "      <td>1</td>\n",
       "      <td>0</td>\n",
       "      <td>0</td>\n",
       "      <td>0</td>\n",
       "    </tr>\n",
       "    <tr>\n",
       "      <th>2226381</th>\n",
       "      <td>0</td>\n",
       "      <td>0</td>\n",
       "      <td>0</td>\n",
       "      <td>0</td>\n",
       "      <td>0</td>\n",
       "      <td>0</td>\n",
       "      <td>0</td>\n",
       "      <td>0</td>\n",
       "      <td>0</td>\n",
       "      <td>0</td>\n",
       "      <td>...</td>\n",
       "      <td>0</td>\n",
       "      <td>0</td>\n",
       "      <td>0</td>\n",
       "      <td>0</td>\n",
       "      <td>0</td>\n",
       "      <td>0</td>\n",
       "      <td>1</td>\n",
       "      <td>0</td>\n",
       "      <td>0</td>\n",
       "      <td>0</td>\n",
       "    </tr>\n",
       "  </tbody>\n",
       "</table>\n",
       "<p>2212488 rows × 54 columns</p>\n",
       "</div>"
      ],
      "text/plain": [
       "         Alaska  Arizona  Arkansas  California  Colorado  Connecticut  \\\n",
       "0             0        0         0           0         0            0   \n",
       "1             0        0         0           0         0            0   \n",
       "2             0        0         0           0         0            0   \n",
       "3             0        0         0           0         0            0   \n",
       "4             0        0         0           0         0            0   \n",
       "...         ...      ...       ...         ...       ...          ...   \n",
       "2226377       0        0         0           0         0            0   \n",
       "2226378       0        0         0           0         0            0   \n",
       "2226379       0        0         0           0         0            0   \n",
       "2226380       0        0         0           0         0            0   \n",
       "2226381       0        0         0           0         0            0   \n",
       "\n",
       "         Delaware  District of Columbia  Florida  Georgia  ...  Tennessee  \\\n",
       "0               0                     0        0        0  ...          0   \n",
       "1               0                     0        0        0  ...          0   \n",
       "2               0                     0        0        0  ...          0   \n",
       "3               0                     0        0        0  ...          0   \n",
       "4               0                     0        0        0  ...          0   \n",
       "...           ...                   ...      ...      ...  ...        ...   \n",
       "2226377         0                     0        0        0  ...          0   \n",
       "2226378         0                     0        0        0  ...          0   \n",
       "2226379         0                     0        0        0  ...          0   \n",
       "2226380         0                     0        0        0  ...          0   \n",
       "2226381         0                     0        0        0  ...          0   \n",
       "\n",
       "         Texas  Utah  Vermont  Virgin Islands  Virginia  Washington  \\\n",
       "0            0     0        0               0         0           0   \n",
       "1            0     0        0               0         0           0   \n",
       "2            0     0        0               0         0           0   \n",
       "3            0     0        0               0         0           0   \n",
       "4            0     0        0               0         0           0   \n",
       "...        ...   ...      ...             ...       ...         ...   \n",
       "2226377      0     0        0               0         0           1   \n",
       "2226378      0     0        0               0         0           1   \n",
       "2226379      0     0        0               0         0           1   \n",
       "2226380      0     0        0               0         0           1   \n",
       "2226381      0     0        0               0         0           1   \n",
       "\n",
       "         West Virginia  Wisconsin  Wyoming  \n",
       "0                    0          0        0  \n",
       "1                    0          0        0  \n",
       "2                    0          0        0  \n",
       "3                    0          0        0  \n",
       "4                    0          0        0  \n",
       "...                ...        ...      ...  \n",
       "2226377              0          0        0  \n",
       "2226378              0          0        0  \n",
       "2226379              0          0        0  \n",
       "2226380              0          0        0  \n",
       "2226381              0          0        0  \n",
       "\n",
       "[2212488 rows x 54 columns]"
      ]
     },
     "execution_count": 70,
     "metadata": {},
     "output_type": "execute_result"
    }
   ],
   "source": [
    "# Let's get dummies of state column and remove the other lcation related columns such as zip_code, city, street\n",
    "state_dummies = pd.get_dummies(df_cat['state'], drop_first=True).astype(int)\n",
    "state_dummies"
   ]
  },
  {
   "cell_type": "code",
   "execution_count": 71,
   "id": "993fdc7d",
   "metadata": {
    "scrolled": false
   },
   "outputs": [],
   "source": [
    "# Now, we will concatenate the dummies into our main dataframe\n",
    "df_cat = pd.concat([df_cat, status_dummies, state_dummies], axis=1)"
   ]
  },
  {
   "cell_type": "code",
   "execution_count": 72,
   "id": "d2371aea",
   "metadata": {},
   "outputs": [],
   "source": [
    "df_city = df_cat[['street', 'city', 'zip_code', 'state', 'status']]"
   ]
  },
  {
   "cell_type": "code",
   "execution_count": 73,
   "id": "eccdfa41",
   "metadata": {},
   "outputs": [],
   "source": [
    "df_cat.drop(['street', 'city', 'zip_code', 'state', 'status'], axis=1, inplace=True)"
   ]
  },
  {
   "cell_type": "code",
   "execution_count": 74,
   "id": "f5c852e2",
   "metadata": {
    "scrolled": false
   },
   "outputs": [
    {
     "data": {
      "text/html": [
       "<div>\n",
       "<style scoped>\n",
       "    .dataframe tbody tr th:only-of-type {\n",
       "        vertical-align: middle;\n",
       "    }\n",
       "\n",
       "    .dataframe tbody tr th {\n",
       "        vertical-align: top;\n",
       "    }\n",
       "\n",
       "    .dataframe thead th {\n",
       "        text-align: right;\n",
       "    }\n",
       "</style>\n",
       "<table border=\"1\" class=\"dataframe\">\n",
       "  <thead>\n",
       "    <tr style=\"text-align: right;\">\n",
       "      <th></th>\n",
       "      <th>bath</th>\n",
       "      <th>bed</th>\n",
       "      <th>acre_lot</th>\n",
       "      <th>house_size</th>\n",
       "      <th>price</th>\n",
       "      <th>for_sale</th>\n",
       "      <th>ready_to_build</th>\n",
       "      <th>Alaska</th>\n",
       "      <th>Arizona</th>\n",
       "      <th>Arkansas</th>\n",
       "      <th>...</th>\n",
       "      <th>Tennessee</th>\n",
       "      <th>Texas</th>\n",
       "      <th>Utah</th>\n",
       "      <th>Vermont</th>\n",
       "      <th>Virgin Islands</th>\n",
       "      <th>Virginia</th>\n",
       "      <th>Washington</th>\n",
       "      <th>West Virginia</th>\n",
       "      <th>Wisconsin</th>\n",
       "      <th>Wyoming</th>\n",
       "    </tr>\n",
       "  </thead>\n",
       "  <tbody>\n",
       "    <tr>\n",
       "      <th>0</th>\n",
       "      <td>2.0</td>\n",
       "      <td>3.0</td>\n",
       "      <td>0.12</td>\n",
       "      <td>920.0</td>\n",
       "      <td>105000.0</td>\n",
       "      <td>1</td>\n",
       "      <td>0</td>\n",
       "      <td>0</td>\n",
       "      <td>0</td>\n",
       "      <td>0</td>\n",
       "      <td>...</td>\n",
       "      <td>0</td>\n",
       "      <td>0</td>\n",
       "      <td>0</td>\n",
       "      <td>0</td>\n",
       "      <td>0</td>\n",
       "      <td>0</td>\n",
       "      <td>0</td>\n",
       "      <td>0</td>\n",
       "      <td>0</td>\n",
       "      <td>0</td>\n",
       "    </tr>\n",
       "    <tr>\n",
       "      <th>1</th>\n",
       "      <td>2.0</td>\n",
       "      <td>4.0</td>\n",
       "      <td>0.08</td>\n",
       "      <td>1527.0</td>\n",
       "      <td>80000.0</td>\n",
       "      <td>1</td>\n",
       "      <td>0</td>\n",
       "      <td>0</td>\n",
       "      <td>0</td>\n",
       "      <td>0</td>\n",
       "      <td>...</td>\n",
       "      <td>0</td>\n",
       "      <td>0</td>\n",
       "      <td>0</td>\n",
       "      <td>0</td>\n",
       "      <td>0</td>\n",
       "      <td>0</td>\n",
       "      <td>0</td>\n",
       "      <td>0</td>\n",
       "      <td>0</td>\n",
       "      <td>0</td>\n",
       "    </tr>\n",
       "    <tr>\n",
       "      <th>2</th>\n",
       "      <td>1.0</td>\n",
       "      <td>2.0</td>\n",
       "      <td>0.15</td>\n",
       "      <td>748.0</td>\n",
       "      <td>67000.0</td>\n",
       "      <td>1</td>\n",
       "      <td>0</td>\n",
       "      <td>0</td>\n",
       "      <td>0</td>\n",
       "      <td>0</td>\n",
       "      <td>...</td>\n",
       "      <td>0</td>\n",
       "      <td>0</td>\n",
       "      <td>0</td>\n",
       "      <td>0</td>\n",
       "      <td>0</td>\n",
       "      <td>0</td>\n",
       "      <td>0</td>\n",
       "      <td>0</td>\n",
       "      <td>0</td>\n",
       "      <td>0</td>\n",
       "    </tr>\n",
       "    <tr>\n",
       "      <th>3</th>\n",
       "      <td>2.0</td>\n",
       "      <td>4.0</td>\n",
       "      <td>0.10</td>\n",
       "      <td>1800.0</td>\n",
       "      <td>145000.0</td>\n",
       "      <td>1</td>\n",
       "      <td>0</td>\n",
       "      <td>0</td>\n",
       "      <td>0</td>\n",
       "      <td>0</td>\n",
       "      <td>...</td>\n",
       "      <td>0</td>\n",
       "      <td>0</td>\n",
       "      <td>0</td>\n",
       "      <td>0</td>\n",
       "      <td>0</td>\n",
       "      <td>0</td>\n",
       "      <td>0</td>\n",
       "      <td>0</td>\n",
       "      <td>0</td>\n",
       "      <td>0</td>\n",
       "    </tr>\n",
       "    <tr>\n",
       "      <th>4</th>\n",
       "      <td>2.0</td>\n",
       "      <td>6.0</td>\n",
       "      <td>0.05</td>\n",
       "      <td>2160.0</td>\n",
       "      <td>65000.0</td>\n",
       "      <td>1</td>\n",
       "      <td>0</td>\n",
       "      <td>0</td>\n",
       "      <td>0</td>\n",
       "      <td>0</td>\n",
       "      <td>...</td>\n",
       "      <td>0</td>\n",
       "      <td>0</td>\n",
       "      <td>0</td>\n",
       "      <td>0</td>\n",
       "      <td>0</td>\n",
       "      <td>0</td>\n",
       "      <td>0</td>\n",
       "      <td>0</td>\n",
       "      <td>0</td>\n",
       "      <td>0</td>\n",
       "    </tr>\n",
       "    <tr>\n",
       "      <th>...</th>\n",
       "      <td>...</td>\n",
       "      <td>...</td>\n",
       "      <td>...</td>\n",
       "      <td>...</td>\n",
       "      <td>...</td>\n",
       "      <td>...</td>\n",
       "      <td>...</td>\n",
       "      <td>...</td>\n",
       "      <td>...</td>\n",
       "      <td>...</td>\n",
       "      <td>...</td>\n",
       "      <td>...</td>\n",
       "      <td>...</td>\n",
       "      <td>...</td>\n",
       "      <td>...</td>\n",
       "      <td>...</td>\n",
       "      <td>...</td>\n",
       "      <td>...</td>\n",
       "      <td>...</td>\n",
       "      <td>...</td>\n",
       "      <td>...</td>\n",
       "    </tr>\n",
       "    <tr>\n",
       "      <th>2226377</th>\n",
       "      <td>2.0</td>\n",
       "      <td>4.0</td>\n",
       "      <td>0.33</td>\n",
       "      <td>3600.0</td>\n",
       "      <td>359900.0</td>\n",
       "      <td>0</td>\n",
       "      <td>0</td>\n",
       "      <td>0</td>\n",
       "      <td>0</td>\n",
       "      <td>0</td>\n",
       "      <td>...</td>\n",
       "      <td>0</td>\n",
       "      <td>0</td>\n",
       "      <td>0</td>\n",
       "      <td>0</td>\n",
       "      <td>0</td>\n",
       "      <td>0</td>\n",
       "      <td>1</td>\n",
       "      <td>0</td>\n",
       "      <td>0</td>\n",
       "      <td>0</td>\n",
       "    </tr>\n",
       "    <tr>\n",
       "      <th>2226378</th>\n",
       "      <td>2.0</td>\n",
       "      <td>3.0</td>\n",
       "      <td>0.10</td>\n",
       "      <td>1616.0</td>\n",
       "      <td>350000.0</td>\n",
       "      <td>0</td>\n",
       "      <td>0</td>\n",
       "      <td>0</td>\n",
       "      <td>0</td>\n",
       "      <td>0</td>\n",
       "      <td>...</td>\n",
       "      <td>0</td>\n",
       "      <td>0</td>\n",
       "      <td>0</td>\n",
       "      <td>0</td>\n",
       "      <td>0</td>\n",
       "      <td>0</td>\n",
       "      <td>1</td>\n",
       "      <td>0</td>\n",
       "      <td>0</td>\n",
       "      <td>0</td>\n",
       "    </tr>\n",
       "    <tr>\n",
       "      <th>2226379</th>\n",
       "      <td>3.0</td>\n",
       "      <td>6.0</td>\n",
       "      <td>0.50</td>\n",
       "      <td>3200.0</td>\n",
       "      <td>440000.0</td>\n",
       "      <td>0</td>\n",
       "      <td>0</td>\n",
       "      <td>0</td>\n",
       "      <td>0</td>\n",
       "      <td>0</td>\n",
       "      <td>...</td>\n",
       "      <td>0</td>\n",
       "      <td>0</td>\n",
       "      <td>0</td>\n",
       "      <td>0</td>\n",
       "      <td>0</td>\n",
       "      <td>0</td>\n",
       "      <td>1</td>\n",
       "      <td>0</td>\n",
       "      <td>0</td>\n",
       "      <td>0</td>\n",
       "    </tr>\n",
       "    <tr>\n",
       "      <th>2226380</th>\n",
       "      <td>1.0</td>\n",
       "      <td>2.0</td>\n",
       "      <td>0.09</td>\n",
       "      <td>933.0</td>\n",
       "      <td>179900.0</td>\n",
       "      <td>0</td>\n",
       "      <td>0</td>\n",
       "      <td>0</td>\n",
       "      <td>0</td>\n",
       "      <td>0</td>\n",
       "      <td>...</td>\n",
       "      <td>0</td>\n",
       "      <td>0</td>\n",
       "      <td>0</td>\n",
       "      <td>0</td>\n",
       "      <td>0</td>\n",
       "      <td>0</td>\n",
       "      <td>1</td>\n",
       "      <td>0</td>\n",
       "      <td>0</td>\n",
       "      <td>0</td>\n",
       "    </tr>\n",
       "    <tr>\n",
       "      <th>2226381</th>\n",
       "      <td>3.0</td>\n",
       "      <td>5.0</td>\n",
       "      <td>0.31</td>\n",
       "      <td>3615.0</td>\n",
       "      <td>580000.0</td>\n",
       "      <td>0</td>\n",
       "      <td>0</td>\n",
       "      <td>0</td>\n",
       "      <td>0</td>\n",
       "      <td>0</td>\n",
       "      <td>...</td>\n",
       "      <td>0</td>\n",
       "      <td>0</td>\n",
       "      <td>0</td>\n",
       "      <td>0</td>\n",
       "      <td>0</td>\n",
       "      <td>0</td>\n",
       "      <td>1</td>\n",
       "      <td>0</td>\n",
       "      <td>0</td>\n",
       "      <td>0</td>\n",
       "    </tr>\n",
       "  </tbody>\n",
       "</table>\n",
       "<p>2212488 rows × 61 columns</p>\n",
       "</div>"
      ],
      "text/plain": [
       "         bath  bed  acre_lot  house_size     price  for_sale  ready_to_build  \\\n",
       "0         2.0  3.0      0.12       920.0  105000.0         1               0   \n",
       "1         2.0  4.0      0.08      1527.0   80000.0         1               0   \n",
       "2         1.0  2.0      0.15       748.0   67000.0         1               0   \n",
       "3         2.0  4.0      0.10      1800.0  145000.0         1               0   \n",
       "4         2.0  6.0      0.05      2160.0   65000.0         1               0   \n",
       "...       ...  ...       ...         ...       ...       ...             ...   \n",
       "2226377   2.0  4.0      0.33      3600.0  359900.0         0               0   \n",
       "2226378   2.0  3.0      0.10      1616.0  350000.0         0               0   \n",
       "2226379   3.0  6.0      0.50      3200.0  440000.0         0               0   \n",
       "2226380   1.0  2.0      0.09       933.0  179900.0         0               0   \n",
       "2226381   3.0  5.0      0.31      3615.0  580000.0         0               0   \n",
       "\n",
       "         Alaska  Arizona  Arkansas  ...  Tennessee  Texas  Utah  Vermont  \\\n",
       "0             0        0         0  ...          0      0     0        0   \n",
       "1             0        0         0  ...          0      0     0        0   \n",
       "2             0        0         0  ...          0      0     0        0   \n",
       "3             0        0         0  ...          0      0     0        0   \n",
       "4             0        0         0  ...          0      0     0        0   \n",
       "...         ...      ...       ...  ...        ...    ...   ...      ...   \n",
       "2226377       0        0         0  ...          0      0     0        0   \n",
       "2226378       0        0         0  ...          0      0     0        0   \n",
       "2226379       0        0         0  ...          0      0     0        0   \n",
       "2226380       0        0         0  ...          0      0     0        0   \n",
       "2226381       0        0         0  ...          0      0     0        0   \n",
       "\n",
       "         Virgin Islands  Virginia  Washington  West Virginia  Wisconsin  \\\n",
       "0                     0         0           0              0          0   \n",
       "1                     0         0           0              0          0   \n",
       "2                     0         0           0              0          0   \n",
       "3                     0         0           0              0          0   \n",
       "4                     0         0           0              0          0   \n",
       "...                 ...       ...         ...            ...        ...   \n",
       "2226377               0         0           1              0          0   \n",
       "2226378               0         0           1              0          0   \n",
       "2226379               0         0           1              0          0   \n",
       "2226380               0         0           1              0          0   \n",
       "2226381               0         0           1              0          0   \n",
       "\n",
       "         Wyoming  \n",
       "0              0  \n",
       "1              0  \n",
       "2              0  \n",
       "3              0  \n",
       "4              0  \n",
       "...          ...  \n",
       "2226377        0  \n",
       "2226378        0  \n",
       "2226379        0  \n",
       "2226380        0  \n",
       "2226381        0  \n",
       "\n",
       "[2212488 rows x 61 columns]"
      ]
     },
     "execution_count": 74,
     "metadata": {},
     "output_type": "execute_result"
    }
   ],
   "source": [
    "df_cat"
   ]
  },
  {
   "cell_type": "markdown",
   "id": "9391abbb",
   "metadata": {},
   "source": [
    "# Train/Test Split"
   ]
  },
  {
   "cell_type": "code",
   "execution_count": 75,
   "id": "f60b532d",
   "metadata": {},
   "outputs": [],
   "source": [
    "from sklearn.model_selection import train_test_split\n",
    "from fast_ml.model_development import train_valid_test_split\n",
    "\n",
    "\n",
    "x_train, y_train, x_val, y_val, x_test, y_test = train_valid_test_split(df_cat, \n",
    "                                                                        target='price',\n",
    "                                                                        train_size=0.8, \n",
    "                                                                        valid_size= 0.1, \n",
    "                                                                        test_size=0.1, random_state=1)"
   ]
  },
  {
   "cell_type": "markdown",
   "id": "57bce64c",
   "metadata": {},
   "source": [
    "# 4. Train DataFrame/Correlation"
   ]
  },
  {
   "cell_type": "code",
   "execution_count": 76,
   "id": "912c79a7",
   "metadata": {
    "scrolled": true
   },
   "outputs": [
    {
     "data": {
      "text/html": [
       "<div>\n",
       "<style scoped>\n",
       "    .dataframe tbody tr th:only-of-type {\n",
       "        vertical-align: middle;\n",
       "    }\n",
       "\n",
       "    .dataframe tbody tr th {\n",
       "        vertical-align: top;\n",
       "    }\n",
       "\n",
       "    .dataframe thead th {\n",
       "        text-align: right;\n",
       "    }\n",
       "</style>\n",
       "<table border=\"1\" class=\"dataframe\">\n",
       "  <thead>\n",
       "    <tr style=\"text-align: right;\">\n",
       "      <th></th>\n",
       "      <th>bath</th>\n",
       "      <th>bed</th>\n",
       "      <th>acre_lot</th>\n",
       "      <th>house_size</th>\n",
       "      <th>for_sale</th>\n",
       "      <th>ready_to_build</th>\n",
       "      <th>Alaska</th>\n",
       "      <th>Arizona</th>\n",
       "      <th>Arkansas</th>\n",
       "      <th>California</th>\n",
       "      <th>...</th>\n",
       "      <th>Texas</th>\n",
       "      <th>Utah</th>\n",
       "      <th>Vermont</th>\n",
       "      <th>Virgin Islands</th>\n",
       "      <th>Virginia</th>\n",
       "      <th>Washington</th>\n",
       "      <th>West Virginia</th>\n",
       "      <th>Wisconsin</th>\n",
       "      <th>Wyoming</th>\n",
       "      <th>price</th>\n",
       "    </tr>\n",
       "  </thead>\n",
       "  <tbody>\n",
       "    <tr>\n",
       "      <th>1822437</th>\n",
       "      <td>2.000000</td>\n",
       "      <td>3.000000</td>\n",
       "      <td>0.110000</td>\n",
       "      <td>1400.000000</td>\n",
       "      <td>0</td>\n",
       "      <td>0</td>\n",
       "      <td>0</td>\n",
       "      <td>0</td>\n",
       "      <td>0</td>\n",
       "      <td>0</td>\n",
       "      <td>...</td>\n",
       "      <td>0</td>\n",
       "      <td>0</td>\n",
       "      <td>0</td>\n",
       "      <td>0</td>\n",
       "      <td>0</td>\n",
       "      <td>0</td>\n",
       "      <td>0</td>\n",
       "      <td>1</td>\n",
       "      <td>0</td>\n",
       "      <td>155000.0</td>\n",
       "    </tr>\n",
       "    <tr>\n",
       "      <th>2110912</th>\n",
       "      <td>2.000000</td>\n",
       "      <td>3.000000</td>\n",
       "      <td>0.720000</td>\n",
       "      <td>1755.000000</td>\n",
       "      <td>0</td>\n",
       "      <td>0</td>\n",
       "      <td>0</td>\n",
       "      <td>0</td>\n",
       "      <td>0</td>\n",
       "      <td>1</td>\n",
       "      <td>...</td>\n",
       "      <td>0</td>\n",
       "      <td>0</td>\n",
       "      <td>0</td>\n",
       "      <td>0</td>\n",
       "      <td>0</td>\n",
       "      <td>0</td>\n",
       "      <td>0</td>\n",
       "      <td>0</td>\n",
       "      <td>0</td>\n",
       "      <td>769000.0</td>\n",
       "    </tr>\n",
       "    <tr>\n",
       "      <th>1664444</th>\n",
       "      <td>2.000000</td>\n",
       "      <td>3.000000</td>\n",
       "      <td>2.550000</td>\n",
       "      <td>1635.000000</td>\n",
       "      <td>0</td>\n",
       "      <td>0</td>\n",
       "      <td>0</td>\n",
       "      <td>0</td>\n",
       "      <td>0</td>\n",
       "      <td>0</td>\n",
       "      <td>...</td>\n",
       "      <td>0</td>\n",
       "      <td>0</td>\n",
       "      <td>0</td>\n",
       "      <td>0</td>\n",
       "      <td>0</td>\n",
       "      <td>0</td>\n",
       "      <td>0</td>\n",
       "      <td>0</td>\n",
       "      <td>0</td>\n",
       "      <td>99000.0</td>\n",
       "    </tr>\n",
       "    <tr>\n",
       "      <th>1197301</th>\n",
       "      <td>2.000000</td>\n",
       "      <td>3.000000</td>\n",
       "      <td>0.150000</td>\n",
       "      <td>1812.000000</td>\n",
       "      <td>1</td>\n",
       "      <td>0</td>\n",
       "      <td>0</td>\n",
       "      <td>1</td>\n",
       "      <td>0</td>\n",
       "      <td>0</td>\n",
       "      <td>...</td>\n",
       "      <td>0</td>\n",
       "      <td>0</td>\n",
       "      <td>0</td>\n",
       "      <td>0</td>\n",
       "      <td>0</td>\n",
       "      <td>0</td>\n",
       "      <td>0</td>\n",
       "      <td>0</td>\n",
       "      <td>0</td>\n",
       "      <td>500000.0</td>\n",
       "    </tr>\n",
       "    <tr>\n",
       "      <th>1540507</th>\n",
       "      <td>2.000000</td>\n",
       "      <td>3.000000</td>\n",
       "      <td>0.040000</td>\n",
       "      <td>1310.000000</td>\n",
       "      <td>0</td>\n",
       "      <td>0</td>\n",
       "      <td>0</td>\n",
       "      <td>0</td>\n",
       "      <td>0</td>\n",
       "      <td>0</td>\n",
       "      <td>...</td>\n",
       "      <td>0</td>\n",
       "      <td>0</td>\n",
       "      <td>0</td>\n",
       "      <td>0</td>\n",
       "      <td>0</td>\n",
       "      <td>0</td>\n",
       "      <td>0</td>\n",
       "      <td>0</td>\n",
       "      <td>0</td>\n",
       "      <td>740000.0</td>\n",
       "    </tr>\n",
       "    <tr>\n",
       "      <th>...</th>\n",
       "      <td>...</td>\n",
       "      <td>...</td>\n",
       "      <td>...</td>\n",
       "      <td>...</td>\n",
       "      <td>...</td>\n",
       "      <td>...</td>\n",
       "      <td>...</td>\n",
       "      <td>...</td>\n",
       "      <td>...</td>\n",
       "      <td>...</td>\n",
       "      <td>...</td>\n",
       "      <td>...</td>\n",
       "      <td>...</td>\n",
       "      <td>...</td>\n",
       "      <td>...</td>\n",
       "      <td>...</td>\n",
       "      <td>...</td>\n",
       "      <td>...</td>\n",
       "      <td>...</td>\n",
       "      <td>...</td>\n",
       "      <td>...</td>\n",
       "    </tr>\n",
       "    <tr>\n",
       "      <th>73691</th>\n",
       "      <td>2.000000</td>\n",
       "      <td>3.000000</td>\n",
       "      <td>4.060000</td>\n",
       "      <td>2428.666667</td>\n",
       "      <td>1</td>\n",
       "      <td>0</td>\n",
       "      <td>0</td>\n",
       "      <td>0</td>\n",
       "      <td>0</td>\n",
       "      <td>0</td>\n",
       "      <td>...</td>\n",
       "      <td>0</td>\n",
       "      <td>0</td>\n",
       "      <td>0</td>\n",
       "      <td>0</td>\n",
       "      <td>0</td>\n",
       "      <td>0</td>\n",
       "      <td>0</td>\n",
       "      <td>0</td>\n",
       "      <td>0</td>\n",
       "      <td>550000.0</td>\n",
       "    </tr>\n",
       "    <tr>\n",
       "      <th>842505</th>\n",
       "      <td>5.130435</td>\n",
       "      <td>5.565217</td>\n",
       "      <td>0.270000</td>\n",
       "      <td>3382.869565</td>\n",
       "      <td>1</td>\n",
       "      <td>0</td>\n",
       "      <td>0</td>\n",
       "      <td>0</td>\n",
       "      <td>0</td>\n",
       "      <td>0</td>\n",
       "      <td>...</td>\n",
       "      <td>0</td>\n",
       "      <td>0</td>\n",
       "      <td>0</td>\n",
       "      <td>0</td>\n",
       "      <td>0</td>\n",
       "      <td>0</td>\n",
       "      <td>0</td>\n",
       "      <td>0</td>\n",
       "      <td>0</td>\n",
       "      <td>69000.0</td>\n",
       "    </tr>\n",
       "    <tr>\n",
       "      <th>494508</th>\n",
       "      <td>2.000000</td>\n",
       "      <td>2.000000</td>\n",
       "      <td>0.152083</td>\n",
       "      <td>1000.000000</td>\n",
       "      <td>1</td>\n",
       "      <td>0</td>\n",
       "      <td>0</td>\n",
       "      <td>0</td>\n",
       "      <td>0</td>\n",
       "      <td>0</td>\n",
       "      <td>...</td>\n",
       "      <td>0</td>\n",
       "      <td>0</td>\n",
       "      <td>0</td>\n",
       "      <td>0</td>\n",
       "      <td>0</td>\n",
       "      <td>0</td>\n",
       "      <td>0</td>\n",
       "      <td>0</td>\n",
       "      <td>0</td>\n",
       "      <td>145000.0</td>\n",
       "    </tr>\n",
       "    <tr>\n",
       "      <th>495007</th>\n",
       "      <td>2.000000</td>\n",
       "      <td>2.000000</td>\n",
       "      <td>0.316667</td>\n",
       "      <td>1049.000000</td>\n",
       "      <td>1</td>\n",
       "      <td>0</td>\n",
       "      <td>0</td>\n",
       "      <td>0</td>\n",
       "      <td>0</td>\n",
       "      <td>0</td>\n",
       "      <td>...</td>\n",
       "      <td>0</td>\n",
       "      <td>0</td>\n",
       "      <td>0</td>\n",
       "      <td>0</td>\n",
       "      <td>0</td>\n",
       "      <td>0</td>\n",
       "      <td>0</td>\n",
       "      <td>0</td>\n",
       "      <td>0</td>\n",
       "      <td>179999.0</td>\n",
       "    </tr>\n",
       "    <tr>\n",
       "      <th>128852</th>\n",
       "      <td>2.000000</td>\n",
       "      <td>3.000000</td>\n",
       "      <td>0.350000</td>\n",
       "      <td>2003.000000</td>\n",
       "      <td>1</td>\n",
       "      <td>0</td>\n",
       "      <td>0</td>\n",
       "      <td>0</td>\n",
       "      <td>0</td>\n",
       "      <td>0</td>\n",
       "      <td>...</td>\n",
       "      <td>0</td>\n",
       "      <td>0</td>\n",
       "      <td>0</td>\n",
       "      <td>0</td>\n",
       "      <td>0</td>\n",
       "      <td>0</td>\n",
       "      <td>0</td>\n",
       "      <td>0</td>\n",
       "      <td>0</td>\n",
       "      <td>649000.0</td>\n",
       "    </tr>\n",
       "  </tbody>\n",
       "</table>\n",
       "<p>1769990 rows × 61 columns</p>\n",
       "</div>"
      ],
      "text/plain": [
       "             bath       bed  acre_lot   house_size  for_sale  ready_to_build  \\\n",
       "1822437  2.000000  3.000000  0.110000  1400.000000         0               0   \n",
       "2110912  2.000000  3.000000  0.720000  1755.000000         0               0   \n",
       "1664444  2.000000  3.000000  2.550000  1635.000000         0               0   \n",
       "1197301  2.000000  3.000000  0.150000  1812.000000         1               0   \n",
       "1540507  2.000000  3.000000  0.040000  1310.000000         0               0   \n",
       "...           ...       ...       ...          ...       ...             ...   \n",
       "73691    2.000000  3.000000  4.060000  2428.666667         1               0   \n",
       "842505   5.130435  5.565217  0.270000  3382.869565         1               0   \n",
       "494508   2.000000  2.000000  0.152083  1000.000000         1               0   \n",
       "495007   2.000000  2.000000  0.316667  1049.000000         1               0   \n",
       "128852   2.000000  3.000000  0.350000  2003.000000         1               0   \n",
       "\n",
       "         Alaska  Arizona  Arkansas  California  ...  Texas  Utah  Vermont  \\\n",
       "1822437       0        0         0           0  ...      0     0        0   \n",
       "2110912       0        0         0           1  ...      0     0        0   \n",
       "1664444       0        0         0           0  ...      0     0        0   \n",
       "1197301       0        1         0           0  ...      0     0        0   \n",
       "1540507       0        0         0           0  ...      0     0        0   \n",
       "...         ...      ...       ...         ...  ...    ...   ...      ...   \n",
       "73691         0        0         0           0  ...      0     0        0   \n",
       "842505        0        0         0           0  ...      0     0        0   \n",
       "494508        0        0         0           0  ...      0     0        0   \n",
       "495007        0        0         0           0  ...      0     0        0   \n",
       "128852        0        0         0           0  ...      0     0        0   \n",
       "\n",
       "         Virgin Islands  Virginia  Washington  West Virginia  Wisconsin  \\\n",
       "1822437               0         0           0              0          1   \n",
       "2110912               0         0           0              0          0   \n",
       "1664444               0         0           0              0          0   \n",
       "1197301               0         0           0              0          0   \n",
       "1540507               0         0           0              0          0   \n",
       "...                 ...       ...         ...            ...        ...   \n",
       "73691                 0         0           0              0          0   \n",
       "842505                0         0           0              0          0   \n",
       "494508                0         0           0              0          0   \n",
       "495007                0         0           0              0          0   \n",
       "128852                0         0           0              0          0   \n",
       "\n",
       "         Wyoming     price  \n",
       "1822437        0  155000.0  \n",
       "2110912        0  769000.0  \n",
       "1664444        0   99000.0  \n",
       "1197301        0  500000.0  \n",
       "1540507        0  740000.0  \n",
       "...          ...       ...  \n",
       "73691          0  550000.0  \n",
       "842505         0   69000.0  \n",
       "494508         0  145000.0  \n",
       "495007         0  179999.0  \n",
       "128852         0  649000.0  \n",
       "\n",
       "[1769990 rows x 61 columns]"
      ]
     },
     "execution_count": 76,
     "metadata": {},
     "output_type": "execute_result"
    }
   ],
   "source": [
    "train_data = x_train.join(y_train)\n",
    "train_data"
   ]
  },
  {
   "cell_type": "code",
   "execution_count": 77,
   "id": "28e88daf",
   "metadata": {
    "scrolled": true
   },
   "outputs": [
    {
     "data": {
      "text/html": [
       "<div>\n",
       "<style scoped>\n",
       "    .dataframe tbody tr th:only-of-type {\n",
       "        vertical-align: middle;\n",
       "    }\n",
       "\n",
       "    .dataframe tbody tr th {\n",
       "        vertical-align: top;\n",
       "    }\n",
       "\n",
       "    .dataframe thead th {\n",
       "        text-align: right;\n",
       "    }\n",
       "</style>\n",
       "<table border=\"1\" class=\"dataframe\">\n",
       "  <thead>\n",
       "    <tr style=\"text-align: right;\">\n",
       "      <th></th>\n",
       "      <th>bath</th>\n",
       "      <th>bed</th>\n",
       "      <th>acre_lot</th>\n",
       "      <th>house_size</th>\n",
       "      <th>price</th>\n",
       "    </tr>\n",
       "  </thead>\n",
       "  <tbody>\n",
       "    <tr>\n",
       "      <th>bath</th>\n",
       "      <td>1.000000</td>\n",
       "      <td>0.621952</td>\n",
       "      <td>0.003492</td>\n",
       "      <td>0.075157</td>\n",
       "      <td>0.221502</td>\n",
       "    </tr>\n",
       "    <tr>\n",
       "      <th>bed</th>\n",
       "      <td>0.621952</td>\n",
       "      <td>1.000000</td>\n",
       "      <td>0.005702</td>\n",
       "      <td>0.062922</td>\n",
       "      <td>0.132260</td>\n",
       "    </tr>\n",
       "    <tr>\n",
       "      <th>acre_lot</th>\n",
       "      <td>0.003492</td>\n",
       "      <td>0.005702</td>\n",
       "      <td>1.000000</td>\n",
       "      <td>0.021173</td>\n",
       "      <td>0.084595</td>\n",
       "    </tr>\n",
       "    <tr>\n",
       "      <th>house_size</th>\n",
       "      <td>0.075157</td>\n",
       "      <td>0.062922</td>\n",
       "      <td>0.021173</td>\n",
       "      <td>1.000000</td>\n",
       "      <td>0.028730</td>\n",
       "    </tr>\n",
       "    <tr>\n",
       "      <th>price</th>\n",
       "      <td>0.221502</td>\n",
       "      <td>0.132260</td>\n",
       "      <td>0.084595</td>\n",
       "      <td>0.028730</td>\n",
       "      <td>1.000000</td>\n",
       "    </tr>\n",
       "  </tbody>\n",
       "</table>\n",
       "</div>"
      ],
      "text/plain": [
       "                bath       bed  acre_lot  house_size     price\n",
       "bath        1.000000  0.621952  0.003492    0.075157  0.221502\n",
       "bed         0.621952  1.000000  0.005702    0.062922  0.132260\n",
       "acre_lot    0.003492  0.005702  1.000000    0.021173  0.084595\n",
       "house_size  0.075157  0.062922  0.021173    1.000000  0.028730\n",
       "price       0.221502  0.132260  0.084595    0.028730  1.000000"
      ]
     },
     "execution_count": 77,
     "metadata": {},
     "output_type": "execute_result"
    }
   ],
   "source": [
    "train_corr = train_data[['bath', 'bed', 'acre_lot', 'house_size', 'price']]\n",
    "train_corr.corr()"
   ]
  },
  {
   "cell_type": "code",
   "execution_count": 78,
   "id": "1e3d305c",
   "metadata": {
    "scrolled": false
   },
   "outputs": [
    {
     "data": {
      "text/plain": [
       "<Axes: >"
      ]
     },
     "execution_count": 78,
     "metadata": {},
     "output_type": "execute_result"
    },
    {
     "data": {
      "image/png": "[encoded data removed]",
      "text/plain": [
       "<Figure size 640x480 with 2 Axes>"
      ]
     },
     "metadata": {},
     "output_type": "display_data"
    }
   ],
   "source": [
    "sns.heatmap(train_corr.corr(), annot=True, cmap='YlGnBu')# Correlations are not high enough to rduce the dimensionality using Principle Component Analysis (PCA)."
   ]
  },
  {
   "cell_type": "markdown",
   "id": "92e4d517",
   "metadata": {},
   "source": [
    "- There is a positive correlation between house price and number of bed and bath.\n",
    "- There is also slight positive correlation between price and acre_lot and house_size. \n",
    "- There is also a high positive correlation between number of beds and baths.Houses with higher number of beds, also have high number of baths."
   ]
  },
  {
   "cell_type": "markdown",
   "id": "2c2f85c8",
   "metadata": {},
   "source": [
    "# 4. Data Scaling"
   ]
  },
  {
   "cell_type": "markdown",
   "id": "c1f513c3",
   "metadata": {},
   "source": [
    "## 4-1 StandardScaler"
   ]
  },
  {
   "cell_type": "code",
   "execution_count": 79,
   "id": "8aad8fbe",
   "metadata": {},
   "outputs": [],
   "source": [
    "# x_train\n",
    "# Columns of \"bath, bed, acre_lot, house_size\" will be scaled with different techniques"
   ]
  },
  {
   "cell_type": "code",
   "execution_count": 80,
   "id": "b7ee2fa2",
   "metadata": {
    "scrolled": true
   },
   "outputs": [],
   "source": [
    "from sklearn.preprocessing import StandardScaler, Normalizer, MinMaxScaler\n",
    "import matplotlib.pyplot as plt\n",
    "\n",
    "x_train_scale = x_train[['bath', 'bed', 'acre_lot', 'house_size']].to_numpy()\n",
    "\n",
    "scaler = StandardScaler().fit(x_train_scale)\n",
    "x_train_scaled = scaler.transform(x_train_scale)\n",
    "\n",
    "#plt.hist(x_train_scaled[:, 0]) # for the first comlumn : \"bath\""
   ]
  },
  {
   "cell_type": "code",
   "execution_count": 81,
   "id": "57525366",
   "metadata": {},
   "outputs": [
    {
     "data": {
      "text/html": [
       "<div>\n",
       "<style scoped>\n",
       "    .dataframe tbody tr th:only-of-type {\n",
       "        vertical-align: middle;\n",
       "    }\n",
       "\n",
       "    .dataframe tbody tr th {\n",
       "        vertical-align: top;\n",
       "    }\n",
       "\n",
       "    .dataframe thead th {\n",
       "        text-align: right;\n",
       "    }\n",
       "</style>\n",
       "<table border=\"1\" class=\"dataframe\">\n",
       "  <thead>\n",
       "    <tr style=\"text-align: right;\">\n",
       "      <th></th>\n",
       "      <th>bath</th>\n",
       "      <th>bed</th>\n",
       "      <th>acre_lot</th>\n",
       "      <th>house_size</th>\n",
       "    </tr>\n",
       "  </thead>\n",
       "  <tbody>\n",
       "    <tr>\n",
       "      <th>1822437</th>\n",
       "      <td>-0.453399</td>\n",
       "      <td>-0.246659</td>\n",
       "      <td>-0.088688</td>\n",
       "      <td>-0.067330</td>\n",
       "    </tr>\n",
       "    <tr>\n",
       "      <th>2110912</th>\n",
       "      <td>-0.453399</td>\n",
       "      <td>-0.246659</td>\n",
       "      <td>-0.079367</td>\n",
       "      <td>-0.035903</td>\n",
       "    </tr>\n",
       "    <tr>\n",
       "      <th>1664444</th>\n",
       "      <td>-0.453399</td>\n",
       "      <td>-0.246659</td>\n",
       "      <td>-0.051402</td>\n",
       "      <td>-0.046526</td>\n",
       "    </tr>\n",
       "    <tr>\n",
       "      <th>1197301</th>\n",
       "      <td>-0.453399</td>\n",
       "      <td>-0.246659</td>\n",
       "      <td>-0.088077</td>\n",
       "      <td>-0.030857</td>\n",
       "    </tr>\n",
       "    <tr>\n",
       "      <th>1540507</th>\n",
       "      <td>-0.453399</td>\n",
       "      <td>-0.246659</td>\n",
       "      <td>-0.089758</td>\n",
       "      <td>-0.075298</td>\n",
       "    </tr>\n",
       "  </tbody>\n",
       "</table>\n",
       "</div>"
      ],
      "text/plain": [
       "             bath       bed  acre_lot  house_size\n",
       "1822437 -0.453399 -0.246659 -0.088688   -0.067330\n",
       "2110912 -0.453399 -0.246659 -0.079367   -0.035903\n",
       "1664444 -0.453399 -0.246659 -0.051402   -0.046526\n",
       "1197301 -0.453399 -0.246659 -0.088077   -0.030857\n",
       "1540507 -0.453399 -0.246659 -0.089758   -0.075298"
      ]
     },
     "execution_count": 81,
     "metadata": {},
     "output_type": "execute_result"
    }
   ],
   "source": [
    "# Create a new DataFrame with scaled features\n",
    "x_train_scaled_df = pd.DataFrame(x_train_scaled, columns=['bath', 'bed', 'acre_lot', 'house_size'], index=x_train.index)\n",
    "x_train_scaled_df.head()"
   ]
  },
  {
   "cell_type": "code",
   "execution_count": 82,
   "id": "53547d3d",
   "metadata": {
    "scrolled": true
   },
   "outputs": [],
   "source": [
    "x_train.drop(['bath', 'bed', 'acre_lot', 'house_size'], axis=1, inplace=True)\n",
    "# let's remove the columns which are not scaled and add the scaled values later"
   ]
  },
  {
   "cell_type": "code",
   "execution_count": 83,
   "id": "512e1c59",
   "metadata": {},
   "outputs": [
    {
     "data": {
      "text/html": [
       "<div>\n",
       "<style scoped>\n",
       "    .dataframe tbody tr th:only-of-type {\n",
       "        vertical-align: middle;\n",
       "    }\n",
       "\n",
       "    .dataframe tbody tr th {\n",
       "        vertical-align: top;\n",
       "    }\n",
       "\n",
       "    .dataframe thead th {\n",
       "        text-align: right;\n",
       "    }\n",
       "</style>\n",
       "<table border=\"1\" class=\"dataframe\">\n",
       "  <thead>\n",
       "    <tr style=\"text-align: right;\">\n",
       "      <th></th>\n",
       "      <th>bath</th>\n",
       "      <th>bed</th>\n",
       "      <th>acre_lot</th>\n",
       "      <th>house_size</th>\n",
       "      <th>for_sale</th>\n",
       "      <th>ready_to_build</th>\n",
       "      <th>Alaska</th>\n",
       "      <th>Arizona</th>\n",
       "      <th>Arkansas</th>\n",
       "      <th>California</th>\n",
       "      <th>...</th>\n",
       "      <th>Tennessee</th>\n",
       "      <th>Texas</th>\n",
       "      <th>Utah</th>\n",
       "      <th>Vermont</th>\n",
       "      <th>Virgin Islands</th>\n",
       "      <th>Virginia</th>\n",
       "      <th>Washington</th>\n",
       "      <th>West Virginia</th>\n",
       "      <th>Wisconsin</th>\n",
       "      <th>Wyoming</th>\n",
       "    </tr>\n",
       "  </thead>\n",
       "  <tbody>\n",
       "    <tr>\n",
       "      <th>1822437</th>\n",
       "      <td>-0.453399</td>\n",
       "      <td>-0.246659</td>\n",
       "      <td>-0.088688</td>\n",
       "      <td>-0.067330</td>\n",
       "      <td>0</td>\n",
       "      <td>0</td>\n",
       "      <td>0</td>\n",
       "      <td>0</td>\n",
       "      <td>0</td>\n",
       "      <td>0</td>\n",
       "      <td>...</td>\n",
       "      <td>0</td>\n",
       "      <td>0</td>\n",
       "      <td>0</td>\n",
       "      <td>0</td>\n",
       "      <td>0</td>\n",
       "      <td>0</td>\n",
       "      <td>0</td>\n",
       "      <td>0</td>\n",
       "      <td>1</td>\n",
       "      <td>0</td>\n",
       "    </tr>\n",
       "    <tr>\n",
       "      <th>2110912</th>\n",
       "      <td>-0.453399</td>\n",
       "      <td>-0.246659</td>\n",
       "      <td>-0.079367</td>\n",
       "      <td>-0.035903</td>\n",
       "      <td>0</td>\n",
       "      <td>0</td>\n",
       "      <td>0</td>\n",
       "      <td>0</td>\n",
       "      <td>0</td>\n",
       "      <td>1</td>\n",
       "      <td>...</td>\n",
       "      <td>0</td>\n",
       "      <td>0</td>\n",
       "      <td>0</td>\n",
       "      <td>0</td>\n",
       "      <td>0</td>\n",
       "      <td>0</td>\n",
       "      <td>0</td>\n",
       "      <td>0</td>\n",
       "      <td>0</td>\n",
       "      <td>0</td>\n",
       "    </tr>\n",
       "    <tr>\n",
       "      <th>1664444</th>\n",
       "      <td>-0.453399</td>\n",
       "      <td>-0.246659</td>\n",
       "      <td>-0.051402</td>\n",
       "      <td>-0.046526</td>\n",
       "      <td>0</td>\n",
       "      <td>0</td>\n",
       "      <td>0</td>\n",
       "      <td>0</td>\n",
       "      <td>0</td>\n",
       "      <td>0</td>\n",
       "      <td>...</td>\n",
       "      <td>0</td>\n",
       "      <td>0</td>\n",
       "      <td>0</td>\n",
       "      <td>0</td>\n",
       "      <td>0</td>\n",
       "      <td>0</td>\n",
       "      <td>0</td>\n",
       "      <td>0</td>\n",
       "      <td>0</td>\n",
       "      <td>0</td>\n",
       "    </tr>\n",
       "    <tr>\n",
       "      <th>1197301</th>\n",
       "      <td>-0.453399</td>\n",
       "      <td>-0.246659</td>\n",
       "      <td>-0.088077</td>\n",
       "      <td>-0.030857</td>\n",
       "      <td>1</td>\n",
       "      <td>0</td>\n",
       "      <td>0</td>\n",
       "      <td>1</td>\n",
       "      <td>0</td>\n",
       "      <td>0</td>\n",
       "      <td>...</td>\n",
       "      <td>0</td>\n",
       "      <td>0</td>\n",
       "      <td>0</td>\n",
       "      <td>0</td>\n",
       "      <td>0</td>\n",
       "      <td>0</td>\n",
       "      <td>0</td>\n",
       "      <td>0</td>\n",
       "      <td>0</td>\n",
       "      <td>0</td>\n",
       "    </tr>\n",
       "    <tr>\n",
       "      <th>1540507</th>\n",
       "      <td>-0.453399</td>\n",
       "      <td>-0.246659</td>\n",
       "      <td>-0.089758</td>\n",
       "      <td>-0.075298</td>\n",
       "      <td>0</td>\n",
       "      <td>0</td>\n",
       "      <td>0</td>\n",
       "      <td>0</td>\n",
       "      <td>0</td>\n",
       "      <td>0</td>\n",
       "      <td>...</td>\n",
       "      <td>0</td>\n",
       "      <td>0</td>\n",
       "      <td>0</td>\n",
       "      <td>0</td>\n",
       "      <td>0</td>\n",
       "      <td>0</td>\n",
       "      <td>0</td>\n",
       "      <td>0</td>\n",
       "      <td>0</td>\n",
       "      <td>0</td>\n",
       "    </tr>\n",
       "  </tbody>\n",
       "</table>\n",
       "<p>5 rows × 60 columns</p>\n",
       "</div>"
      ],
      "text/plain": [
       "             bath       bed  acre_lot  house_size  for_sale  ready_to_build  \\\n",
       "1822437 -0.453399 -0.246659 -0.088688   -0.067330         0               0   \n",
       "2110912 -0.453399 -0.246659 -0.079367   -0.035903         0               0   \n",
       "1664444 -0.453399 -0.246659 -0.051402   -0.046526         0               0   \n",
       "1197301 -0.453399 -0.246659 -0.088077   -0.030857         1               0   \n",
       "1540507 -0.453399 -0.246659 -0.089758   -0.075298         0               0   \n",
       "\n",
       "         Alaska  Arizona  Arkansas  California  ...  Tennessee  Texas  Utah  \\\n",
       "1822437       0        0         0           0  ...          0      0     0   \n",
       "2110912       0        0         0           1  ...          0      0     0   \n",
       "1664444       0        0         0           0  ...          0      0     0   \n",
       "1197301       0        1         0           0  ...          0      0     0   \n",
       "1540507       0        0         0           0  ...          0      0     0   \n",
       "\n",
       "         Vermont  Virgin Islands  Virginia  Washington  West Virginia  \\\n",
       "1822437        0               0         0           0              0   \n",
       "2110912        0               0         0           0              0   \n",
       "1664444        0               0         0           0              0   \n",
       "1197301        0               0         0           0              0   \n",
       "1540507        0               0         0           0              0   \n",
       "\n",
       "         Wisconsin  Wyoming  \n",
       "1822437          1        0  \n",
       "2110912          0        0  \n",
       "1664444          0        0  \n",
       "1197301          0        0  \n",
       "1540507          0        0  \n",
       "\n",
       "[5 rows x 60 columns]"
      ]
     },
     "execution_count": 83,
     "metadata": {},
     "output_type": "execute_result"
    }
   ],
   "source": [
    "scaled_x_train_full_df = pd.concat([x_train_scaled_df, x_train], axis=1)\n",
    "scaled_x_train_full_df.head()"
   ]
  },
  {
   "cell_type": "code",
   "execution_count": 84,
   "id": "9f8577af",
   "metadata": {},
   "outputs": [],
   "source": [
    "x_val_scale = x_val[['bath', 'bed', 'acre_lot', 'house_size']].to_numpy()\n",
    "x_val_scale\n",
    "\n",
    "scaler = StandardScaler().fit(x_val_scale)\n",
    "x_val_scaled = scaler.transform(x_val_scale)\n",
    "\n",
    "#plt.hist(x_test_scaled[:, 0])"
   ]
  },
  {
   "cell_type": "code",
   "execution_count": 85,
   "id": "b047b3df",
   "metadata": {},
   "outputs": [
    {
     "data": {
      "text/html": [
       "<div>\n",
       "<style scoped>\n",
       "    .dataframe tbody tr th:only-of-type {\n",
       "        vertical-align: middle;\n",
       "    }\n",
       "\n",
       "    .dataframe tbody tr th {\n",
       "        vertical-align: top;\n",
       "    }\n",
       "\n",
       "    .dataframe thead th {\n",
       "        text-align: right;\n",
       "    }\n",
       "</style>\n",
       "<table border=\"1\" class=\"dataframe\">\n",
       "  <thead>\n",
       "    <tr style=\"text-align: right;\">\n",
       "      <th></th>\n",
       "      <th>bath</th>\n",
       "      <th>bed</th>\n",
       "      <th>acre_lot</th>\n",
       "      <th>house_size</th>\n",
       "    </tr>\n",
       "  </thead>\n",
       "  <tbody>\n",
       "    <tr>\n",
       "      <th>1198133</th>\n",
       "      <td>-0.453161</td>\n",
       "      <td>0.678774</td>\n",
       "      <td>-0.087833</td>\n",
       "      <td>-0.022515</td>\n",
       "    </tr>\n",
       "    <tr>\n",
       "      <th>84554</th>\n",
       "      <td>-1.370046</td>\n",
       "      <td>0.678774</td>\n",
       "      <td>-0.089856</td>\n",
       "      <td>-0.070366</td>\n",
       "    </tr>\n",
       "    <tr>\n",
       "      <th>1830183</th>\n",
       "      <td>-0.453161</td>\n",
       "      <td>-1.175566</td>\n",
       "      <td>-0.072742</td>\n",
       "      <td>-0.079475</td>\n",
       "    </tr>\n",
       "    <tr>\n",
       "      <th>990771</th>\n",
       "      <td>1.297256</td>\n",
       "      <td>1.015927</td>\n",
       "      <td>0.008629</td>\n",
       "      <td>0.093003</td>\n",
       "    </tr>\n",
       "    <tr>\n",
       "      <th>691931</th>\n",
       "      <td>2.297494</td>\n",
       "      <td>1.605944</td>\n",
       "      <td>-0.085188</td>\n",
       "      <td>0.080209</td>\n",
       "    </tr>\n",
       "  </tbody>\n",
       "</table>\n",
       "</div>"
      ],
      "text/plain": [
       "             bath       bed  acre_lot  house_size\n",
       "1198133 -0.453161  0.678774 -0.087833   -0.022515\n",
       "84554   -1.370046  0.678774 -0.089856   -0.070366\n",
       "1830183 -0.453161 -1.175566 -0.072742   -0.079475\n",
       "990771   1.297256  1.015927  0.008629    0.093003\n",
       "691931   2.297494  1.605944 -0.085188    0.080209"
      ]
     },
     "execution_count": 85,
     "metadata": {},
     "output_type": "execute_result"
    }
   ],
   "source": [
    "# Create a new DataFrame with scaled features\n",
    "x_val_scaled_df = pd.DataFrame(x_val_scaled, columns=['bath', 'bed', 'acre_lot', 'house_size'], index=x_val.index)\n",
    "x_val_scaled_df.head()"
   ]
  },
  {
   "cell_type": "code",
   "execution_count": 86,
   "id": "2c01282b",
   "metadata": {},
   "outputs": [],
   "source": [
    "x_val.drop(['bath', 'bed', 'acre_lot', 'house_size'], axis=1, inplace=True)"
   ]
  },
  {
   "cell_type": "code",
   "execution_count": 87,
   "id": "582d2b5f",
   "metadata": {},
   "outputs": [
    {
     "data": {
      "text/html": [
       "<div>\n",
       "<style scoped>\n",
       "    .dataframe tbody tr th:only-of-type {\n",
       "        vertical-align: middle;\n",
       "    }\n",
       "\n",
       "    .dataframe tbody tr th {\n",
       "        vertical-align: top;\n",
       "    }\n",
       "\n",
       "    .dataframe thead th {\n",
       "        text-align: right;\n",
       "    }\n",
       "</style>\n",
       "<table border=\"1\" class=\"dataframe\">\n",
       "  <thead>\n",
       "    <tr style=\"text-align: right;\">\n",
       "      <th></th>\n",
       "      <th>bath</th>\n",
       "      <th>bed</th>\n",
       "      <th>acre_lot</th>\n",
       "      <th>house_size</th>\n",
       "      <th>for_sale</th>\n",
       "      <th>ready_to_build</th>\n",
       "      <th>Alaska</th>\n",
       "      <th>Arizona</th>\n",
       "      <th>Arkansas</th>\n",
       "      <th>California</th>\n",
       "      <th>...</th>\n",
       "      <th>Tennessee</th>\n",
       "      <th>Texas</th>\n",
       "      <th>Utah</th>\n",
       "      <th>Vermont</th>\n",
       "      <th>Virgin Islands</th>\n",
       "      <th>Virginia</th>\n",
       "      <th>Washington</th>\n",
       "      <th>West Virginia</th>\n",
       "      <th>Wisconsin</th>\n",
       "      <th>Wyoming</th>\n",
       "    </tr>\n",
       "  </thead>\n",
       "  <tbody>\n",
       "    <tr>\n",
       "      <th>1198133</th>\n",
       "      <td>-0.453161</td>\n",
       "      <td>0.678774</td>\n",
       "      <td>-0.087833</td>\n",
       "      <td>-0.022515</td>\n",
       "      <td>1</td>\n",
       "      <td>0</td>\n",
       "      <td>0</td>\n",
       "      <td>1</td>\n",
       "      <td>0</td>\n",
       "      <td>0</td>\n",
       "      <td>...</td>\n",
       "      <td>0</td>\n",
       "      <td>0</td>\n",
       "      <td>0</td>\n",
       "      <td>0</td>\n",
       "      <td>0</td>\n",
       "      <td>0</td>\n",
       "      <td>0</td>\n",
       "      <td>0</td>\n",
       "      <td>0</td>\n",
       "      <td>0</td>\n",
       "    </tr>\n",
       "    <tr>\n",
       "      <th>84554</th>\n",
       "      <td>-1.370046</td>\n",
       "      <td>0.678774</td>\n",
       "      <td>-0.089856</td>\n",
       "      <td>-0.070366</td>\n",
       "      <td>1</td>\n",
       "      <td>0</td>\n",
       "      <td>0</td>\n",
       "      <td>0</td>\n",
       "      <td>0</td>\n",
       "      <td>0</td>\n",
       "      <td>...</td>\n",
       "      <td>0</td>\n",
       "      <td>0</td>\n",
       "      <td>0</td>\n",
       "      <td>0</td>\n",
       "      <td>0</td>\n",
       "      <td>0</td>\n",
       "      <td>0</td>\n",
       "      <td>0</td>\n",
       "      <td>0</td>\n",
       "      <td>0</td>\n",
       "    </tr>\n",
       "    <tr>\n",
       "      <th>1830183</th>\n",
       "      <td>-0.453161</td>\n",
       "      <td>-1.175566</td>\n",
       "      <td>-0.072742</td>\n",
       "      <td>-0.079475</td>\n",
       "      <td>0</td>\n",
       "      <td>0</td>\n",
       "      <td>0</td>\n",
       "      <td>0</td>\n",
       "      <td>0</td>\n",
       "      <td>0</td>\n",
       "      <td>...</td>\n",
       "      <td>0</td>\n",
       "      <td>0</td>\n",
       "      <td>0</td>\n",
       "      <td>0</td>\n",
       "      <td>0</td>\n",
       "      <td>0</td>\n",
       "      <td>0</td>\n",
       "      <td>0</td>\n",
       "      <td>0</td>\n",
       "      <td>0</td>\n",
       "    </tr>\n",
       "    <tr>\n",
       "      <th>990771</th>\n",
       "      <td>1.297256</td>\n",
       "      <td>1.015927</td>\n",
       "      <td>0.008629</td>\n",
       "      <td>0.093003</td>\n",
       "      <td>1</td>\n",
       "      <td>0</td>\n",
       "      <td>0</td>\n",
       "      <td>0</td>\n",
       "      <td>1</td>\n",
       "      <td>0</td>\n",
       "      <td>...</td>\n",
       "      <td>0</td>\n",
       "      <td>0</td>\n",
       "      <td>0</td>\n",
       "      <td>0</td>\n",
       "      <td>0</td>\n",
       "      <td>0</td>\n",
       "      <td>0</td>\n",
       "      <td>0</td>\n",
       "      <td>0</td>\n",
       "      <td>0</td>\n",
       "    </tr>\n",
       "    <tr>\n",
       "      <th>691931</th>\n",
       "      <td>2.297494</td>\n",
       "      <td>1.605944</td>\n",
       "      <td>-0.085188</td>\n",
       "      <td>0.080209</td>\n",
       "      <td>1</td>\n",
       "      <td>0</td>\n",
       "      <td>0</td>\n",
       "      <td>0</td>\n",
       "      <td>0</td>\n",
       "      <td>0</td>\n",
       "      <td>...</td>\n",
       "      <td>0</td>\n",
       "      <td>0</td>\n",
       "      <td>0</td>\n",
       "      <td>0</td>\n",
       "      <td>0</td>\n",
       "      <td>0</td>\n",
       "      <td>0</td>\n",
       "      <td>0</td>\n",
       "      <td>0</td>\n",
       "      <td>0</td>\n",
       "    </tr>\n",
       "  </tbody>\n",
       "</table>\n",
       "<p>5 rows × 60 columns</p>\n",
       "</div>"
      ],
      "text/plain": [
       "             bath       bed  acre_lot  house_size  for_sale  ready_to_build  \\\n",
       "1198133 -0.453161  0.678774 -0.087833   -0.022515         1               0   \n",
       "84554   -1.370046  0.678774 -0.089856   -0.070366         1               0   \n",
       "1830183 -0.453161 -1.175566 -0.072742   -0.079475         0               0   \n",
       "990771   1.297256  1.015927  0.008629    0.093003         1               0   \n",
       "691931   2.297494  1.605944 -0.085188    0.080209         1               0   \n",
       "\n",
       "         Alaska  Arizona  Arkansas  California  ...  Tennessee  Texas  Utah  \\\n",
       "1198133       0        1         0           0  ...          0      0     0   \n",
       "84554         0        0         0           0  ...          0      0     0   \n",
       "1830183       0        0         0           0  ...          0      0     0   \n",
       "990771        0        0         1           0  ...          0      0     0   \n",
       "691931        0        0         0           0  ...          0      0     0   \n",
       "\n",
       "         Vermont  Virgin Islands  Virginia  Washington  West Virginia  \\\n",
       "1198133        0               0         0           0              0   \n",
       "84554          0               0         0           0              0   \n",
       "1830183        0               0         0           0              0   \n",
       "990771         0               0         0           0              0   \n",
       "691931         0               0         0           0              0   \n",
       "\n",
       "         Wisconsin  Wyoming  \n",
       "1198133          0        0  \n",
       "84554            0        0  \n",
       "1830183          0        0  \n",
       "990771           0        0  \n",
       "691931           0        0  \n",
       "\n",
       "[5 rows x 60 columns]"
      ]
     },
     "execution_count": 87,
     "metadata": {},
     "output_type": "execute_result"
    }
   ],
   "source": [
    "scaled_x_val_full_df = pd.concat([x_val_scaled_df, x_val], axis=1)\n",
    "scaled_x_val_full_df.head()"
   ]
  },
  {
   "cell_type": "code",
   "execution_count": 88,
   "id": "09c3ebc7",
   "metadata": {
    "scrolled": true
   },
   "outputs": [],
   "source": [
    "x_test_scale = x_test[['bath', 'bed', 'acre_lot', 'house_size']].to_numpy()\n",
    "x_test_scale\n",
    "\n",
    "scaler = StandardScaler().fit(x_test_scale)\n",
    "x_test_scaled = scaler.transform(x_test_scale)\n",
    "\n",
    "#plt.hist(x_test_scaled[:, 0])"
   ]
  },
  {
   "cell_type": "code",
   "execution_count": 89,
   "id": "fb52ee9f",
   "metadata": {
    "scrolled": true
   },
   "outputs": [
    {
     "data": {
      "text/html": [
       "<div>\n",
       "<style scoped>\n",
       "    .dataframe tbody tr th:only-of-type {\n",
       "        vertical-align: middle;\n",
       "    }\n",
       "\n",
       "    .dataframe tbody tr th {\n",
       "        vertical-align: top;\n",
       "    }\n",
       "\n",
       "    .dataframe thead th {\n",
       "        text-align: right;\n",
       "    }\n",
       "</style>\n",
       "<table border=\"1\" class=\"dataframe\">\n",
       "  <thead>\n",
       "    <tr style=\"text-align: right;\">\n",
       "      <th></th>\n",
       "      <th>bath</th>\n",
       "      <th>bed</th>\n",
       "      <th>acre_lot</th>\n",
       "      <th>house_size</th>\n",
       "    </tr>\n",
       "  </thead>\n",
       "  <tbody>\n",
       "    <tr>\n",
       "      <th>673320</th>\n",
       "      <td>2.539418</td>\n",
       "      <td>-0.244654</td>\n",
       "      <td>-0.057754</td>\n",
       "      <td>0.006740</td>\n",
       "    </tr>\n",
       "    <tr>\n",
       "      <th>1347803</th>\n",
       "      <td>-0.452976</td>\n",
       "      <td>-0.244654</td>\n",
       "      <td>-0.088955</td>\n",
       "      <td>-0.067474</td>\n",
       "    </tr>\n",
       "    <tr>\n",
       "      <th>383084</th>\n",
       "      <td>0.336227</td>\n",
       "      <td>-0.376337</td>\n",
       "      <td>-0.068631</td>\n",
       "      <td>0.036090</td>\n",
       "    </tr>\n",
       "    <tr>\n",
       "      <th>472310</th>\n",
       "      <td>-0.452976</td>\n",
       "      <td>-0.244654</td>\n",
       "      <td>-0.088638</td>\n",
       "      <td>-0.055316</td>\n",
       "    </tr>\n",
       "    <tr>\n",
       "      <th>980497</th>\n",
       "      <td>4.511051</td>\n",
       "      <td>4.461722</td>\n",
       "      <td>-0.084033</td>\n",
       "      <td>31.794026</td>\n",
       "    </tr>\n",
       "  </tbody>\n",
       "</table>\n",
       "</div>"
      ],
      "text/plain": [
       "             bath       bed  acre_lot  house_size\n",
       "673320   2.539418 -0.244654 -0.057754    0.006740\n",
       "1347803 -0.452976 -0.244654 -0.088955   -0.067474\n",
       "383084   0.336227 -0.376337 -0.068631    0.036090\n",
       "472310  -0.452976 -0.244654 -0.088638   -0.055316\n",
       "980497   4.511051  4.461722 -0.084033   31.794026"
      ]
     },
     "execution_count": 89,
     "metadata": {},
     "output_type": "execute_result"
    }
   ],
   "source": [
    "# Create a new DataFrame with scaled features\n",
    "x_test_scaled_df = pd.DataFrame(x_test_scaled, columns=['bath', 'bed', 'acre_lot', 'house_size'], index=x_test.index)\n",
    "x_test_scaled_df.head()"
   ]
  },
  {
   "cell_type": "code",
   "execution_count": 90,
   "id": "a59d4151",
   "metadata": {
    "scrolled": true
   },
   "outputs": [],
   "source": [
    "x_test.drop(['bath', 'bed', 'acre_lot', 'house_size'], axis=1, inplace=True)"
   ]
  },
  {
   "cell_type": "code",
   "execution_count": 91,
   "id": "20fbb87d",
   "metadata": {
    "scrolled": false
   },
   "outputs": [
    {
     "data": {
      "text/html": [
       "<div>\n",
       "<style scoped>\n",
       "    .dataframe tbody tr th:only-of-type {\n",
       "        vertical-align: middle;\n",
       "    }\n",
       "\n",
       "    .dataframe tbody tr th {\n",
       "        vertical-align: top;\n",
       "    }\n",
       "\n",
       "    .dataframe thead th {\n",
       "        text-align: right;\n",
       "    }\n",
       "</style>\n",
       "<table border=\"1\" class=\"dataframe\">\n",
       "  <thead>\n",
       "    <tr style=\"text-align: right;\">\n",
       "      <th></th>\n",
       "      <th>bath</th>\n",
       "      <th>bed</th>\n",
       "      <th>acre_lot</th>\n",
       "      <th>house_size</th>\n",
       "      <th>for_sale</th>\n",
       "      <th>ready_to_build</th>\n",
       "      <th>Alaska</th>\n",
       "      <th>Arizona</th>\n",
       "      <th>Arkansas</th>\n",
       "      <th>California</th>\n",
       "      <th>...</th>\n",
       "      <th>Tennessee</th>\n",
       "      <th>Texas</th>\n",
       "      <th>Utah</th>\n",
       "      <th>Vermont</th>\n",
       "      <th>Virgin Islands</th>\n",
       "      <th>Virginia</th>\n",
       "      <th>Washington</th>\n",
       "      <th>West Virginia</th>\n",
       "      <th>Wisconsin</th>\n",
       "      <th>Wyoming</th>\n",
       "    </tr>\n",
       "  </thead>\n",
       "  <tbody>\n",
       "    <tr>\n",
       "      <th>673320</th>\n",
       "      <td>2.539418</td>\n",
       "      <td>-0.244654</td>\n",
       "      <td>-0.057754</td>\n",
       "      <td>0.006740</td>\n",
       "      <td>0</td>\n",
       "      <td>1</td>\n",
       "      <td>0</td>\n",
       "      <td>0</td>\n",
       "      <td>0</td>\n",
       "      <td>0</td>\n",
       "      <td>...</td>\n",
       "      <td>0</td>\n",
       "      <td>0</td>\n",
       "      <td>0</td>\n",
       "      <td>0</td>\n",
       "      <td>0</td>\n",
       "      <td>0</td>\n",
       "      <td>0</td>\n",
       "      <td>0</td>\n",
       "      <td>0</td>\n",
       "      <td>0</td>\n",
       "    </tr>\n",
       "    <tr>\n",
       "      <th>1347803</th>\n",
       "      <td>-0.452976</td>\n",
       "      <td>-0.244654</td>\n",
       "      <td>-0.088955</td>\n",
       "      <td>-0.067474</td>\n",
       "      <td>1</td>\n",
       "      <td>0</td>\n",
       "      <td>0</td>\n",
       "      <td>0</td>\n",
       "      <td>0</td>\n",
       "      <td>1</td>\n",
       "      <td>...</td>\n",
       "      <td>0</td>\n",
       "      <td>0</td>\n",
       "      <td>0</td>\n",
       "      <td>0</td>\n",
       "      <td>0</td>\n",
       "      <td>0</td>\n",
       "      <td>0</td>\n",
       "      <td>0</td>\n",
       "      <td>0</td>\n",
       "      <td>0</td>\n",
       "    </tr>\n",
       "    <tr>\n",
       "      <th>383084</th>\n",
       "      <td>0.336227</td>\n",
       "      <td>-0.376337</td>\n",
       "      <td>-0.068631</td>\n",
       "      <td>0.036090</td>\n",
       "      <td>1</td>\n",
       "      <td>0</td>\n",
       "      <td>0</td>\n",
       "      <td>0</td>\n",
       "      <td>0</td>\n",
       "      <td>0</td>\n",
       "      <td>...</td>\n",
       "      <td>0</td>\n",
       "      <td>0</td>\n",
       "      <td>0</td>\n",
       "      <td>0</td>\n",
       "      <td>0</td>\n",
       "      <td>0</td>\n",
       "      <td>0</td>\n",
       "      <td>0</td>\n",
       "      <td>0</td>\n",
       "      <td>0</td>\n",
       "    </tr>\n",
       "    <tr>\n",
       "      <th>472310</th>\n",
       "      <td>-0.452976</td>\n",
       "      <td>-0.244654</td>\n",
       "      <td>-0.088638</td>\n",
       "      <td>-0.055316</td>\n",
       "      <td>1</td>\n",
       "      <td>0</td>\n",
       "      <td>0</td>\n",
       "      <td>0</td>\n",
       "      <td>0</td>\n",
       "      <td>0</td>\n",
       "      <td>...</td>\n",
       "      <td>0</td>\n",
       "      <td>0</td>\n",
       "      <td>0</td>\n",
       "      <td>0</td>\n",
       "      <td>0</td>\n",
       "      <td>0</td>\n",
       "      <td>0</td>\n",
       "      <td>0</td>\n",
       "      <td>0</td>\n",
       "      <td>0</td>\n",
       "    </tr>\n",
       "    <tr>\n",
       "      <th>980497</th>\n",
       "      <td>4.511051</td>\n",
       "      <td>4.461722</td>\n",
       "      <td>-0.084033</td>\n",
       "      <td>31.794026</td>\n",
       "      <td>1</td>\n",
       "      <td>0</td>\n",
       "      <td>0</td>\n",
       "      <td>0</td>\n",
       "      <td>1</td>\n",
       "      <td>0</td>\n",
       "      <td>...</td>\n",
       "      <td>0</td>\n",
       "      <td>0</td>\n",
       "      <td>0</td>\n",
       "      <td>0</td>\n",
       "      <td>0</td>\n",
       "      <td>0</td>\n",
       "      <td>0</td>\n",
       "      <td>0</td>\n",
       "      <td>0</td>\n",
       "      <td>0</td>\n",
       "    </tr>\n",
       "  </tbody>\n",
       "</table>\n",
       "<p>5 rows × 60 columns</p>\n",
       "</div>"
      ],
      "text/plain": [
       "             bath       bed  acre_lot  house_size  for_sale  ready_to_build  \\\n",
       "673320   2.539418 -0.244654 -0.057754    0.006740         0               1   \n",
       "1347803 -0.452976 -0.244654 -0.088955   -0.067474         1               0   \n",
       "383084   0.336227 -0.376337 -0.068631    0.036090         1               0   \n",
       "472310  -0.452976 -0.244654 -0.088638   -0.055316         1               0   \n",
       "980497   4.511051  4.461722 -0.084033   31.794026         1               0   \n",
       "\n",
       "         Alaska  Arizona  Arkansas  California  ...  Tennessee  Texas  Utah  \\\n",
       "673320        0        0         0           0  ...          0      0     0   \n",
       "1347803       0        0         0           1  ...          0      0     0   \n",
       "383084        0        0         0           0  ...          0      0     0   \n",
       "472310        0        0         0           0  ...          0      0     0   \n",
       "980497        0        0         1           0  ...          0      0     0   \n",
       "\n",
       "         Vermont  Virgin Islands  Virginia  Washington  West Virginia  \\\n",
       "673320         0               0         0           0              0   \n",
       "1347803        0               0         0           0              0   \n",
       "383084         0               0         0           0              0   \n",
       "472310         0               0         0           0              0   \n",
       "980497         0               0         0           0              0   \n",
       "\n",
       "         Wisconsin  Wyoming  \n",
       "673320           0        0  \n",
       "1347803          0        0  \n",
       "383084           0        0  \n",
       "472310           0        0  \n",
       "980497           0        0  \n",
       "\n",
       "[5 rows x 60 columns]"
      ]
     },
     "execution_count": 91,
     "metadata": {},
     "output_type": "execute_result"
    }
   ],
   "source": [
    "scaled_x_test_full_df = pd.concat([x_test_scaled_df, x_test], axis=1)\n",
    "scaled_x_test_full_df.head()"
   ]
  },
  {
   "cell_type": "code",
   "execution_count": 92,
   "id": "f5bc395c",
   "metadata": {},
   "outputs": [],
   "source": [
    "y_test_df = pd.DataFrame(y_test, columns=['price'])\n",
    "y_val_df = pd.DataFrame(y_val, columns=['price'])\n",
    "y_train_df = pd.DataFrame(y_train, columns=['price'])"
   ]
  },
  {
   "cell_type": "markdown",
   "id": "ffc99613",
   "metadata": {},
   "source": [
    "## 4-2 Normalizer"
   ]
  },
  {
   "cell_type": "code",
   "execution_count": 93,
   "id": "8ef69344",
   "metadata": {},
   "outputs": [],
   "source": [
    "# Perform train-val-test split\n",
    "\n",
    "x_train, y_train, x_val, y_val, x_test, y_test = train_valid_test_split(df_cat, \n",
    "                                                                        target='price',\n",
    "                                                                        train_size=0.8, \n",
    "                                                                        valid_size= 0.1, \n",
    "                                                                        test_size=0.1, random_state=1)"
   ]
  },
  {
   "cell_type": "code",
   "execution_count": 94,
   "id": "638eef87",
   "metadata": {},
   "outputs": [],
   "source": [
    "x_train_norm = x_train[['bath', 'bed', 'acre_lot', 'house_size']].to_numpy()\n",
    "x_train_norm\n",
    "\n",
    "normalizer = Normalizer().fit(x_train_norm)\n",
    "x_train_normalized = normalizer.transform(x_train_norm)\n",
    "\n",
    "#plt.hist(x_test_scaled[:, 0])"
   ]
  },
  {
   "cell_type": "code",
   "execution_count": 95,
   "id": "09a625ee",
   "metadata": {},
   "outputs": [
    {
     "data": {
      "text/html": [
       "<div>\n",
       "<style scoped>\n",
       "    .dataframe tbody tr th:only-of-type {\n",
       "        vertical-align: middle;\n",
       "    }\n",
       "\n",
       "    .dataframe tbody tr th {\n",
       "        vertical-align: top;\n",
       "    }\n",
       "\n",
       "    .dataframe thead th {\n",
       "        text-align: right;\n",
       "    }\n",
       "</style>\n",
       "<table border=\"1\" class=\"dataframe\">\n",
       "  <thead>\n",
       "    <tr style=\"text-align: right;\">\n",
       "      <th></th>\n",
       "      <th>bath</th>\n",
       "      <th>bed</th>\n",
       "      <th>acre_lot</th>\n",
       "      <th>house_size</th>\n",
       "    </tr>\n",
       "  </thead>\n",
       "  <tbody>\n",
       "    <tr>\n",
       "      <th>1822437</th>\n",
       "      <td>0.001429</td>\n",
       "      <td>0.002143</td>\n",
       "      <td>0.000079</td>\n",
       "      <td>0.999997</td>\n",
       "    </tr>\n",
       "    <tr>\n",
       "      <th>2110912</th>\n",
       "      <td>0.001140</td>\n",
       "      <td>0.001709</td>\n",
       "      <td>0.000410</td>\n",
       "      <td>0.999998</td>\n",
       "    </tr>\n",
       "    <tr>\n",
       "      <th>1664444</th>\n",
       "      <td>0.001223</td>\n",
       "      <td>0.001835</td>\n",
       "      <td>0.001560</td>\n",
       "      <td>0.999996</td>\n",
       "    </tr>\n",
       "    <tr>\n",
       "      <th>1197301</th>\n",
       "      <td>0.001104</td>\n",
       "      <td>0.001656</td>\n",
       "      <td>0.000083</td>\n",
       "      <td>0.999998</td>\n",
       "    </tr>\n",
       "    <tr>\n",
       "      <th>1540507</th>\n",
       "      <td>0.001527</td>\n",
       "      <td>0.002290</td>\n",
       "      <td>0.000031</td>\n",
       "      <td>0.999996</td>\n",
       "    </tr>\n",
       "  </tbody>\n",
       "</table>\n",
       "</div>"
      ],
      "text/plain": [
       "             bath       bed  acre_lot  house_size\n",
       "1822437  0.001429  0.002143  0.000079    0.999997\n",
       "2110912  0.001140  0.001709  0.000410    0.999998\n",
       "1664444  0.001223  0.001835  0.001560    0.999996\n",
       "1197301  0.001104  0.001656  0.000083    0.999998\n",
       "1540507  0.001527  0.002290  0.000031    0.999996"
      ]
     },
     "execution_count": 95,
     "metadata": {},
     "output_type": "execute_result"
    }
   ],
   "source": [
    "# Create a new DataFrame with scaled features\n",
    "x_train_normalized_df = pd.DataFrame(x_train_normalized, columns=['bath', 'bed', 'acre_lot', 'house_size'], index=x_train.index)\n",
    "x_train_normalized_df.head()"
   ]
  },
  {
   "cell_type": "code",
   "execution_count": 96,
   "id": "b6501672",
   "metadata": {},
   "outputs": [],
   "source": [
    "x_train.drop(['bath', 'bed', 'acre_lot', 'house_size'], axis=1, inplace=True)"
   ]
  },
  {
   "cell_type": "code",
   "execution_count": 97,
   "id": "6001b395",
   "metadata": {},
   "outputs": [
    {
     "data": {
      "text/html": [
       "<div>\n",
       "<style scoped>\n",
       "    .dataframe tbody tr th:only-of-type {\n",
       "        vertical-align: middle;\n",
       "    }\n",
       "\n",
       "    .dataframe tbody tr th {\n",
       "        vertical-align: top;\n",
       "    }\n",
       "\n",
       "    .dataframe thead th {\n",
       "        text-align: right;\n",
       "    }\n",
       "</style>\n",
       "<table border=\"1\" class=\"dataframe\">\n",
       "  <thead>\n",
       "    <tr style=\"text-align: right;\">\n",
       "      <th></th>\n",
       "      <th>bath</th>\n",
       "      <th>bed</th>\n",
       "      <th>acre_lot</th>\n",
       "      <th>house_size</th>\n",
       "      <th>for_sale</th>\n",
       "      <th>ready_to_build</th>\n",
       "      <th>Alaska</th>\n",
       "      <th>Arizona</th>\n",
       "      <th>Arkansas</th>\n",
       "      <th>California</th>\n",
       "      <th>...</th>\n",
       "      <th>Tennessee</th>\n",
       "      <th>Texas</th>\n",
       "      <th>Utah</th>\n",
       "      <th>Vermont</th>\n",
       "      <th>Virgin Islands</th>\n",
       "      <th>Virginia</th>\n",
       "      <th>Washington</th>\n",
       "      <th>West Virginia</th>\n",
       "      <th>Wisconsin</th>\n",
       "      <th>Wyoming</th>\n",
       "    </tr>\n",
       "  </thead>\n",
       "  <tbody>\n",
       "    <tr>\n",
       "      <th>1822437</th>\n",
       "      <td>0.001429</td>\n",
       "      <td>0.002143</td>\n",
       "      <td>0.000079</td>\n",
       "      <td>0.999997</td>\n",
       "      <td>0</td>\n",
       "      <td>0</td>\n",
       "      <td>0</td>\n",
       "      <td>0</td>\n",
       "      <td>0</td>\n",
       "      <td>0</td>\n",
       "      <td>...</td>\n",
       "      <td>0</td>\n",
       "      <td>0</td>\n",
       "      <td>0</td>\n",
       "      <td>0</td>\n",
       "      <td>0</td>\n",
       "      <td>0</td>\n",
       "      <td>0</td>\n",
       "      <td>0</td>\n",
       "      <td>1</td>\n",
       "      <td>0</td>\n",
       "    </tr>\n",
       "    <tr>\n",
       "      <th>2110912</th>\n",
       "      <td>0.001140</td>\n",
       "      <td>0.001709</td>\n",
       "      <td>0.000410</td>\n",
       "      <td>0.999998</td>\n",
       "      <td>0</td>\n",
       "      <td>0</td>\n",
       "      <td>0</td>\n",
       "      <td>0</td>\n",
       "      <td>0</td>\n",
       "      <td>1</td>\n",
       "      <td>...</td>\n",
       "      <td>0</td>\n",
       "      <td>0</td>\n",
       "      <td>0</td>\n",
       "      <td>0</td>\n",
       "      <td>0</td>\n",
       "      <td>0</td>\n",
       "      <td>0</td>\n",
       "      <td>0</td>\n",
       "      <td>0</td>\n",
       "      <td>0</td>\n",
       "    </tr>\n",
       "    <tr>\n",
       "      <th>1664444</th>\n",
       "      <td>0.001223</td>\n",
       "      <td>0.001835</td>\n",
       "      <td>0.001560</td>\n",
       "      <td>0.999996</td>\n",
       "      <td>0</td>\n",
       "      <td>0</td>\n",
       "      <td>0</td>\n",
       "      <td>0</td>\n",
       "      <td>0</td>\n",
       "      <td>0</td>\n",
       "      <td>...</td>\n",
       "      <td>0</td>\n",
       "      <td>0</td>\n",
       "      <td>0</td>\n",
       "      <td>0</td>\n",
       "      <td>0</td>\n",
       "      <td>0</td>\n",
       "      <td>0</td>\n",
       "      <td>0</td>\n",
       "      <td>0</td>\n",
       "      <td>0</td>\n",
       "    </tr>\n",
       "    <tr>\n",
       "      <th>1197301</th>\n",
       "      <td>0.001104</td>\n",
       "      <td>0.001656</td>\n",
       "      <td>0.000083</td>\n",
       "      <td>0.999998</td>\n",
       "      <td>1</td>\n",
       "      <td>0</td>\n",
       "      <td>0</td>\n",
       "      <td>1</td>\n",
       "      <td>0</td>\n",
       "      <td>0</td>\n",
       "      <td>...</td>\n",
       "      <td>0</td>\n",
       "      <td>0</td>\n",
       "      <td>0</td>\n",
       "      <td>0</td>\n",
       "      <td>0</td>\n",
       "      <td>0</td>\n",
       "      <td>0</td>\n",
       "      <td>0</td>\n",
       "      <td>0</td>\n",
       "      <td>0</td>\n",
       "    </tr>\n",
       "    <tr>\n",
       "      <th>1540507</th>\n",
       "      <td>0.001527</td>\n",
       "      <td>0.002290</td>\n",
       "      <td>0.000031</td>\n",
       "      <td>0.999996</td>\n",
       "      <td>0</td>\n",
       "      <td>0</td>\n",
       "      <td>0</td>\n",
       "      <td>0</td>\n",
       "      <td>0</td>\n",
       "      <td>0</td>\n",
       "      <td>...</td>\n",
       "      <td>0</td>\n",
       "      <td>0</td>\n",
       "      <td>0</td>\n",
       "      <td>0</td>\n",
       "      <td>0</td>\n",
       "      <td>0</td>\n",
       "      <td>0</td>\n",
       "      <td>0</td>\n",
       "      <td>0</td>\n",
       "      <td>0</td>\n",
       "    </tr>\n",
       "  </tbody>\n",
       "</table>\n",
       "<p>5 rows × 60 columns</p>\n",
       "</div>"
      ],
      "text/plain": [
       "             bath       bed  acre_lot  house_size  for_sale  ready_to_build  \\\n",
       "1822437  0.001429  0.002143  0.000079    0.999997         0               0   \n",
       "2110912  0.001140  0.001709  0.000410    0.999998         0               0   \n",
       "1664444  0.001223  0.001835  0.001560    0.999996         0               0   \n",
       "1197301  0.001104  0.001656  0.000083    0.999998         1               0   \n",
       "1540507  0.001527  0.002290  0.000031    0.999996         0               0   \n",
       "\n",
       "         Alaska  Arizona  Arkansas  California  ...  Tennessee  Texas  Utah  \\\n",
       "1822437       0        0         0           0  ...          0      0     0   \n",
       "2110912       0        0         0           1  ...          0      0     0   \n",
       "1664444       0        0         0           0  ...          0      0     0   \n",
       "1197301       0        1         0           0  ...          0      0     0   \n",
       "1540507       0        0         0           0  ...          0      0     0   \n",
       "\n",
       "         Vermont  Virgin Islands  Virginia  Washington  West Virginia  \\\n",
       "1822437        0               0         0           0              0   \n",
       "2110912        0               0         0           0              0   \n",
       "1664444        0               0         0           0              0   \n",
       "1197301        0               0         0           0              0   \n",
       "1540507        0               0         0           0              0   \n",
       "\n",
       "         Wisconsin  Wyoming  \n",
       "1822437          1        0  \n",
       "2110912          0        0  \n",
       "1664444          0        0  \n",
       "1197301          0        0  \n",
       "1540507          0        0  \n",
       "\n",
       "[5 rows x 60 columns]"
      ]
     },
     "execution_count": 97,
     "metadata": {},
     "output_type": "execute_result"
    }
   ],
   "source": [
    "normalized_x_train_full_df = pd.concat([x_train_normalized_df, x_train], axis=1)\n",
    "normalized_x_train_full_df.head()"
   ]
  },
  {
   "cell_type": "code",
   "execution_count": 98,
   "id": "35776712",
   "metadata": {},
   "outputs": [],
   "source": [
    "x_val_norm = x_val[['bath', 'bed', 'acre_lot', 'house_size']].to_numpy()\n",
    "x_val_norm\n",
    "\n",
    "normalizer = Normalizer().fit(x_val_norm)\n",
    "x_val_normalized = normalizer.transform(x_val_norm)\n",
    "\n",
    "#plt.hist(x_test_scaled[:, 0])"
   ]
  },
  {
   "cell_type": "code",
   "execution_count": 99,
   "id": "67f8e4a0",
   "metadata": {},
   "outputs": [
    {
     "data": {
      "text/html": [
       "<div>\n",
       "<style scoped>\n",
       "    .dataframe tbody tr th:only-of-type {\n",
       "        vertical-align: middle;\n",
       "    }\n",
       "\n",
       "    .dataframe tbody tr th {\n",
       "        vertical-align: top;\n",
       "    }\n",
       "\n",
       "    .dataframe thead th {\n",
       "        text-align: right;\n",
       "    }\n",
       "</style>\n",
       "<table border=\"1\" class=\"dataframe\">\n",
       "  <thead>\n",
       "    <tr style=\"text-align: right;\">\n",
       "      <th></th>\n",
       "      <th>bath</th>\n",
       "      <th>bed</th>\n",
       "      <th>acre_lot</th>\n",
       "      <th>house_size</th>\n",
       "    </tr>\n",
       "  </thead>\n",
       "  <tbody>\n",
       "    <tr>\n",
       "      <th>1198133</th>\n",
       "      <td>0.001034</td>\n",
       "      <td>0.002068</td>\n",
       "      <td>0.000088</td>\n",
       "      <td>0.999997</td>\n",
       "    </tr>\n",
       "    <tr>\n",
       "      <th>84554</th>\n",
       "      <td>0.000668</td>\n",
       "      <td>0.002670</td>\n",
       "      <td>0.000027</td>\n",
       "      <td>0.999996</td>\n",
       "    </tr>\n",
       "    <tr>\n",
       "      <th>1830183</th>\n",
       "      <td>0.001413</td>\n",
       "      <td>0.001413</td>\n",
       "      <td>0.000806</td>\n",
       "      <td>0.999998</td>\n",
       "    </tr>\n",
       "    <tr>\n",
       "      <th>990771</th>\n",
       "      <td>0.001309</td>\n",
       "      <td>0.001461</td>\n",
       "      <td>0.002133</td>\n",
       "      <td>0.999996</td>\n",
       "    </tr>\n",
       "    <tr>\n",
       "      <th>691931</th>\n",
       "      <td>0.001742</td>\n",
       "      <td>0.001742</td>\n",
       "      <td>0.000118</td>\n",
       "      <td>0.999997</td>\n",
       "    </tr>\n",
       "  </tbody>\n",
       "</table>\n",
       "</div>"
      ],
      "text/plain": [
       "             bath       bed  acre_lot  house_size\n",
       "1198133  0.001034  0.002068  0.000088    0.999997\n",
       "84554    0.000668  0.002670  0.000027    0.999996\n",
       "1830183  0.001413  0.001413  0.000806    0.999998\n",
       "990771   0.001309  0.001461  0.002133    0.999996\n",
       "691931   0.001742  0.001742  0.000118    0.999997"
      ]
     },
     "execution_count": 99,
     "metadata": {},
     "output_type": "execute_result"
    }
   ],
   "source": [
    "# Create a new DataFrame with scaled features\n",
    "x_val_normalized_df = pd.DataFrame(x_val_normalized, columns=['bath', 'bed', 'acre_lot', 'house_size'], index=x_val.index)\n",
    "x_val_normalized_df.head()"
   ]
  },
  {
   "cell_type": "code",
   "execution_count": 100,
   "id": "f9f757d1",
   "metadata": {},
   "outputs": [],
   "source": [
    "x_val.drop(['bath', 'bed', 'acre_lot', 'house_size'], axis=1, inplace=True)"
   ]
  },
  {
   "cell_type": "code",
   "execution_count": 101,
   "id": "ce3a8894",
   "metadata": {},
   "outputs": [
    {
     "data": {
      "text/html": [
       "<div>\n",
       "<style scoped>\n",
       "    .dataframe tbody tr th:only-of-type {\n",
       "        vertical-align: middle;\n",
       "    }\n",
       "\n",
       "    .dataframe tbody tr th {\n",
       "        vertical-align: top;\n",
       "    }\n",
       "\n",
       "    .dataframe thead th {\n",
       "        text-align: right;\n",
       "    }\n",
       "</style>\n",
       "<table border=\"1\" class=\"dataframe\">\n",
       "  <thead>\n",
       "    <tr style=\"text-align: right;\">\n",
       "      <th></th>\n",
       "      <th>bath</th>\n",
       "      <th>bed</th>\n",
       "      <th>acre_lot</th>\n",
       "      <th>house_size</th>\n",
       "      <th>for_sale</th>\n",
       "      <th>ready_to_build</th>\n",
       "      <th>Alaska</th>\n",
       "      <th>Arizona</th>\n",
       "      <th>Arkansas</th>\n",
       "      <th>California</th>\n",
       "      <th>...</th>\n",
       "      <th>Tennessee</th>\n",
       "      <th>Texas</th>\n",
       "      <th>Utah</th>\n",
       "      <th>Vermont</th>\n",
       "      <th>Virgin Islands</th>\n",
       "      <th>Virginia</th>\n",
       "      <th>Washington</th>\n",
       "      <th>West Virginia</th>\n",
       "      <th>Wisconsin</th>\n",
       "      <th>Wyoming</th>\n",
       "    </tr>\n",
       "  </thead>\n",
       "  <tbody>\n",
       "    <tr>\n",
       "      <th>1198133</th>\n",
       "      <td>0.001034</td>\n",
       "      <td>0.002068</td>\n",
       "      <td>0.000088</td>\n",
       "      <td>0.999997</td>\n",
       "      <td>1</td>\n",
       "      <td>0</td>\n",
       "      <td>0</td>\n",
       "      <td>1</td>\n",
       "      <td>0</td>\n",
       "      <td>0</td>\n",
       "      <td>...</td>\n",
       "      <td>0</td>\n",
       "      <td>0</td>\n",
       "      <td>0</td>\n",
       "      <td>0</td>\n",
       "      <td>0</td>\n",
       "      <td>0</td>\n",
       "      <td>0</td>\n",
       "      <td>0</td>\n",
       "      <td>0</td>\n",
       "      <td>0</td>\n",
       "    </tr>\n",
       "    <tr>\n",
       "      <th>84554</th>\n",
       "      <td>0.000668</td>\n",
       "      <td>0.002670</td>\n",
       "      <td>0.000027</td>\n",
       "      <td>0.999996</td>\n",
       "      <td>1</td>\n",
       "      <td>0</td>\n",
       "      <td>0</td>\n",
       "      <td>0</td>\n",
       "      <td>0</td>\n",
       "      <td>0</td>\n",
       "      <td>...</td>\n",
       "      <td>0</td>\n",
       "      <td>0</td>\n",
       "      <td>0</td>\n",
       "      <td>0</td>\n",
       "      <td>0</td>\n",
       "      <td>0</td>\n",
       "      <td>0</td>\n",
       "      <td>0</td>\n",
       "      <td>0</td>\n",
       "      <td>0</td>\n",
       "    </tr>\n",
       "    <tr>\n",
       "      <th>1830183</th>\n",
       "      <td>0.001413</td>\n",
       "      <td>0.001413</td>\n",
       "      <td>0.000806</td>\n",
       "      <td>0.999998</td>\n",
       "      <td>0</td>\n",
       "      <td>0</td>\n",
       "      <td>0</td>\n",
       "      <td>0</td>\n",
       "      <td>0</td>\n",
       "      <td>0</td>\n",
       "      <td>...</td>\n",
       "      <td>0</td>\n",
       "      <td>0</td>\n",
       "      <td>0</td>\n",
       "      <td>0</td>\n",
       "      <td>0</td>\n",
       "      <td>0</td>\n",
       "      <td>0</td>\n",
       "      <td>0</td>\n",
       "      <td>0</td>\n",
       "      <td>0</td>\n",
       "    </tr>\n",
       "    <tr>\n",
       "      <th>990771</th>\n",
       "      <td>0.001309</td>\n",
       "      <td>0.001461</td>\n",
       "      <td>0.002133</td>\n",
       "      <td>0.999996</td>\n",
       "      <td>1</td>\n",
       "      <td>0</td>\n",
       "      <td>0</td>\n",
       "      <td>0</td>\n",
       "      <td>1</td>\n",
       "      <td>0</td>\n",
       "      <td>...</td>\n",
       "      <td>0</td>\n",
       "      <td>0</td>\n",
       "      <td>0</td>\n",
       "      <td>0</td>\n",
       "      <td>0</td>\n",
       "      <td>0</td>\n",
       "      <td>0</td>\n",
       "      <td>0</td>\n",
       "      <td>0</td>\n",
       "      <td>0</td>\n",
       "    </tr>\n",
       "    <tr>\n",
       "      <th>691931</th>\n",
       "      <td>0.001742</td>\n",
       "      <td>0.001742</td>\n",
       "      <td>0.000118</td>\n",
       "      <td>0.999997</td>\n",
       "      <td>1</td>\n",
       "      <td>0</td>\n",
       "      <td>0</td>\n",
       "      <td>0</td>\n",
       "      <td>0</td>\n",
       "      <td>0</td>\n",
       "      <td>...</td>\n",
       "      <td>0</td>\n",
       "      <td>0</td>\n",
       "      <td>0</td>\n",
       "      <td>0</td>\n",
       "      <td>0</td>\n",
       "      <td>0</td>\n",
       "      <td>0</td>\n",
       "      <td>0</td>\n",
       "      <td>0</td>\n",
       "      <td>0</td>\n",
       "    </tr>\n",
       "  </tbody>\n",
       "</table>\n",
       "<p>5 rows × 60 columns</p>\n",
       "</div>"
      ],
      "text/plain": [
       "             bath       bed  acre_lot  house_size  for_sale  ready_to_build  \\\n",
       "1198133  0.001034  0.002068  0.000088    0.999997         1               0   \n",
       "84554    0.000668  0.002670  0.000027    0.999996         1               0   \n",
       "1830183  0.001413  0.001413  0.000806    0.999998         0               0   \n",
       "990771   0.001309  0.001461  0.002133    0.999996         1               0   \n",
       "691931   0.001742  0.001742  0.000118    0.999997         1               0   \n",
       "\n",
       "         Alaska  Arizona  Arkansas  California  ...  Tennessee  Texas  Utah  \\\n",
       "1198133       0        1         0           0  ...          0      0     0   \n",
       "84554         0        0         0           0  ...          0      0     0   \n",
       "1830183       0        0         0           0  ...          0      0     0   \n",
       "990771        0        0         1           0  ...          0      0     0   \n",
       "691931        0        0         0           0  ...          0      0     0   \n",
       "\n",
       "         Vermont  Virgin Islands  Virginia  Washington  West Virginia  \\\n",
       "1198133        0               0         0           0              0   \n",
       "84554          0               0         0           0              0   \n",
       "1830183        0               0         0           0              0   \n",
       "990771         0               0         0           0              0   \n",
       "691931         0               0         0           0              0   \n",
       "\n",
       "         Wisconsin  Wyoming  \n",
       "1198133          0        0  \n",
       "84554            0        0  \n",
       "1830183          0        0  \n",
       "990771           0        0  \n",
       "691931           0        0  \n",
       "\n",
       "[5 rows x 60 columns]"
      ]
     },
     "execution_count": 101,
     "metadata": {},
     "output_type": "execute_result"
    }
   ],
   "source": [
    "normalized_x_val_full_df = pd.concat([x_val_normalized_df, x_val], axis=1)\n",
    "normalized_x_val_full_df.head()"
   ]
  },
  {
   "cell_type": "code",
   "execution_count": 102,
   "id": "9b514838",
   "metadata": {},
   "outputs": [],
   "source": [
    "x_test_norm = x_test[['bath', 'bed', 'acre_lot', 'house_size']].to_numpy()\n",
    "x_test_norm\n",
    "\n",
    "normalizer = StandardScaler().fit(x_test_norm)\n",
    "x_test_normalized = scaler.transform(x_test_norm)\n",
    "\n",
    "#plt.hist(x_test_scaled[:, 0])"
   ]
  },
  {
   "cell_type": "code",
   "execution_count": 103,
   "id": "dcebe985",
   "metadata": {},
   "outputs": [
    {
     "data": {
      "text/html": [
       "<div>\n",
       "<style scoped>\n",
       "    .dataframe tbody tr th:only-of-type {\n",
       "        vertical-align: middle;\n",
       "    }\n",
       "\n",
       "    .dataframe tbody tr th {\n",
       "        vertical-align: top;\n",
       "    }\n",
       "\n",
       "    .dataframe thead th {\n",
       "        text-align: right;\n",
       "    }\n",
       "</style>\n",
       "<table border=\"1\" class=\"dataframe\">\n",
       "  <thead>\n",
       "    <tr style=\"text-align: right;\">\n",
       "      <th></th>\n",
       "      <th>bath</th>\n",
       "      <th>bed</th>\n",
       "      <th>acre_lot</th>\n",
       "      <th>house_size</th>\n",
       "    </tr>\n",
       "  </thead>\n",
       "  <tbody>\n",
       "    <tr>\n",
       "      <th>673320</th>\n",
       "      <td>2.539418</td>\n",
       "      <td>-0.244654</td>\n",
       "      <td>-0.057754</td>\n",
       "      <td>0.006740</td>\n",
       "    </tr>\n",
       "    <tr>\n",
       "      <th>1347803</th>\n",
       "      <td>-0.452976</td>\n",
       "      <td>-0.244654</td>\n",
       "      <td>-0.088955</td>\n",
       "      <td>-0.067474</td>\n",
       "    </tr>\n",
       "    <tr>\n",
       "      <th>383084</th>\n",
       "      <td>0.336227</td>\n",
       "      <td>-0.376337</td>\n",
       "      <td>-0.068631</td>\n",
       "      <td>0.036090</td>\n",
       "    </tr>\n",
       "    <tr>\n",
       "      <th>472310</th>\n",
       "      <td>-0.452976</td>\n",
       "      <td>-0.244654</td>\n",
       "      <td>-0.088638</td>\n",
       "      <td>-0.055316</td>\n",
       "    </tr>\n",
       "    <tr>\n",
       "      <th>980497</th>\n",
       "      <td>4.511051</td>\n",
       "      <td>4.461722</td>\n",
       "      <td>-0.084033</td>\n",
       "      <td>31.794026</td>\n",
       "    </tr>\n",
       "  </tbody>\n",
       "</table>\n",
       "</div>"
      ],
      "text/plain": [
       "             bath       bed  acre_lot  house_size\n",
       "673320   2.539418 -0.244654 -0.057754    0.006740\n",
       "1347803 -0.452976 -0.244654 -0.088955   -0.067474\n",
       "383084   0.336227 -0.376337 -0.068631    0.036090\n",
       "472310  -0.452976 -0.244654 -0.088638   -0.055316\n",
       "980497   4.511051  4.461722 -0.084033   31.794026"
      ]
     },
     "execution_count": 103,
     "metadata": {},
     "output_type": "execute_result"
    }
   ],
   "source": [
    "# Create a new DataFrame with scaled features\n",
    "x_test_normalized_df = pd.DataFrame(x_test_normalized, columns=['bath', 'bed', 'acre_lot', 'house_size'], index=x_test.index)\n",
    "x_test_normalized_df.head()"
   ]
  },
  {
   "cell_type": "code",
   "execution_count": 104,
   "id": "a9ebc649",
   "metadata": {},
   "outputs": [],
   "source": [
    "x_test.drop(['bath', 'bed', 'acre_lot', 'house_size'], axis=1, inplace=True)"
   ]
  },
  {
   "cell_type": "code",
   "execution_count": 105,
   "id": "9440522f",
   "metadata": {},
   "outputs": [
    {
     "data": {
      "text/html": [
       "<div>\n",
       "<style scoped>\n",
       "    .dataframe tbody tr th:only-of-type {\n",
       "        vertical-align: middle;\n",
       "    }\n",
       "\n",
       "    .dataframe tbody tr th {\n",
       "        vertical-align: top;\n",
       "    }\n",
       "\n",
       "    .dataframe thead th {\n",
       "        text-align: right;\n",
       "    }\n",
       "</style>\n",
       "<table border=\"1\" class=\"dataframe\">\n",
       "  <thead>\n",
       "    <tr style=\"text-align: right;\">\n",
       "      <th></th>\n",
       "      <th>bath</th>\n",
       "      <th>bed</th>\n",
       "      <th>acre_lot</th>\n",
       "      <th>house_size</th>\n",
       "      <th>for_sale</th>\n",
       "      <th>ready_to_build</th>\n",
       "      <th>Alaska</th>\n",
       "      <th>Arizona</th>\n",
       "      <th>Arkansas</th>\n",
       "      <th>California</th>\n",
       "      <th>...</th>\n",
       "      <th>Tennessee</th>\n",
       "      <th>Texas</th>\n",
       "      <th>Utah</th>\n",
       "      <th>Vermont</th>\n",
       "      <th>Virgin Islands</th>\n",
       "      <th>Virginia</th>\n",
       "      <th>Washington</th>\n",
       "      <th>West Virginia</th>\n",
       "      <th>Wisconsin</th>\n",
       "      <th>Wyoming</th>\n",
       "    </tr>\n",
       "  </thead>\n",
       "  <tbody>\n",
       "    <tr>\n",
       "      <th>673320</th>\n",
       "      <td>2.539418</td>\n",
       "      <td>-0.244654</td>\n",
       "      <td>-0.057754</td>\n",
       "      <td>0.006740</td>\n",
       "      <td>0</td>\n",
       "      <td>1</td>\n",
       "      <td>0</td>\n",
       "      <td>0</td>\n",
       "      <td>0</td>\n",
       "      <td>0</td>\n",
       "      <td>...</td>\n",
       "      <td>0</td>\n",
       "      <td>0</td>\n",
       "      <td>0</td>\n",
       "      <td>0</td>\n",
       "      <td>0</td>\n",
       "      <td>0</td>\n",
       "      <td>0</td>\n",
       "      <td>0</td>\n",
       "      <td>0</td>\n",
       "      <td>0</td>\n",
       "    </tr>\n",
       "    <tr>\n",
       "      <th>1347803</th>\n",
       "      <td>-0.452976</td>\n",
       "      <td>-0.244654</td>\n",
       "      <td>-0.088955</td>\n",
       "      <td>-0.067474</td>\n",
       "      <td>1</td>\n",
       "      <td>0</td>\n",
       "      <td>0</td>\n",
       "      <td>0</td>\n",
       "      <td>0</td>\n",
       "      <td>1</td>\n",
       "      <td>...</td>\n",
       "      <td>0</td>\n",
       "      <td>0</td>\n",
       "      <td>0</td>\n",
       "      <td>0</td>\n",
       "      <td>0</td>\n",
       "      <td>0</td>\n",
       "      <td>0</td>\n",
       "      <td>0</td>\n",
       "      <td>0</td>\n",
       "      <td>0</td>\n",
       "    </tr>\n",
       "    <tr>\n",
       "      <th>383084</th>\n",
       "      <td>0.336227</td>\n",
       "      <td>-0.376337</td>\n",
       "      <td>-0.068631</td>\n",
       "      <td>0.036090</td>\n",
       "      <td>1</td>\n",
       "      <td>0</td>\n",
       "      <td>0</td>\n",
       "      <td>0</td>\n",
       "      <td>0</td>\n",
       "      <td>0</td>\n",
       "      <td>...</td>\n",
       "      <td>0</td>\n",
       "      <td>0</td>\n",
       "      <td>0</td>\n",
       "      <td>0</td>\n",
       "      <td>0</td>\n",
       "      <td>0</td>\n",
       "      <td>0</td>\n",
       "      <td>0</td>\n",
       "      <td>0</td>\n",
       "      <td>0</td>\n",
       "    </tr>\n",
       "    <tr>\n",
       "      <th>472310</th>\n",
       "      <td>-0.452976</td>\n",
       "      <td>-0.244654</td>\n",
       "      <td>-0.088638</td>\n",
       "      <td>-0.055316</td>\n",
       "      <td>1</td>\n",
       "      <td>0</td>\n",
       "      <td>0</td>\n",
       "      <td>0</td>\n",
       "      <td>0</td>\n",
       "      <td>0</td>\n",
       "      <td>...</td>\n",
       "      <td>0</td>\n",
       "      <td>0</td>\n",
       "      <td>0</td>\n",
       "      <td>0</td>\n",
       "      <td>0</td>\n",
       "      <td>0</td>\n",
       "      <td>0</td>\n",
       "      <td>0</td>\n",
       "      <td>0</td>\n",
       "      <td>0</td>\n",
       "    </tr>\n",
       "    <tr>\n",
       "      <th>980497</th>\n",
       "      <td>4.511051</td>\n",
       "      <td>4.461722</td>\n",
       "      <td>-0.084033</td>\n",
       "      <td>31.794026</td>\n",
       "      <td>1</td>\n",
       "      <td>0</td>\n",
       "      <td>0</td>\n",
       "      <td>0</td>\n",
       "      <td>1</td>\n",
       "      <td>0</td>\n",
       "      <td>...</td>\n",
       "      <td>0</td>\n",
       "      <td>0</td>\n",
       "      <td>0</td>\n",
       "      <td>0</td>\n",
       "      <td>0</td>\n",
       "      <td>0</td>\n",
       "      <td>0</td>\n",
       "      <td>0</td>\n",
       "      <td>0</td>\n",
       "      <td>0</td>\n",
       "    </tr>\n",
       "  </tbody>\n",
       "</table>\n",
       "<p>5 rows × 60 columns</p>\n",
       "</div>"
      ],
      "text/plain": [
       "             bath       bed  acre_lot  house_size  for_sale  ready_to_build  \\\n",
       "673320   2.539418 -0.244654 -0.057754    0.006740         0               1   \n",
       "1347803 -0.452976 -0.244654 -0.088955   -0.067474         1               0   \n",
       "383084   0.336227 -0.376337 -0.068631    0.036090         1               0   \n",
       "472310  -0.452976 -0.244654 -0.088638   -0.055316         1               0   \n",
       "980497   4.511051  4.461722 -0.084033   31.794026         1               0   \n",
       "\n",
       "         Alaska  Arizona  Arkansas  California  ...  Tennessee  Texas  Utah  \\\n",
       "673320        0        0         0           0  ...          0      0     0   \n",
       "1347803       0        0         0           1  ...          0      0     0   \n",
       "383084        0        0         0           0  ...          0      0     0   \n",
       "472310        0        0         0           0  ...          0      0     0   \n",
       "980497        0        0         1           0  ...          0      0     0   \n",
       "\n",
       "         Vermont  Virgin Islands  Virginia  Washington  West Virginia  \\\n",
       "673320         0               0         0           0              0   \n",
       "1347803        0               0         0           0              0   \n",
       "383084         0               0         0           0              0   \n",
       "472310         0               0         0           0              0   \n",
       "980497         0               0         0           0              0   \n",
       "\n",
       "         Wisconsin  Wyoming  \n",
       "673320           0        0  \n",
       "1347803          0        0  \n",
       "383084           0        0  \n",
       "472310           0        0  \n",
       "980497           0        0  \n",
       "\n",
       "[5 rows x 60 columns]"
      ]
     },
     "execution_count": 105,
     "metadata": {},
     "output_type": "execute_result"
    }
   ],
   "source": [
    "normalized_x_test_full_df = pd.concat([x_test_normalized_df, x_test], axis=1)\n",
    "normalized_x_test_full_df.head()"
   ]
  },
  {
   "cell_type": "code",
   "execution_count": 106,
   "id": "96775c76",
   "metadata": {},
   "outputs": [],
   "source": [
    "y_test_df = pd.DataFrame(y_test, columns=['price'])\n",
    "y_val_df = pd.DataFrame(y_val, columns=['price'])\n",
    "y_train_df = pd.DataFrame(y_train, columns=['price'])"
   ]
  },
  {
   "cell_type": "markdown",
   "id": "d741972b",
   "metadata": {},
   "source": [
    "## 4-3 MinMaxScaler"
   ]
  },
  {
   "cell_type": "code",
   "execution_count": 107,
   "id": "8a5ca127",
   "metadata": {},
   "outputs": [],
   "source": [
    "# Perform train-val-test split\n",
    "\n",
    "x_train, y_train, x_val, y_val, x_test, y_test = train_valid_test_split(df_cat, \n",
    "                                                                        target='price',\n",
    "                                                                        train_size=0.8, \n",
    "                                                                        valid_size= 0.1, \n",
    "                                                                        test_size=0.1, random_state=1)"
   ]
  },
  {
   "cell_type": "code",
   "execution_count": 108,
   "id": "4bc93b1a",
   "metadata": {},
   "outputs": [],
   "source": [
    "x_train_scale = x_train[['bath', 'bed', 'acre_lot', 'house_size']].to_numpy()\n",
    "\n",
    "scaler = StandardScaler().fit(x_train_scale)\n",
    "x_train_scaled = scaler.transform(x_train_scale)"
   ]
  },
  {
   "cell_type": "code",
   "execution_count": 109,
   "id": "3681434d",
   "metadata": {},
   "outputs": [
    {
     "data": {
      "text/html": [
       "<div>\n",
       "<style scoped>\n",
       "    .dataframe tbody tr th:only-of-type {\n",
       "        vertical-align: middle;\n",
       "    }\n",
       "\n",
       "    .dataframe tbody tr th {\n",
       "        vertical-align: top;\n",
       "    }\n",
       "\n",
       "    .dataframe thead th {\n",
       "        text-align: right;\n",
       "    }\n",
       "</style>\n",
       "<table border=\"1\" class=\"dataframe\">\n",
       "  <thead>\n",
       "    <tr style=\"text-align: right;\">\n",
       "      <th></th>\n",
       "      <th>bath</th>\n",
       "      <th>bed</th>\n",
       "      <th>acre_lot</th>\n",
       "      <th>house_size</th>\n",
       "    </tr>\n",
       "  </thead>\n",
       "  <tbody>\n",
       "    <tr>\n",
       "      <th>1822437</th>\n",
       "      <td>0.001429</td>\n",
       "      <td>0.002143</td>\n",
       "      <td>0.000079</td>\n",
       "      <td>0.999997</td>\n",
       "    </tr>\n",
       "    <tr>\n",
       "      <th>2110912</th>\n",
       "      <td>0.001140</td>\n",
       "      <td>0.001709</td>\n",
       "      <td>0.000410</td>\n",
       "      <td>0.999998</td>\n",
       "    </tr>\n",
       "    <tr>\n",
       "      <th>1664444</th>\n",
       "      <td>0.001223</td>\n",
       "      <td>0.001835</td>\n",
       "      <td>0.001560</td>\n",
       "      <td>0.999996</td>\n",
       "    </tr>\n",
       "    <tr>\n",
       "      <th>1197301</th>\n",
       "      <td>0.001104</td>\n",
       "      <td>0.001656</td>\n",
       "      <td>0.000083</td>\n",
       "      <td>0.999998</td>\n",
       "    </tr>\n",
       "    <tr>\n",
       "      <th>1540507</th>\n",
       "      <td>0.001527</td>\n",
       "      <td>0.002290</td>\n",
       "      <td>0.000031</td>\n",
       "      <td>0.999996</td>\n",
       "    </tr>\n",
       "  </tbody>\n",
       "</table>\n",
       "</div>"
      ],
      "text/plain": [
       "             bath       bed  acre_lot  house_size\n",
       "1822437  0.001429  0.002143  0.000079    0.999997\n",
       "2110912  0.001140  0.001709  0.000410    0.999998\n",
       "1664444  0.001223  0.001835  0.001560    0.999996\n",
       "1197301  0.001104  0.001656  0.000083    0.999998\n",
       "1540507  0.001527  0.002290  0.000031    0.999996"
      ]
     },
     "execution_count": 109,
     "metadata": {},
     "output_type": "execute_result"
    }
   ],
   "source": [
    "# Create a new DataFrame with scaled features\n",
    "x_train_normalized_df = pd.DataFrame(x_train_normalized, columns=['bath', 'bed', 'acre_lot', 'house_size'], index=x_train.index)\n",
    "x_train_normalized_df.head()"
   ]
  },
  {
   "cell_type": "code",
   "execution_count": 110,
   "id": "106d52d7",
   "metadata": {},
   "outputs": [],
   "source": [
    "x_train.drop(['bath', 'bed', 'acre_lot', 'house_size'], axis=1, inplace=True)"
   ]
  },
  {
   "cell_type": "code",
   "execution_count": 111,
   "id": "f0387fe8",
   "metadata": {},
   "outputs": [
    {
     "data": {
      "text/html": [
       "<div>\n",
       "<style scoped>\n",
       "    .dataframe tbody tr th:only-of-type {\n",
       "        vertical-align: middle;\n",
       "    }\n",
       "\n",
       "    .dataframe tbody tr th {\n",
       "        vertical-align: top;\n",
       "    }\n",
       "\n",
       "    .dataframe thead th {\n",
       "        text-align: right;\n",
       "    }\n",
       "</style>\n",
       "<table border=\"1\" class=\"dataframe\">\n",
       "  <thead>\n",
       "    <tr style=\"text-align: right;\">\n",
       "      <th></th>\n",
       "      <th>bath</th>\n",
       "      <th>bed</th>\n",
       "      <th>acre_lot</th>\n",
       "      <th>house_size</th>\n",
       "      <th>bath</th>\n",
       "      <th>bed</th>\n",
       "      <th>acre_lot</th>\n",
       "      <th>house_size</th>\n",
       "      <th>for_sale</th>\n",
       "      <th>ready_to_build</th>\n",
       "      <th>...</th>\n",
       "      <th>Tennessee</th>\n",
       "      <th>Texas</th>\n",
       "      <th>Utah</th>\n",
       "      <th>Vermont</th>\n",
       "      <th>Virgin Islands</th>\n",
       "      <th>Virginia</th>\n",
       "      <th>Washington</th>\n",
       "      <th>West Virginia</th>\n",
       "      <th>Wisconsin</th>\n",
       "      <th>Wyoming</th>\n",
       "    </tr>\n",
       "  </thead>\n",
       "  <tbody>\n",
       "    <tr>\n",
       "      <th>673320</th>\n",
       "      <td>2.539418</td>\n",
       "      <td>-0.244654</td>\n",
       "      <td>-0.057754</td>\n",
       "      <td>0.006740</td>\n",
       "      <td>5.250000</td>\n",
       "      <td>3.000000</td>\n",
       "      <td>2.075</td>\n",
       "      <td>2310.000000</td>\n",
       "      <td>0</td>\n",
       "      <td>1</td>\n",
       "      <td>...</td>\n",
       "      <td>0</td>\n",
       "      <td>0</td>\n",
       "      <td>0</td>\n",
       "      <td>0</td>\n",
       "      <td>0</td>\n",
       "      <td>0</td>\n",
       "      <td>0</td>\n",
       "      <td>0</td>\n",
       "      <td>0</td>\n",
       "      <td>0</td>\n",
       "    </tr>\n",
       "    <tr>\n",
       "      <th>1347803</th>\n",
       "      <td>-0.452976</td>\n",
       "      <td>-0.244654</td>\n",
       "      <td>-0.088955</td>\n",
       "      <td>-0.067474</td>\n",
       "      <td>2.000000</td>\n",
       "      <td>3.000000</td>\n",
       "      <td>0.110</td>\n",
       "      <td>1138.000000</td>\n",
       "      <td>1</td>\n",
       "      <td>0</td>\n",
       "      <td>...</td>\n",
       "      <td>0</td>\n",
       "      <td>0</td>\n",
       "      <td>0</td>\n",
       "      <td>0</td>\n",
       "      <td>0</td>\n",
       "      <td>0</td>\n",
       "      <td>0</td>\n",
       "      <td>0</td>\n",
       "      <td>0</td>\n",
       "      <td>0</td>\n",
       "    </tr>\n",
       "    <tr>\n",
       "      <th>383084</th>\n",
       "      <td>0.336227</td>\n",
       "      <td>-0.376337</td>\n",
       "      <td>-0.068631</td>\n",
       "      <td>0.036090</td>\n",
       "      <td>2.857143</td>\n",
       "      <td>2.857143</td>\n",
       "      <td>1.390</td>\n",
       "      <td>2773.500000</td>\n",
       "      <td>1</td>\n",
       "      <td>0</td>\n",
       "      <td>...</td>\n",
       "      <td>0</td>\n",
       "      <td>0</td>\n",
       "      <td>0</td>\n",
       "      <td>0</td>\n",
       "      <td>0</td>\n",
       "      <td>0</td>\n",
       "      <td>0</td>\n",
       "      <td>0</td>\n",
       "      <td>0</td>\n",
       "      <td>0</td>\n",
       "    </tr>\n",
       "    <tr>\n",
       "      <th>472310</th>\n",
       "      <td>-0.452976</td>\n",
       "      <td>-0.244654</td>\n",
       "      <td>-0.088638</td>\n",
       "      <td>-0.055316</td>\n",
       "      <td>2.000000</td>\n",
       "      <td>3.000000</td>\n",
       "      <td>0.130</td>\n",
       "      <td>1330.000000</td>\n",
       "      <td>1</td>\n",
       "      <td>0</td>\n",
       "      <td>...</td>\n",
       "      <td>0</td>\n",
       "      <td>0</td>\n",
       "      <td>0</td>\n",
       "      <td>0</td>\n",
       "      <td>0</td>\n",
       "      <td>0</td>\n",
       "      <td>0</td>\n",
       "      <td>0</td>\n",
       "      <td>0</td>\n",
       "      <td>0</td>\n",
       "    </tr>\n",
       "    <tr>\n",
       "      <th>980497</th>\n",
       "      <td>4.511051</td>\n",
       "      <td>4.461722</td>\n",
       "      <td>-0.084033</td>\n",
       "      <td>31.794026</td>\n",
       "      <td>7.391364</td>\n",
       "      <td>8.105721</td>\n",
       "      <td>0.420</td>\n",
       "      <td>504297.391304</td>\n",
       "      <td>1</td>\n",
       "      <td>0</td>\n",
       "      <td>...</td>\n",
       "      <td>0</td>\n",
       "      <td>0</td>\n",
       "      <td>0</td>\n",
       "      <td>0</td>\n",
       "      <td>0</td>\n",
       "      <td>0</td>\n",
       "      <td>0</td>\n",
       "      <td>0</td>\n",
       "      <td>0</td>\n",
       "      <td>0</td>\n",
       "    </tr>\n",
       "  </tbody>\n",
       "</table>\n",
       "<p>5 rows × 64 columns</p>\n",
       "</div>"
      ],
      "text/plain": [
       "             bath       bed  acre_lot  house_size      bath       bed  \\\n",
       "673320   2.539418 -0.244654 -0.057754    0.006740  5.250000  3.000000   \n",
       "1347803 -0.452976 -0.244654 -0.088955   -0.067474  2.000000  3.000000   \n",
       "383084   0.336227 -0.376337 -0.068631    0.036090  2.857143  2.857143   \n",
       "472310  -0.452976 -0.244654 -0.088638   -0.055316  2.000000  3.000000   \n",
       "980497   4.511051  4.461722 -0.084033   31.794026  7.391364  8.105721   \n",
       "\n",
       "         acre_lot     house_size  for_sale  ready_to_build  ...  Tennessee  \\\n",
       "673320      2.075    2310.000000         0               1  ...          0   \n",
       "1347803     0.110    1138.000000         1               0  ...          0   \n",
       "383084      1.390    2773.500000         1               0  ...          0   \n",
       "472310      0.130    1330.000000         1               0  ...          0   \n",
       "980497      0.420  504297.391304         1               0  ...          0   \n",
       "\n",
       "         Texas  Utah  Vermont  Virgin Islands  Virginia  Washington  \\\n",
       "673320       0     0        0               0         0           0   \n",
       "1347803      0     0        0               0         0           0   \n",
       "383084       0     0        0               0         0           0   \n",
       "472310       0     0        0               0         0           0   \n",
       "980497       0     0        0               0         0           0   \n",
       "\n",
       "         West Virginia  Wisconsin  Wyoming  \n",
       "673320               0          0        0  \n",
       "1347803              0          0        0  \n",
       "383084               0          0        0  \n",
       "472310               0          0        0  \n",
       "980497               0          0        0  \n",
       "\n",
       "[5 rows x 64 columns]"
      ]
     },
     "execution_count": 111,
     "metadata": {},
     "output_type": "execute_result"
    }
   ],
   "source": [
    "normalized_x_test_full_df = pd.concat([x_test_normalized_df, x_test], axis=1)\n",
    "normalized_x_test_full_df.head()"
   ]
  },
  {
   "cell_type": "code",
   "execution_count": null,
   "id": "6d74eccf",
   "metadata": {},
   "outputs": [],
   "source": []
  },
  {
   "cell_type": "code",
   "execution_count": null,
   "id": "4c459a5d",
   "metadata": {},
   "outputs": [],
   "source": []
  },
  {
   "cell_type": "code",
   "execution_count": null,
   "id": "c7ef7c19",
   "metadata": {},
   "outputs": [],
   "source": []
  },
  {
   "cell_type": "code",
   "execution_count": 112,
   "id": "b95308fe",
   "metadata": {},
   "outputs": [],
   "source": [
    "y_test_df = pd.DataFrame(y_test, columns=['price'])\n",
    "y_val_df = pd.DataFrame(y_val, columns=['price'])\n",
    "y_train_df = pd.DataFrame(y_train, columns=['price'])"
   ]
  },
  {
   "cell_type": "markdown",
   "id": "a970de49",
   "metadata": {},
   "source": [
    "# Baseline Model for Comparison"
   ]
  },
  {
   "cell_type": "code",
   "execution_count": 113,
   "id": "7f52637d",
   "metadata": {},
   "outputs": [],
   "source": [
    "from sklearn.metrics import mean_absolute_error as mae\n",
    "\n",
    "average_house_price = y_train_df['price'].mean()\n",
    "base_line_model_train_prediction = [average_house_price] * len(y_train_df)"
   ]
  },
  {
   "cell_type": "code",
   "execution_count": 114,
   "id": "3a2b925b",
   "metadata": {},
   "outputs": [],
   "source": [
    "average_house_price = y_val_df['price'].mean()\n",
    "base_line_model_val_prediction = [average_house_price] * len(y_val_df)"
   ]
  },
  {
   "cell_type": "code",
   "execution_count": 115,
   "id": "f9e72118",
   "metadata": {},
   "outputs": [
    {
     "data": {
      "text/plain": [
       "409339.224729224"
      ]
     },
     "execution_count": 115,
     "metadata": {},
     "output_type": "execute_result"
    }
   ],
   "source": [
    "mae(base_line_model_train_prediction,  y_train_df)"
   ]
  },
  {
   "cell_type": "code",
   "execution_count": 116,
   "id": "fa5d5257",
   "metadata": {},
   "outputs": [
    {
     "data": {
      "text/plain": [
       "406663.5766480172"
      ]
     },
     "execution_count": 116,
     "metadata": {},
     "output_type": "execute_result"
    }
   ],
   "source": [
    "mae(base_line_model_val_prediction,  y_val_df)"
   ]
  },
  {
   "cell_type": "markdown",
   "id": "c1a4e8a6",
   "metadata": {},
   "source": [
    "# Linear Regression"
   ]
  },
  {
   "cell_type": "code",
   "execution_count": 117,
   "id": "7e7282f9",
   "metadata": {},
   "outputs": [],
   "source": [
    "scaled_x_train_np = scaled_x_train_full_df.to_numpy()\n",
    "y_train_np = y_train_df.to_numpy()\n",
    "\n",
    "scaled_x_val_np = scaled_x_val_full_df.to_numpy()\n",
    "y_val_np = y_val_df.to_numpy()\n",
    "\n",
    "scaled_x_test_np = scaled_x_test_full_df.to_numpy()\n",
    "y_test_np = y_test_df.to_numpy()"
   ]
  },
  {
   "cell_type": "code",
   "execution_count": 118,
   "id": "d36076f5",
   "metadata": {},
   "outputs": [
    {
     "data": {
      "text/plain": [
       "369805.69158815657"
      ]
     },
     "execution_count": 118,
     "metadata": {},
     "output_type": "execute_result"
    }
   ],
   "source": [
    "from sklearn.linear_model import LinearRegression\n",
    "\n",
    "# Create and fit the model\n",
    "model = LinearRegression()\n",
    "model.fit(scaled_x_train_np, y_train_np)\n",
    "\n",
    "# Make predictions\n",
    "predictions = model.predict(scaled_x_train_np)\n",
    "\n",
    "mae(predictions,y_train_np)  "
   ]
  },
  {
   "cell_type": "code",
   "execution_count": 119,
   "id": "1615fa74",
   "metadata": {},
   "outputs": [
    {
     "data": {
      "text/plain": [
       "368175.9243932193"
      ]
     },
     "execution_count": 119,
     "metadata": {},
     "output_type": "execute_result"
    }
   ],
   "source": [
    "# Create and fit the model\n",
    "model = LinearRegression()\n",
    "model.fit(scaled_x_val_np, y_val_np)\n",
    "\n",
    "# Make predictions\n",
    "predictions = model.predict(scaled_x_val_np)\n",
    "\n",
    "mae(predictions,y_val_np)  "
   ]
  },
  {
   "cell_type": "markdown",
   "id": "adf59009",
   "metadata": {},
   "source": [
    "# Gradient Boosting"
   ]
  },
  {
   "cell_type": "code",
   "execution_count": 120,
   "id": "f5062d82",
   "metadata": {},
   "outputs": [
    {
     "data": {
      "text/plain": [
       "345029.31718013843"
      ]
     },
     "execution_count": 120,
     "metadata": {},
     "output_type": "execute_result"
    }
   ],
   "source": [
    "from sklearn.ensemble import GradientBoostingRegressor\n",
    "\n",
    "# Create and fit the model\n",
    "gbr = GradientBoostingRegressor(n_estimators=10)\n",
    "gbr.fit(scaled_x_train_np, y_train_np)\n",
    "\n",
    "# Make predictions\n",
    "predictions = gbr.predict(scaled_x_train_np)\n",
    "\n",
    "mae(predictions, y_train_np) \n"
   ]
  },
  {
   "cell_type": "code",
   "execution_count": 121,
   "id": "c4697448",
   "metadata": {},
   "outputs": [
    {
     "data": {
      "text/plain": [
       "344286.55152862426"
      ]
     },
     "execution_count": 121,
     "metadata": {},
     "output_type": "execute_result"
    }
   ],
   "source": [
    "# Make predictions\n",
    "predictions = gbr.predict(scaled_x_val_np)\n",
    "\n",
    "mae(predictions, y_val_np) "
   ]
  },
  {
   "cell_type": "markdown",
   "id": "11be939f",
   "metadata": {},
   "source": [
    "# Neural Networks"
   ]
  },
  {
   "cell_type": "code",
   "execution_count": 122,
   "id": "95ee1a7b",
   "metadata": {},
   "outputs": [
    {
     "name": "stdout",
     "output_type": "stream",
     "text": [
      "WARNING:tensorflow:From C:\\Users\\Hamid.Azizi\\AppData\\Local\\anaconda3\\Lib\\site-packages\\keras\\src\\losses.py:2976: The name tf.losses.sparse_softmax_cross_entropy is deprecated. Please use tf.compat.v1.losses.sparse_softmax_cross_entropy instead.\n",
      "\n"
     ]
    }
   ],
   "source": [
    "from tensorflow.keras.models import Sequential\n",
    "from tensorflow.keras.layers import *\n",
    "from tensorflow.keras.callbacks import ModelCheckpoint#will save the best model with lowest error\n",
    "from tensorflow.keras.metrics import RootMeanSquaredError\n",
    "from tensorflow.keras.optimizers import Adam"
   ]
  },
  {
   "cell_type": "markdown",
   "id": "f85faded",
   "metadata": {},
   "source": [
    "# 1. Simple Neural Network "
   ]
  },
  {
   "cell_type": "code",
   "execution_count": 123,
   "id": "d4ce7431",
   "metadata": {},
   "outputs": [
    {
     "data": {
      "text/plain": [
       "60"
      ]
     },
     "execution_count": 123,
     "metadata": {},
     "output_type": "execute_result"
    }
   ],
   "source": [
    "scaled_x_train_np.shape[1]"
   ]
  },
  {
   "cell_type": "code",
   "execution_count": 124,
   "id": "b6bcab66",
   "metadata": {
    "scrolled": false
   },
   "outputs": [
    {
     "name": "stdout",
     "output_type": "stream",
     "text": [
      "WARNING:tensorflow:From C:\\Users\\Hamid.Azizi\\AppData\\Local\\anaconda3\\Lib\\site-packages\\keras\\src\\backend.py:873: The name tf.get_default_graph is deprecated. Please use tf.compat.v1.get_default_graph instead.\n",
      "\n",
      "Epoch 1/10\n",
      "WARNING:tensorflow:From C:\\Users\\Hamid.Azizi\\AppData\\Local\\anaconda3\\Lib\\site-packages\\keras\\src\\utils\\tf_utils.py:492: The name tf.ragged.RaggedTensorValue is deprecated. Please use tf.compat.v1.ragged.RaggedTensorValue instead.\n",
      "\n",
      "55282/55313 [============================>.] - ETA: 0s - loss: 2551519117312.0000 - root_mean_squared_error: 1597347.5000INFO:tensorflow:Assets written to: models\\assets\n"
     ]
    },
    {
     "name": "stderr",
     "output_type": "stream",
     "text": [
      "INFO:tensorflow:Assets written to: models\\assets\n"
     ]
    },
    {
     "name": "stdout",
     "output_type": "stream",
     "text": [
      "55313/55313 [==============================] - 50s 884us/step - loss: 2552632967168.0000 - root_mean_squared_error: 1597696.1250 - val_loss: 1368844533760.0000 - val_root_mean_squared_error: 1169976.2500\n",
      "Epoch 2/10\n",
      "55291/55313 [============================>.] - ETA: 0s - loss: 2481190338560.0000 - root_mean_squared_error: 1575179.5000INFO:tensorflow:Assets written to: models\\assets\n"
     ]
    },
    {
     "name": "stderr",
     "output_type": "stream",
     "text": [
      "INFO:tensorflow:Assets written to: models\\assets\n"
     ]
    },
    {
     "name": "stdout",
     "output_type": "stream",
     "text": [
      "55313/55313 [==============================] - 51s 923us/step - loss: 2480492249088.0000 - root_mean_squared_error: 1574957.8750 - val_loss: 1326585085952.0000 - val_root_mean_squared_error: 1151774.7500\n",
      "Epoch 3/10\n",
      "55283/55313 [============================>.] - ETA: 0s - loss: 2448308830208.0000 - root_mean_squared_error: 1564707.2500INFO:tensorflow:Assets written to: models\\assets\n"
     ]
    },
    {
     "name": "stderr",
     "output_type": "stream",
     "text": [
      "INFO:tensorflow:Assets written to: models\\assets\n"
     ]
    },
    {
     "name": "stdout",
     "output_type": "stream",
     "text": [
      "55313/55313 [==============================] - 53s 959us/step - loss: 2447858466816.0000 - root_mean_squared_error: 1564563.3750 - val_loss: 1301899116544.0000 - val_root_mean_squared_error: 1141008.0000\n",
      "Epoch 4/10\n",
      "55258/55313 [============================>.] - ETA: 0s - loss: 2431801360384.0000 - root_mean_squared_error: 1559423.3750INFO:tensorflow:Assets written to: models\\assets\n"
     ]
    },
    {
     "name": "stderr",
     "output_type": "stream",
     "text": [
      "INFO:tensorflow:Assets written to: models\\assets\n"
     ]
    },
    {
     "name": "stdout",
     "output_type": "stream",
     "text": [
      "55313/55313 [==============================] - 52s 938us/step - loss: 2429988110336.0000 - root_mean_squared_error: 1558841.8750 - val_loss: 1289494855680.0000 - val_root_mean_squared_error: 1135559.2500\n",
      "Epoch 5/10\n",
      "55268/55313 [============================>.] - ETA: 0s - loss: 2421573812224.0000 - root_mean_squared_error: 1556140.6250INFO:tensorflow:Assets written to: models\\assets\n"
     ]
    },
    {
     "name": "stderr",
     "output_type": "stream",
     "text": [
      "INFO:tensorflow:Assets written to: models\\assets\n"
     ]
    },
    {
     "name": "stdout",
     "output_type": "stream",
     "text": [
      "55313/55313 [==============================] - 48s 859us/step - loss: 2420035289088.0000 - root_mean_squared_error: 1555646.2500 - val_loss: 1280789970944.0000 - val_root_mean_squared_error: 1131719.8750\n",
      "Epoch 6/10\n",
      "55247/55313 [============================>.] - ETA: 0s - loss: 2414448476160.0000 - root_mean_squared_error: 1553849.6250INFO:tensorflow:Assets written to: models\\assets\n"
     ]
    },
    {
     "name": "stderr",
     "output_type": "stream",
     "text": [
      "INFO:tensorflow:Assets written to: models\\assets\n"
     ]
    },
    {
     "name": "stdout",
     "output_type": "stream",
     "text": [
      "55313/55313 [==============================] - 48s 860us/step - loss: 2413620887552.0000 - root_mean_squared_error: 1553583.2500 - val_loss: 1276761210880.0000 - val_root_mean_squared_error: 1129938.6250\n",
      "Epoch 7/10\n",
      "55275/55313 [============================>.] - ETA: 0s - loss: 2410510811136.0000 - root_mean_squared_error: 1552582.0000INFO:tensorflow:Assets written to: models\\assets\n"
     ]
    },
    {
     "name": "stderr",
     "output_type": "stream",
     "text": [
      "INFO:tensorflow:Assets written to: models\\assets\n"
     ]
    },
    {
     "name": "stdout",
     "output_type": "stream",
     "text": [
      "55313/55313 [==============================] - 47s 849us/step - loss: 2409156837376.0000 - root_mean_squared_error: 1552145.8750 - val_loss: 1273096306688.0000 - val_root_mean_squared_error: 1128315.7500\n",
      "Epoch 8/10\n",
      "55275/55313 [============================>.] - ETA: 0s - loss: 2408720105472.0000 - root_mean_squared_error: 1552005.2500INFO:tensorflow:Assets written to: models\\assets\n"
     ]
    },
    {
     "name": "stderr",
     "output_type": "stream",
     "text": [
      "INFO:tensorflow:Assets written to: models\\assets\n"
     ]
    },
    {
     "name": "stdout",
     "output_type": "stream",
     "text": [
      "55313/55313 [==============================] - 47s 849us/step - loss: 2407318683648.0000 - root_mean_squared_error: 1551553.6250 - val_loss: 1270805037056.0000 - val_root_mean_squared_error: 1127299.8750\n",
      "Epoch 9/10\n",
      "55270/55313 [============================>.] - ETA: 0s - loss: 2408833089536.0000 - root_mean_squared_error: 1552041.6250INFO:tensorflow:Assets written to: models\\assets\n"
     ]
    },
    {
     "name": "stderr",
     "output_type": "stream",
     "text": [
      "INFO:tensorflow:Assets written to: models\\assets\n"
     ]
    },
    {
     "name": "stdout",
     "output_type": "stream",
     "text": [
      "55313/55313 [==============================] - 47s 841us/step - loss: 2407342800896.0000 - root_mean_squared_error: 1551561.3750 - val_loss: 1270318891008.0000 - val_root_mean_squared_error: 1127084.2500\n",
      "Epoch 10/10\n",
      "55304/55313 [============================>.] - ETA: 0s - loss: 2404846141440.0000 - root_mean_squared_error: 1550756.6250INFO:tensorflow:Assets written to: models\\assets\n"
     ]
    },
    {
     "name": "stderr",
     "output_type": "stream",
     "text": [
      "INFO:tensorflow:Assets written to: models\\assets\n"
     ]
    },
    {
     "name": "stdout",
     "output_type": "stream",
     "text": [
      "55313/55313 [==============================] - 47s 848us/step - loss: 2404538122240.0000 - root_mean_squared_error: 1550657.3750 - val_loss: 1268214530048.0000 - val_root_mean_squared_error: 1126150.3750\n"
     ]
    },
    {
     "data": {
      "text/plain": [
       "<keras.src.callbacks.History at 0x2cce3786490>"
      ]
     },
     "execution_count": 124,
     "metadata": {},
     "output_type": "execute_result"
    }
   ],
   "source": [
    "simple_nn = Sequential()\n",
    "simple_nn.add(InputLayer(scaled_x_train_np.shape[1],))\n",
    "simple_nn.add(Dense(2, 'relu'))\n",
    "simple_nn.add(Dense(1, 'linear'))\n",
    "\n",
    "optimizer = Adam(learning_rate=0.1)\n",
    "compiler = ModelCheckpoint('models', save_best_only=True)\n",
    "simple_nn.compile(optimizer=optimizer, loss='mse', metrics=[RootMeanSquaredError()])\n",
    "simple_nn.fit(x=scaled_x_train_np, y=y_train_np, validation_data=(scaled_x_val_np, y_val_np), callbacks=[compiler], epochs=10)\n"
   ]
  },
  {
   "cell_type": "code",
   "execution_count": 128,
   "id": "de128176",
   "metadata": {},
   "outputs": [
    {
     "ename": "ImportError",
     "evalue": "cannot import name 'load_model' from 'tensorflow.keras' (C:\\Users\\Hamid.Azizi\\AppData\\Local\\anaconda3\\Lib\\site-packages\\keras\\api\\_v2\\keras\\__init__.py)",
     "output_type": "error",
     "traceback": [
      "\u001b[1;31m---------------------------------------------------------------------------\u001b[0m",
      "\u001b[1;31mImportError\u001b[0m                               Traceback (most recent call last)",
      "Cell \u001b[1;32mIn[128], line 2\u001b[0m\n\u001b[0;32m      1\u001b[0m \u001b[38;5;66;03m# Load the model\u001b[39;00m\n\u001b[1;32m----> 2\u001b[0m \u001b[38;5;28;01mfrom\u001b[39;00m \u001b[38;5;21;01mtensorflow\u001b[39;00m\u001b[38;5;21;01m.\u001b[39;00m\u001b[38;5;21;01mkeras\u001b[39;00m \u001b[38;5;28;01mimport\u001b[39;00m load_model\n\u001b[0;32m      4\u001b[0m simple_nn \u001b[38;5;241m=\u001b[39m Model(\u001b[38;5;124m'\u001b[39m\u001b[38;5;124mmodels/simple_nn\u001b[39m\u001b[38;5;124m'\u001b[39m)\n\u001b[0;32m      6\u001b[0m mse(simple_nn\u001b[38;5;241m.\u001b[39mpredict(scaled_x_train_np), y_train_np, squared\u001b[38;5;241m=\u001b[39m\u001b[38;5;28;01mFalse\u001b[39;00m), mse(simple_nn\u001b[38;5;241m.\u001b[39mpredict(scaled_x_val_np), y_val_np, squared\u001b[38;5;241m=\u001b[39m\u001b[38;5;28;01mFalse\u001b[39;00m)\n",
      "\u001b[1;31mImportError\u001b[0m: cannot import name 'load_model' from 'tensorflow.keras' (C:\\Users\\Hamid.Azizi\\AppData\\Local\\anaconda3\\Lib\\site-packages\\keras\\api\\_v2\\keras\\__init__.py)"
     ]
    }
   ],
   "source": [
    "# Load the model\n",
    "from tensorflow.keras.model import load_model\n",
    "\n",
    "simple_nn = Model('models/simple_nn')\n",
    "\n",
    "mse(simple_nn.predict(scaled_x_train_np), y_train_np, squared=False), mse(simple_nn.predict(scaled_x_val_np), y_val_np, squared=False)"
   ]
  },
  {
   "cell_type": "code",
   "execution_count": null,
   "id": "5ca2bdb5",
   "metadata": {},
   "outputs": [],
   "source": [
    "medium_nn = Sequential()\n",
    "medium_nn.add(InputLayer(scaled_x_train_np.shape[1],))\n",
    "medium_nn.add(Dense(32, 'relu'))\n",
    "medium_nn.add(Dense(16, 'relu'))\n",
    "medium_nn.add(Dense(1, 'linear'))\n",
    "\n",
    "optimizer = Adam(learning_rate=0.1)\n",
    "compiler = ModelCheckpoint('models/medium_nn', save_best_only=True)\n",
    "medium_nn.compile(optimizer=optimizer, loss='mse', metrics=[RootMeanSquaredError()])\n",
    "medium_nn.fit(x=scaled_x_train_np, y=y_train_np, validation_data=(scaled_x_val_np, y_val_np), callbacks=[compiler], epochs=10)"
   ]
  },
  {
   "cell_type": "code",
   "execution_count": null,
   "id": "c5e31652",
   "metadata": {},
   "outputs": [],
   "source": [
    "# Load the model\n",
    "from tensorflow.keras.model import load_model\n",
    "\n",
    "medium_nn = load_model('models/medium_nn')\n",
    "\n",
    "mse(medium_nn.predict(scaled_x_train_np), y_train_np, squared=False), mse(medium_nn.predict(scaled_x_val_np), y_val_np, squared=False)"
   ]
  },
  {
   "cell_type": "code",
   "execution_count": null,
   "id": "e9b07498",
   "metadata": {},
   "outputs": [],
   "source": [
    "complex_nn = Sequential()\n",
    "complex_nn.add(InputLayer(scaled_x_train_np.shape[1],))\n",
    "complex_nn.add(Dense(256, 'relu'))\n",
    "complex_nn.add(Dense(128, 'relu'))\n",
    "complex_nn.add(Dense(64, 'relu'))\n",
    "complex_nn.add(Dense(32, 'relu'))\n",
    "complex_nn.add(Dense(1, 'linear'))\n",
    "\n",
    "optimizer = Adam(learning_rate=0.1)\n",
    "compiler = ModelCheckpoint('models/medium_nn', save_best_only=True)\n",
    "complex_nn.compile(optimizer=optimizer, loss='mse', metrics=[RootMeanSquaredError()])\n",
    "complex_nn.fit(x=scaled_x_train_np, y=y_train_np, validation_data=(scaled_x_val_np, y_val_np), callbacks=[compiler], epochs=10)"
   ]
  },
  {
   "cell_type": "code",
   "execution_count": null,
   "id": "2fc7aea0",
   "metadata": {},
   "outputs": [],
   "source": [
    "# Load the model\n",
    "from tensorflow.keras.model import load_model\n",
    "\n",
    "complex_nn = load_model('models/complex_nn')\n",
    "\n",
    "mse(complex_nn.predict(scaled_x_train_np), y_train_np, squared=False), mse(complex_nn.predict(scaled_x_val_np), y_val_np, squared=False)"
   ]
  }
 ],
 "metadata": {
  "kernelspec": {
   "display_name": "Python 3 (ipykernel)",
   "language": "python",
   "name": "python3"
  },
  "language_info": {
   "codemirror_mode": {
    "name": "ipython",
    "version": 3
   },
   "file_extension": ".py",
   "mimetype": "text/x-python",
   "name": "python",
   "nbconvert_exporter": "python",
   "pygments_lexer": "ipython3",
   "version": "3.11.5"
  }
 },
 "nbformat": 4,
 "nbformat_minor": 5
}
